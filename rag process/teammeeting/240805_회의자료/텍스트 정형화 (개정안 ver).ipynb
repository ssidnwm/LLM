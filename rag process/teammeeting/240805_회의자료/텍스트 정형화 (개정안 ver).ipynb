{
 "cells": [
  {
   "cell_type": "markdown",
   "metadata": {},
   "source": [
    "## 라이브러리 임포트"
   ]
  },
  {
   "cell_type": "code",
   "execution_count": 1,
   "metadata": {},
   "outputs": [],
   "source": [
    "import re"
   ]
  },
  {
   "cell_type": "markdown",
   "metadata": {},
   "source": [
    "## .txt 파일 추출"
   ]
  },
  {
   "cell_type": "code",
   "execution_count": 2,
   "metadata": {},
   "outputs": [
    {
     "name": "stdout",
     "output_type": "stream",
     "text": [
      "Paragraphs 2.31. to 2.32., renumber to read:  \n",
      "\"2.31.  \"Braking Signal\"  means a logic signal indicating when illumination of the stop lamp \n",
      "is required or allowed as specified in paragraph 5.1.17. of this Regulation.  \n",
      "2.32.  \"Electric Regenerative Braking System \" means a braking system which, during \n",
      "deceleration, provides for th e conversion of vehicle kinetic energy into electrical \n",
      "energy and is not part of the service braking system.  \n",
      "2.33.  \"Disable the antilock brake system \" means to put the system into a state where it will \n",
      "no longer fulfil the technical requirements in paragra ph 9 of Annex 3 to this \n",
      "Regulation. \" \n",
      "Paragraph 5.1.17.2., amend to read:  \n",
      "\"5.1.17.2.  In addition, in case of vehicles  equipped with electric  regenerative braking systems, \n",
      "which produces a retarding force upon release of the accelerator control, the braking \n",
      "signal shall be generated also according to the following provisions 4: \n",
      "Vehicle deceleration by regenerative braking  Signal generation  \n",
      "≤ 1.3 m/s²  The signal may be generated  \n",
      "> 1.3  m/s² The signal shall be generated  \n",
      "An appropriate measure (e.g.  switch -of-hysteresis, averaging, time delay) shall be \n",
      "implemented in order to avoid fast changes of the signal resulting in flickering of the \n",
      "stop lamps.  \n",
      "    \n",
      " 4 At the time of type approval, compliance with this requirement shall be confirmed by the vehic le \n",
      "manufacturer .\" \n",
      "Insert new paragraph 5.1.17.3. , to read:  \n",
      "\"5.1.17.3.  Once generated, the signal shall be kept as long as a deceleration demand by the \n",
      "electric regenerative braking persists. However, the signal may be suppressed at \n",
      "standstill.  \n",
      "The signal shall not be generated when retardation is solely produced by the \n",
      "natural braking effect of the engine, air -/rolling resistance and/or road slope .\" \n",
      "Annex 3, paragraph 1.1.3. , amend to read:  \n",
      "\"1.1.3.  Measurement of PBC:  \n",
      "The PBC is measured as determined by the Type Approval Authority using \n",
      "either:  \n",
      "(a) An ASTM International (ASTM) E1136 -19 standard reference test tyre, \n",
      "in accordance with ASTM Method  E1337 -19, at a speed of 40 mph; or  \n",
      "(b) An ASTM International (ASTM) F2493 -20 standard reference t est tyre, \n",
      "in accordance with ASTM Method  E1337 -19, at a speed of 40 mph1; or \n",
      "(c) The method specified in the Appendix 1 to this annex.  \n",
      "    \n",
      " 1  In this case, the obtained PBC shall be converted into the equivalent value corresponding to ASTM \n",
      "E1136 -19 standa rd reference test tyre, according to the correlation equation described in ASTM \n",
      "E1337 -19.\" \n",
      "    \n",
      " \n",
      " \n",
      "[END OF PAGE]\n",
      "\n",
      "\n"
     ]
    }
   ],
   "source": [
    "# 추출 경로\n",
    "data_path=r'G:\\내 드라이브\\LAB_works\\법률 LLM 프로젝트\\data\\데이터 전처리\\2. 가공 텍스트\\R078r3am1e_unprocessed.txt'\n",
    "\n",
    "# 텍스트 데이터 추출\n",
    "with open(data_path, 'rb') as source:\n",
    "    lines = source.readlines()\n",
    "    lines = [element.decode('utf-8') for element in lines]\n",
    "\n",
    "text_sum = ''.join(lines)    \n",
    "print(text_sum)"
   ]
  },
  {
   "cell_type": "markdown",
   "metadata": {},
   "source": [
    "## 주석 제거"
   ]
  },
  {
   "cell_type": "code",
   "execution_count": 3,
   "metadata": {},
   "outputs": [],
   "source": [
    "# 주석 제거\n",
    " ## 주석 시작 행 확인\n",
    "pattern_startAnnotation = r'\\s[1-9]\\s'\n",
    "idxl_startAnnotation = [index for index, line in enumerate(lines) if re.match(pattern_startAnnotation, line)]\n",
    "\n",
    "patten_startMain = r\".*?\\bto read:\"\n",
    "idxl_startMain = [index for index, line in enumerate(lines) if re.match(patten_startMain, line)]\n",
    "\n",
    "pattern_endPage = r'^\\[END OF PAGE\\]'\n",
    "idxl_endPage = [index for index, line in enumerate(lines) if re.match(pattern_endPage, line)]\n",
    "\n",
    "idxl_endAnnotation = idxl_startMain + idxl_endPage\n",
    "idxl_endAnnotation.sort()\n",
    "\n",
    " ## 주석 종료 행 확인 및 범위 특정\n",
    "idxl_remove = []\n",
    "for idx_start in idxl_startAnnotation:\n",
    "    idx_cursor = idx_start\n",
    "    \n",
    "    while(idx_cursor not in idxl_endAnnotation):\n",
    "        idxl_remove.append(idx_cursor)\n",
    "        idx_cursor = idx_cursor + 1\n",
    "        \n",
    " ## 주석 제거\n",
    "lines_processed = lines.copy()\n",
    "for idx_remove in sorted(idxl_remove, reverse=True):\n",
    "    lines_processed.pop(idx_remove)"
   ]
  },
  {
   "cell_type": "code",
   "execution_count": 303,
   "metadata": {},
   "outputs": [
    {
     "name": "stdout",
     "output_type": "stream",
     "text": [
      "Paragraphs 2.31. to 2.32., renumber to read:  \n",
      "\"2.31.  \"Braking Signal\"  means a logic signal indicating when illumination of the stop lamp \n",
      "is required or allowed as specified in paragraph 5.1.17. of this Regulation.  \n",
      "2.32.  \"Electric Regenerative Braking System \" means a braking system which, during \n",
      "deceleration, provides for th e conversion of vehicle kinetic energy into electrical \n",
      "energy and is not part of the service braking system.  \n",
      "2.33.  \"Disable the antilock brake system \" means to put the system into a state where it will \n",
      "no longer fulfil the technical requirements in paragra ph 9 of Annex 3 to this \n",
      "Regulation. \" \n",
      "Paragraph 5.1.17.2., amend to read:  \n",
      "\"5.1.17.2.  In addition, in case of vehicles  equipped with electric  regenerative braking systems, \n",
      "which produces a retarding force upon release of the accelerator control, the braking \n",
      "signal shall be generated also according to the following provisions 4: \n",
      "Vehicle deceleration by regenerative braking  Signal generation  \n",
      "≤ 1.3 m/s²  The signal may be generated  \n",
      "> 1.3  m/s² The signal shall be generated  \n",
      "An appropriate measure (e.g.  switch -of-hysteresis, averaging, time delay) shall be \n",
      "implemented in order to avoid fast changes of the signal resulting in flickering of the \n",
      "stop lamps.  \n",
      "    \n",
      "Insert new paragraph 5.1.17.3. , to read:  \n",
      "\"5.1.17.3.  Once generated, the signal shall be kept as long as a deceleration demand by the \n",
      "electric regenerative braking persists. However, the signal may be suppressed at \n",
      "standstill.  \n",
      "The signal shall not be generated when retardation is solely produced by the \n",
      "natural braking effect of the engine, air -/rolling resistance and/or road slope .\" \n",
      "Annex 3, paragraph 1.1.3. , amend to read:  \n",
      "\"1.1.3.  Measurement of PBC:  \n",
      "The PBC is measured as determined by the Type Approval Authority using \n",
      "either:  \n",
      "(a) An ASTM International (ASTM) E1136 -19 standard reference test tyre, \n",
      "in accordance with ASTM Method  E1337 -19, at a speed of 40 mph; or  \n",
      "(b) An ASTM International (ASTM) F2493 -20 standard reference t est tyre, \n",
      "in accordance with ASTM Method  E1337 -19, at a speed of 40 mph1; or \n",
      "(c) The method specified in the Appendix 1 to this annex.  \n",
      "    \n",
      "[END OF PAGE]\n",
      "\n",
      "\n"
     ]
    }
   ],
   "source": [
    "# 테스트 - 가공 텍스트 출력\n",
    "text_sum = ''.join(lines_processed)\n",
    "print(text_sum)"
   ]
  },
  {
   "cell_type": "code",
   "execution_count": 263,
   "metadata": {},
   "outputs": [
    {
     "data": {
      "text/plain": [
       "[]"
      ]
     },
     "execution_count": 263,
     "metadata": {},
     "output_type": "execute_result"
    }
   ],
   "source": [
    "# 테스트 - 주석 시작 행\n",
    "pattern = r'\\s[1-9]\\s'\n",
    "matched_test = [line for index, line in enumerate(lines_processed) if re.match(pattern, line)]\n",
    "matched_test"
   ]
  },
  {
   "cell_type": "code",
   "execution_count": null,
   "metadata": {},
   "outputs": [],
   "source": [
    "# 테스트 - 페이지 종료 행\n",
    "matched_test = [line for index, line in enumerate(lines) if \"[END OF PAGE]\" in line]\n",
    "matched_test"
   ]
  },
  {
   "cell_type": "markdown",
   "metadata": {},
   "source": [
    "## 시작 \\\\\" 과 종료 \\\\\" 제거"
   ]
  },
  {
   "cell_type": "code",
   "execution_count": 4,
   "metadata": {},
   "outputs": [],
   "source": [
    "pattern_startWithQuote = r\"^\\\"\"\n",
    "idxL_startWithQuote = [index for index, line in enumerate(lines_processed) if re.match(pattern_startWithQuote, line)]\n",
    "\n",
    "pattern_endtWithQuote = r\".*\\\"\\s\\n$\"\n",
    "idxL_endWithQuote = [index for index, line in enumerate(lines_processed) if re.match(pattern_endtWithQuote, line)]\n",
    "\n",
    "for idx_startWithQuote in idxL_startWithQuote:\n",
    "    lines_processed[idx_startWithQuote] = lines_processed[idx_startWithQuote][1:]\n",
    "    \n",
    "for idx_endWithQuote in idxL_endWithQuote:\n",
    "    lines_processed[idx_endWithQuote] = lines_processed[idx_endWithQuote][:-3] + lines_processed[idx_endWithQuote][-1:] "
   ]
  },
  {
   "cell_type": "markdown",
   "metadata": {},
   "source": [
    "## 특수 데이터 제거 (이미지, 테이블, 수식)"
   ]
  },
  {
   "cell_type": "code",
   "execution_count": 5,
   "metadata": {},
   "outputs": [],
   "source": [
    "# 특수 데이터 제거\n",
    " ## 특수 데이터 시작 시점 확인\n",
    "pattern_endWithColon = r\".*\\:\\s{1,}\\n$\"\n",
    "idxL_endWithColon = [index for index, line in enumerate(lines_processed) if re.match(pattern_endWithColon, line)]\n",
    "\n",
    "patten_startMain = r\".*?\\bto read:\"\n",
    "idxl_startMain = [index for index, line in enumerate(lines_processed) if re.match(patten_startMain, line)]\n",
    "\n",
    "pattern_endPage = r'^\\[END OF PAGE\\]'\n",
    "idxl_endPage = [index for index, line in enumerate(lines_processed) if re.match(pattern_endPage, line)]\n",
    "\n",
    "pattern_article = r'^\\\"?\\s*\\d{1,}\\.'\n",
    "idxl_aricle = [index for index, line in enumerate(lines_processed) if re.match(pattern_article, line)]\n",
    "\n",
    "pattern_item = r\"^\\(.*\\)\"\n",
    "idxl_item = [index for index, line in enumerate(lines_processed) if re.match(pattern_item, line)]\n",
    "\n",
    "for idx_startMain in idxl_startMain: idxL_endWithColon.remove(idx_startMain)\n",
    "for idx_aricle in idxl_aricle: \n",
    "    if idx_aricle in idxL_endWithColon : idxL_endWithColon.remove(idx_aricle)\n",
    "idxL_cursorStart = [idx_endWithColon + 1 for idx_endWithColon in idxL_endWithColon]\n",
    "\n",
    "idxL_cursorEnd = idxl_startMain + idxl_endPage + idxl_item\n",
    "idxL_cursorEnd.sort()\n",
    " \n",
    " ## 특수 데이터 종료 시점 확인 및 데이터 범위 특정\n",
    "idxL_remove = []\n",
    "for idx_cursorStart in idxL_cursorStart:\n",
    "    \n",
    "     ### 시작 지점부터 한 줄씩 종료 조건을 확인하며 데이터 범위 탐색\n",
    "    idx_cursor = idx_cursorStart\n",
    "    #print(f\"Start with the line IDX:{idx_moment}\")\n",
    "    \n",
    "    while idx_cursor not in idxL_cursorEnd:\n",
    "        idxL_remove.append(idx_cursor)\n",
    "        #print(f\" Mark the line IDX to be removed:{idx_moment}\")\n",
    "        \n",
    "        idx_cursor = idx_cursor + 1\n",
    "        \n",
    "     ### 포함 여부 확인 후 작업 스케줄 수정 (특수 데이터의 범위로 특정된 부분 ~ 기존에 확인한 탐색 시작 지점)\n",
    "    idxL_redundant = [ idxL_cursorStart.index(elm_redundant) for elm_redundant in list(filter(lambda x : (idx_cursorStart < x <= idx_cursor), idxL_cursorStart)) ]\n",
    "    for idx_redundant in sorted(idxL_redundant, reverse=True):\n",
    "        idxL_cursorStart.pop(idx_redundant)\n",
    "         #print(f\"Pop out the start IDX of the redundant: {idxL_start.pop(idx_redundant)}\")\n",
    "\n",
    " ## 특정한 범위를 바탕으로 특수 데이터 제거        \n",
    "for idx_remove in sorted(idxL_remove, reverse=True):\n",
    "    lines_processed.pop(idx_remove)"
   ]
  },
  {
   "cell_type": "code",
   "execution_count": 317,
   "metadata": {},
   "outputs": [
    {
     "name": "stdout",
     "output_type": "stream",
     "text": [
      "Paragraphs 2.31. to 2.32., renumber to read:  \n",
      "2.31.  \"Braking Signal\"  means a logic signal indicating when illumination of the stop lamp \n",
      "is required or allowed as specified in paragraph 5.1.17. of this Regulation.  \n",
      "2.32.  \"Electric Regenerative Braking System \" means a braking system which, during \n",
      "deceleration, provides for th e conversion of vehicle kinetic energy into electrical \n",
      "energy and is not part of the service braking system.  \n",
      "2.33.  \"Disable the antilock brake system \" means to put the system into a state where it will \n",
      "no longer fulfil the technical requirements in paragra ph 9 of Annex 3 to this \n",
      "Regulation. \n",
      "Paragraph 5.1.17.2., amend to read:  \n",
      "5.1.17.2.  In addition, in case of vehicles  equipped with electric  regenerative braking systems, \n",
      "which produces a retarding force upon release of the accelerator control, the braking \n",
      "signal shall be generated also according to the following provisions 4: \n",
      "Insert new paragraph 5.1.17.3. , to read:  \n",
      "5.1.17.3.  Once generated, the signal shall be kept as long as a deceleration demand by the \n",
      "electric regenerative braking persists. However, the signal may be suppressed at \n",
      "standstill.  \n",
      "The signal shall not be generated when retardation is solely produced by the \n",
      "natural braking effect of the engine, air -/rolling resistance and/or road slope .\n",
      "Annex 3, paragraph 1.1.3. , amend to read:  \n",
      "1.1.3.  Measurement of PBC:  \n",
      "The PBC is measured as determined by the Type Approval Authority using \n",
      "either:  \n",
      "(a) An ASTM International (ASTM) E1136 -19 standard reference test tyre, \n",
      "in accordance with ASTM Method  E1337 -19, at a speed of 40 mph; or  \n",
      "(b) An ASTM International (ASTM) F2493 -20 standard reference t est tyre, \n",
      "in accordance with ASTM Method  E1337 -19, at a speed of 40 mph1; or \n",
      "(c) The method specified in the Appendix 1 to this annex.  \n",
      "    \n",
      "[END OF PAGE]\n",
      "\n",
      "\n"
     ]
    }
   ],
   "source": [
    "# 테스트 - 가공 텍스트 출력\n",
    "text_sum = ''.join(lines_processed)\n",
    "print(text_sum)"
   ]
  },
  {
   "cell_type": "markdown",
   "metadata": {},
   "source": [
    "## 띄어쓰기 제거 (페이지 전환 부분)"
   ]
  },
  {
   "cell_type": "code",
   "execution_count": 6,
   "metadata": {},
   "outputs": [],
   "source": [
    "# 띄어쓰기 제거 (페이지 전환 부분)\n",
    "\n",
    " ## 페턴 \n",
    "pattern_withSpace = r'^\\s+'\n",
    "pattern_endPage = r'^\\[END OF PAGE\\]'\n",
    "\n",
    " ## 페이지 종료 시점 확인\n",
    "idxL_pageEnd = [index for index, line in enumerate(lines_processed) if re.match(pattern_endPage, line)]\n",
    "idxL_pageEnd.pop()\n",
    "\n",
    " ## 페이지 종료 후 띄어쓰기 삽입 여부 확인 및 수정\n",
    "for idx_pageEnd in idxL_pageEnd:\n",
    "    if re.match(pattern_withSpace, lines_processed[idx_pageEnd+1]):\n",
    "        lines_processed[idx_pageEnd+1] = lines_processed[idx_pageEnd+1][1:]"
   ]
  },
  {
   "cell_type": "code",
   "execution_count": 308,
   "metadata": {},
   "outputs": [
    {
     "name": "stdout",
     "output_type": "stream",
     "text": [
      "Paragraphs 2.31. to 2.32., renumber to read:  \n",
      "2.31.  \"Braking Signal\"  means a logic signal indicating when illumination of the stop lamp \n",
      "is required or allowed as specified in paragraph 5.1.17. of this Regulation.  \n",
      "2.32.  \"Electric Regenerative Braking System \" means a braking system which, during \n",
      "deceleration, provides for th e conversion of vehicle kinetic energy into electrical \n",
      "energy and is not part of the service braking system.  \n",
      "2.33.  \"Disable the antilock brake system \" means to put the system into a state where it will \n",
      "no longer fulfil the technical requirements in paragra ph 9 of Annex 3 to this \n",
      "Regulation. \n",
      "Paragraph 5.1.17.2., amend to read:  \n",
      "5.1.17.2.  In addition, in case of vehicles  equipped with electric  regenerative braking systems, \n",
      "which produces a retarding force upon release of the accelerator control, the braking \n",
      "signal shall be generated also according to the following provisions 4: \n",
      "Insert new paragraph 5.1.17.3. , to read:  \n",
      "5.1.17.3.  Once generated, the signal shall be kept as long as a deceleration demand by the \n",
      "electric regenerative braking persists. However, the signal may be suppressed at \n",
      "standstill.  \n",
      "The signal shall not be generated when retardation is solely produced by the \n",
      "natural braking effect of the engine, air -/rolling resistance and/or road slope .\n",
      "Annex 3, paragraph 1.1.3. , amend to read:  \n",
      "1.1.3.  Measurement of PBC:  \n",
      "The PBC is measured as determined by the Type Approval Authority using \n",
      "either:  \n",
      "(a) An ASTM International (ASTM) E1136 -19 standard reference test tyre, \n",
      "in accordance with ASTM Method  E1337 -19, at a speed of 40 mph; or  \n",
      "(b) An ASTM International (ASTM) F2493 -20 standard reference t est tyre, \n",
      "in accordance with ASTM Method  E1337 -19, at a speed of 40 mph1; or \n",
      "(c) The method specified in the Appendix 1 to this annex.  \n",
      "    \n",
      "[END OF PAGE]\n",
      "\n",
      "\n"
     ]
    }
   ],
   "source": [
    "# 테스트 - 가공 텍스트 출력\n",
    "text_sum = ''.join(lines_processed)\n",
    "print(text_sum)"
   ]
  },
  {
   "cell_type": "markdown",
   "metadata": {},
   "source": [
    "## 띄어쓰기 제거 (예외 처리) (개정안 ver 미사용)"
   ]
  },
  {
   "cell_type": "code",
   "execution_count": 278,
   "metadata": {},
   "outputs": [],
   "source": [
    "# 띄어쓰기 제거 (예외 처리)\n",
    " \n",
    "pattern_withSpace_exceptions = r'^\\s\\d{1,}\\.\\d{1,}\\.'\n",
    "idxL_withSpace_exceptions = [index for index, line in enumerate(lines_processed) if re.match(pattern_withSpace_exceptions, line)]\n",
    "\n",
    "for idx_withSpace_exceptions in idxL_withSpace_exceptions:\n",
    "    lines_processed[idx_withSpace_exceptions] = lines_processed[idx_withSpace_exceptions][1:]"
   ]
  },
  {
   "cell_type": "markdown",
   "metadata": {},
   "source": [
    "## 단독 개행('\\r\\n') 및 페이지 전환('[END OF PAGE]') 제거"
   ]
  },
  {
   "cell_type": "code",
   "execution_count": 7,
   "metadata": {},
   "outputs": [],
   "source": [
    "# 단독 개행 및 페이지 전환 제거\n",
    "\n",
    "## 패턴\n",
    "pattern_onlyEnter = r'^\\s*\\n$'\n",
    "pattern_endPage = r'^\\[END OF PAGE\\]'\n",
    "\n",
    "## 패턴과 일치하는 행 확인\n",
    "idxL_onlyEnter_endPage = [index for index, line in enumerate(lines_processed) if (re.match(pattern_onlyEnter, line) or re.match(pattern_endPage, line))]\n",
    "\n",
    "## 패턴과 일치하는 행 제거\n",
    "for idx_remove in sorted(idxL_onlyEnter_endPage, reverse=True):\n",
    "    lines_processed.pop(idx_remove)"
   ]
  },
  {
   "cell_type": "code",
   "execution_count": 310,
   "metadata": {},
   "outputs": [
    {
     "name": "stdout",
     "output_type": "stream",
     "text": [
      "Paragraphs 2.31. to 2.32., renumber to read:  \n",
      "2.31.  \"Braking Signal\"  means a logic signal indicating when illumination of the stop lamp \n",
      "is required or allowed as specified in paragraph 5.1.17. of this Regulation.  \n",
      "2.32.  \"Electric Regenerative Braking System \" means a braking system which, during \n",
      "deceleration, provides for th e conversion of vehicle kinetic energy into electrical \n",
      "energy and is not part of the service braking system.  \n",
      "2.33.  \"Disable the antilock brake system \" means to put the system into a state where it will \n",
      "no longer fulfil the technical requirements in paragra ph 9 of Annex 3 to this \n",
      "Regulation. \n",
      "Paragraph 5.1.17.2., amend to read:  \n",
      "5.1.17.2.  In addition, in case of vehicles  equipped with electric  regenerative braking systems, \n",
      "which produces a retarding force upon release of the accelerator control, the braking \n",
      "signal shall be generated also according to the following provisions 4: \n",
      "Insert new paragraph 5.1.17.3. , to read:  \n",
      "5.1.17.3.  Once generated, the signal shall be kept as long as a deceleration demand by the \n",
      "electric regenerative braking persists. However, the signal may be suppressed at \n",
      "standstill.  \n",
      "The signal shall not be generated when retardation is solely produced by the \n",
      "natural braking effect of the engine, air -/rolling resistance and/or road slope .\n",
      "Annex 3, paragraph 1.1.3. , amend to read:  \n",
      "1.1.3.  Measurement of PBC:  \n",
      "The PBC is measured as determined by the Type Approval Authority using \n",
      "either:  \n",
      "(a) An ASTM International (ASTM) E1136 -19 standard reference test tyre, \n",
      "in accordance with ASTM Method  E1337 -19, at a speed of 40 mph; or  \n",
      "(b) An ASTM International (ASTM) F2493 -20 standard reference t est tyre, \n",
      "in accordance with ASTM Method  E1337 -19, at a speed of 40 mph1; or \n",
      "(c) The method specified in the Appendix 1 to this annex.  \n",
      "\n"
     ]
    }
   ],
   "source": [
    "# 테스트 - 가공 텍스트 출력\n",
    "text_sum = ''.join(lines_processed)\n",
    "print(text_sum)"
   ]
  },
  {
   "cell_type": "markdown",
   "metadata": {},
   "source": [
    "## 챕터(chapter) 제목 행 병합 (개정안 ver 미사용)"
   ]
  },
  {
   "cell_type": "code",
   "execution_count": 283,
   "metadata": {},
   "outputs": [],
   "source": [
    "# 챕터 제목 행 병합\n",
    "pattern_chapterTitle = r'^\\s{2}[a-zA-Z]'\n",
    "idxL_chapterTitle = [index for index, line in enumerate(lines_processed) if (re.match(pattern_chapterTitle, line))]\n",
    "\n",
    "for idx_chapterTitle in sorted(idxL_chapterTitle, reverse=True):\n",
    "    lines_processed[idx_chapterTitle-1] = lines_processed[idx_chapterTitle-1][:-4]"
   ]
  },
  {
   "cell_type": "markdown",
   "metadata": {},
   "source": [
    "## 조문 단위 행 병합"
   ]
  },
  {
   "cell_type": "code",
   "execution_count": 8,
   "metadata": {},
   "outputs": [],
   "source": [
    "# 조문 행 병합\n",
    "\n",
    "patten_startMain = r\".*?\\bto read:\"\n",
    "idxl_startMain = [index for index, line in enumerate(lines_processed) if re.match(patten_startMain, line)]\n",
    "\n",
    "pattern_normalText = r'^[a-zA-Z]'\n",
    "idxL_normalText = [index for index, line in enumerate(lines_processed) if (re.match(pattern_normalText, line))]\n",
    "\n",
    "for idx_startMain in idxl_startMain: \n",
    "    if idx_startMain in idxL_normalText : idxL_normalText.remove(idx_startMain)\n",
    "\n",
    "for idx_normalText in sorted(idxL_normalText, reverse=True):\n",
    "    lines_processed[idx_normalText-1] = lines_processed[idx_normalText-1][:-2]"
   ]
  },
  {
   "cell_type": "code",
   "execution_count": 312,
   "metadata": {},
   "outputs": [],
   "source": [
    "# 조문 행 병합 (예외 처리) (개정안 ver 미사용)\n",
    "pattern_normalText_exceptions = r'^\\(.{4,}\\)'\n",
    "idxL_normalText_exceptions = [index for index, line in enumerate(lines_processed) if (re.match(pattern_normalText_exceptions, line))]\n",
    "\n",
    "for idx_normalText_exceptions in sorted(idxL_normalText_exceptions, reverse=True):\n",
    "    lines_processed[idx_normalText_exceptions-1] = lines_processed[idx_normalText_exceptions-1][:-2]"
   ]
  },
  {
   "cell_type": "code",
   "execution_count": 9,
   "metadata": {},
   "outputs": [
    {
     "name": "stdout",
     "output_type": "stream",
     "text": [
      "Paragraphs 2.31. to 2.32., renumber to read:  \n",
      "2.31.  \"Braking Signal\"  means a logic signal indicating when illumination of the stop lampis required or allowed as specified in paragraph 5.1.17. of this Regulation.  \n",
      "2.32.  \"Electric Regenerative Braking System \" means a braking system which, duringdeceleration, provides for th e conversion of vehicle kinetic energy into electricalenergy and is not part of the service braking system.  \n",
      "2.33.  \"Disable the antilock brake system \" means to put the system into a state where it willno longer fulfil the technical requirements in paragra ph 9 of Annex 3 to thisRegulation. \n",
      "Paragraph 5.1.17.2., amend to read:  \n",
      "5.1.17.2.  In addition, in case of vehicles  equipped with electric  regenerative braking systems,which produces a retarding force upon release of the accelerator control, the brakingsignal shall be generated also according to the following provisions 4: \n",
      "Insert new paragraph 5.1.17.3. , to read:  \n",
      "5.1.17.3.  Once generated, the signal shall be kept as long as a deceleration demand by theelectric regenerative braking persists. However, the signal may be suppressed atstandstill. The signal shall not be generated when retardation is solely produced by thenatural braking effect of the engine, air -/rolling resistance and/or road slope .\n",
      "Annex 3, paragraph 1.1.3. , amend to read:  \n",
      "1.1.3.  Measurement of PBC: The PBC is measured as determined by the Type Approval Authority usingeither:  \n",
      "(a) An ASTM International (ASTM) E1136 -19 standard reference test tyre,in accordance with ASTM Method  E1337 -19, at a speed of 40 mph; or  \n",
      "(b) An ASTM International (ASTM) F2493 -20 standard reference t est tyre,in accordance with ASTM Method  E1337 -19, at a speed of 40 mph1; or \n",
      "(c) The method specified in the Appendix 1 to this annex.  \n",
      "\n"
     ]
    }
   ],
   "source": [
    "# 테스트 - 가공 텍스트 출력\n",
    "text_sum = ''.join(lines_processed)\n",
    "print(text_sum)"
   ]
  },
  {
   "cell_type": "markdown",
   "metadata": {},
   "source": [
    "## .txt 파일 저장"
   ]
  },
  {
   "cell_type": "code",
   "execution_count": 322,
   "metadata": {},
   "outputs": [],
   "source": [
    "# 결과 저장 경로\n",
    "data_path=r'G:\\내 드라이브\\LAB_works\\법률 LLM 프로젝트\\data\\데이터 전처리\\2. 가공 텍스트\\R078r3am1e_processed.txt'\n",
    "\n",
    "# txt 파일 저장\n",
    "with open(data_path, 'w', encoding='utf-8') as result:\n",
    "    text_sum = ''.join(lines_processed)    \n",
    "    result.write(text_sum)"
   ]
  }
 ],
 "metadata": {
  "kernelspec": {
   "display_name": "Python 3",
   "language": "python",
   "name": "python3"
  },
  "language_info": {
   "codemirror_mode": {
    "name": "ipython",
    "version": 3
   },
   "file_extension": ".py",
   "mimetype": "text/x-python",
   "name": "python",
   "nbconvert_exporter": "python",
   "pygments_lexer": "ipython3",
   "version": "3.11.9"
  }
 },
 "nbformat": 4,
 "nbformat_minor": 2
}
