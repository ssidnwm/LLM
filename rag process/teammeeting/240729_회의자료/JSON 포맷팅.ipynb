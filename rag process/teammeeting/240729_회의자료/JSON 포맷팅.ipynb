{
 "cells": [
  {
   "cell_type": "markdown",
   "metadata": {},
   "source": [
    "## 데이터 및 라이브러리 로딩"
   ]
  },
  {
   "cell_type": "code",
   "execution_count": 1,
   "metadata": {},
   "outputs": [],
   "source": [
    "import json\n",
    "import re"
   ]
  },
  {
   "cell_type": "code",
   "execution_count": 4,
   "metadata": {},
   "outputs": [],
   "source": [
    "# 데이터 경로\n",
    "data_path=r'G:\\내 드라이브\\LAB_works\\법률 LLM 프로젝트\\data\\데이터 전처리\\2. 가공 텍스트\\R078r3e_processed_corrected_tagged.txt'\n",
    "\n",
    "# 텍스트 추출\n",
    "with open(data_path, 'rb') as source:\n",
    "    lines = source.readlines()\n",
    "    lines = [element.decode('utf-8') for element in lines]\n",
    "\n",
    "lines = lines[:len(lines)-1]\n",
    "\n",
    "#print(''.join(lines))    "
   ]
  },
  {
   "cell_type": "markdown",
   "metadata": {},
   "source": [
    "## 쳅터 구분"
   ]
  },
  {
   "cell_type": "code",
   "execution_count": 5,
   "metadata": {},
   "outputs": [],
   "source": [
    "# 쳅터 구분\n",
    "\n",
    " ## 챕터 시작 지점 확인\n",
    "pattern_chapter = r'^\\s{2}\\d{1,}\\.'\n",
    "idxL_chapterStart = [index for index, line in enumerate(lines) if re.match(pattern_chapter, line)]\n",
    "\n",
    "idxL_chapterEnd = [idx_chapterStart -1 for idx_chapterStart in idxL_chapterStart]\n",
    "idxL_chapterEnd.pop(0)\n",
    "idxL_chapterEnd.append(len(lines)-1)\n",
    "\n",
    " ## 챕터 구분 및 개별 저장\n",
    "linesL_chapter = []\n",
    "for idx_chapterStart, idx_chapterEnd in zip(idxL_chapterStart, idxL_chapterEnd):\n",
    "   lines_chapter = lines[idx_chapterStart:idx_chapterEnd+1]\n",
    "   linesL_chapter.append(lines_chapter) "
   ]
  },
  {
   "cell_type": "markdown",
   "metadata": {},
   "source": [
    "## 전역 변수 정의"
   ]
  },
  {
   "cell_type": "code",
   "execution_count": 6,
   "metadata": {},
   "outputs": [],
   "source": [
    "pattern_main_title = (\"main\", r'\\s*\\d{1,}\\.\\s+')\n",
    "pattern_article = (\"art\", r'\\s*(\\d{1,}\\.){2}\\s+')\n",
    "pattern_paragraph = (\"para\", r'\\s*(\\d{1,}\\.){3}\\s+')\n",
    "pattern_sub_paragraph = (\"paraS\", r'\\s*(\\d{1,}\\.){4}\\s+')\n",
    "pattern_item = (\"item\", r'\\s*\\([a-hj-u]\\)\\s+')\n",
    "pattern_sub_item = (\"itemS\", r'\\s*\\([ivx]{1,}\\)\\s+')\n",
    "pattern_description = (\"dsc\", r'\\s[A-Z]') # 추후에 수정이 필요할 수 있음\n",
    "\n",
    "patternL = [pattern_main_title, pattern_article, pattern_paragraph, pattern_sub_paragraph, pattern_item, pattern_sub_item, pattern_description]\n",
    "\n",
    "dict_tagName = {\"item\":\"Item\", \"itemS\":\"Sub-item\", \"dsc\":\"Description\",\n",
    "                \"main\":\"Chapter main title\",\n",
    "                \"art\":\"Article\", \"para\":\"Paragraph\", \"paraS\":\"Sub-paragraph\"}\n",
    "\n",
    "tags_stage = [\"main\", \"art\", \"para\", \"paraS\"]"
   ]
  },
  {
   "cell_type": "markdown",
   "metadata": {},
   "source": [
    "## 기능 함수 정의"
   ]
  },
  {
   "cell_type": "markdown",
   "metadata": {},
   "source": [
    "### 세부 체계 구분"
   ]
  },
  {
   "cell_type": "code",
   "execution_count": 14,
   "metadata": {},
   "outputs": [],
   "source": [
    "## 함수 정의\n",
    "\n",
    "def lineTagger(linesL_input, flag_return_onlyTag=True):\n",
    "    \n",
    "    ## 전역 변수 로딩\n",
    "    global patternL\n",
    "    \n",
    "    ## 행 별로 패턴 일치 여부 검색 및 결과 테깅\n",
    "    tupleL_tagInfo = []\n",
    "    for tag, pattern in patternL:\n",
    "        pattern = r\"^\" + fr\"{pattern}\"\n",
    "        tupleL_tagInfo.append([(index, tag) for index, line in enumerate(linesL_input) if re.match(pattern, line)])\n",
    "    \n",
    "    ## 리스트 평탄화 및 오름차순 정렬\n",
    "    tupleL_tagInfo = sum(tupleL_tagInfo,[])\n",
    "    tupleL_tagInfo.sort()\n",
    "    \n",
    "    ## 예외처리 (조건 중복, item의 알파뱃 i ~ sub item의 로마자 i)\n",
    "    pattern_ish = r'^\\s*\\(h\\)\\s'\n",
    "    pattern_isi = r'^\\s*\\(i\\)\\s'\n",
    "    pattern_isii = r'^\\s*\\(ii\\)\\s'\n",
    "\n",
    "    #/ Check point 1: item (h)가 존재하는가? (문제가 될 수 있는 item (i)의 선행 조건)\n",
    "    #/ True: check point 2 확인\n",
    "    idxL_ish = [index for index, line in enumerate(linesL_input) if re.match(pattern_ish, line)]\n",
    "    for idx_ish in idxL_ish:\n",
    "   \n",
    "        #// Check point 2: item (h)의 sub item이 존재하는가? (tagInfo만으로는 구분할 수 없는 요소)\n",
    "        #// True: check point 3-1 확인\n",
    "        if re.match(pattern_isii, linesL_input[idx_ish+2]):\n",
    "            idx_cursor = idx_ish + 3\n",
    "            while (tupleL_tagInfo[idx_cursor][1]==\"itemS\"):\n",
    "                idx_cursor += 1\n",
    "            #/// Check point 3: 마지막 itemS로 테그된 행이 item (i)일 수도 있지 않은가?\n",
    "            #/// True: 테그 변환    \n",
    "            if re.match(pattern_isi, linesL_input[idx_cursor-1]):\n",
    "                tupleL_tagInfo[idx_cursor-1] = (idx_cursor-1, \"item\")\n",
    "   \n",
    "    #// False: check point 3-2 확인\n",
    "        else:\n",
    "            idx_cursor = idx_ish + 1\n",
    "            #/// Check point 3: item (h) 다음으로 itemS로 테그된 행이 item (i)이 존재하는가?\n",
    "            #// True: 테그 변환\n",
    "            if tupleL_tagInfo[idx_cursor][1]==\"itemS\":\n",
    "                tupleL_tagInfo[idx_cursor] = (idx_cursor, \"item\")\n",
    "    \n",
    "    ## 결과 반환\n",
    "    if flag_return_onlyTag:\n",
    "        return([tag for idx, tag in tupleL_tagInfo])      \n",
    "    else:\n",
    "        return(tupleL_tagInfo)"
   ]
  },
  {
   "cell_type": "markdown",
   "metadata": {},
   "source": [
    "### 인덱스 검색"
   ]
  },
  {
   "cell_type": "code",
   "execution_count": 15,
   "metadata": {},
   "outputs": [],
   "source": [
    "def idxFinder(tags, idx_start, tag_target, tag_end=False):\n",
    "    global tags_stage\n",
    "    \n",
    "    idxL_target = []\n",
    "    idx_cursor = idx_start\n",
    "    idx_end = len(tags) - 1\n",
    "    #tags_out = tags_stage.copy().split()\n",
    "\n",
    "    \n",
    "    if tag_end:\n",
    "        while (idx_cursor <= idx_end and tags[idx_cursor] not in tag_end):\n",
    "            if tags[idx_cursor]==tag_target:\n",
    "                idxL_target.append(idx_cursor)\n",
    "            idx_cursor += 1\n",
    "    \n",
    "    else:\n",
    "        while (idx_cursor <= idx_end):\n",
    "            if tags[idx_cursor]==tag_target:\n",
    "                idxL_target.append(idx_cursor)\n",
    "            idx_cursor += 1\n",
    "            \n",
    "    return(idxL_target)"
   ]
  },
  {
   "cell_type": "markdown",
   "metadata": {},
   "source": [
    "### 문장 페턴 반환"
   ]
  },
  {
   "cell_type": "code",
   "execution_count": 16,
   "metadata": {},
   "outputs": [],
   "source": [
    "def patternFinder(target_tag, base_patternL):\n",
    "    tags = [tag for tag, pattern in base_patternL] \n",
    "    patterns = [pattern for tag, pattern in base_patternL]\n",
    "    \n",
    "    target_idx = tags.index(target_tag)\n",
    "    target_pattern = patterns[target_idx]\n",
    "    \n",
    "    return(target_pattern)"
   ]
  },
  {
   "cell_type": "markdown",
   "metadata": {},
   "source": [
    "### 입력 페턴을 바탕으로 문장 분해"
   ]
  },
  {
   "cell_type": "code",
   "execution_count": 17,
   "metadata": {},
   "outputs": [],
   "source": [
    "def lineParser(line, break_pattern, sel_group, opt_strip=False):\n",
    "    breaks = re.search(break_pattern, line)\n",
    "    \n",
    "    parsed_result = []   \n",
    "    for idx in sel_group:\n",
    "        if opt_strip:\n",
    "            parsed_result.append(breaks.group(idx).strip())\n",
    "        else:\n",
    "            parsed_result.append(breaks.group(idx))\n",
    "            \n",
    "    return(parsed_result)"
   ]
  },
  {
   "cell_type": "markdown",
   "metadata": {},
   "source": [
    "### JSON 구성 요소 생성 및 입력"
   ]
  },
  {
   "cell_type": "code",
   "execution_count": 18,
   "metadata": {},
   "outputs": [],
   "source": [
    "def listLoader(lines, tags, base_dict, target_tag, pivot_idx, target_tag_subList=None):\n",
    "    global dict_tagName\n",
    "    global tags_stage\n",
    "    \n",
    "    idxL_loader = idxFinder(tags, pivot_idx+1, target_tag, tag_end=tags_stage)\n",
    "    if target_tag_subList:\n",
    "        idx_end = len(lines)-1\n",
    "        idxL_with_subList = [idx_loader for idx_loader in idxL_loader if idx_loader < idx_end and tags[idx_loader+1]==target_tag_subList]\n",
    "    ##        \n",
    "    lines_loader = []\n",
    "    for idx_loader in idxL_loader:\n",
    "        if target_tag_subList and idx_loader in idxL_with_subList:\n",
    "            lines_subLoader = []\n",
    "            idxL_subLoader = idxFinder(tags, idx_loader+1, target_tag_subList, tag_end=target_tag)\n",
    "            for idx_subLoader in idxL_subLoader: lines_subLoader.append(lines[idx_subLoader].strip())\n",
    "            \n",
    "            lines_loader.append([lines[idx_loader].strip(), lines_subLoader])\n",
    "            \n",
    "        else:     \n",
    "            lines_loader.append(lines[idx_loader].strip())\n",
    "\n",
    "    ##\n",
    "    if len(lines_loader):\n",
    "        fullName = dict_tagName[target_tag]\n",
    "        base_dict[fullName] = lines_loader"
   ]
  },
  {
   "cell_type": "code",
   "execution_count": 19,
   "metadata": {},
   "outputs": [],
   "source": [
    "def dictLoader(lines, tags, base_dict, pivot_pattern, pivot_idx, opt_dsc=False, opt_item=False, opt_itemS=False):\n",
    "    \n",
    "    numbering, dsc_0 = lineParser(lines[pivot_idx], rf\"({pivot_pattern})\" + r\"(.*)\", sel_group=[1,3], opt_strip=True)\n",
    "    dict_loaded = base_dict[numbering] = {}\n",
    "    \n",
    "    if opt_dsc:\n",
    "        listLoader(lines, tags, dict_loaded, target_tag=\"dsc\", pivot_idx=pivot_idx)\n",
    "        if \"Description\" in list(dict_loaded.keys()): dict_loaded[\"Description\"].insert(0,dsc_0)\n",
    "        else: dict_loaded[\"Description\"] = [dsc_0]\n",
    "        \n",
    "    if opt_item:\n",
    "        if opt_itemS:\n",
    "            listLoader(lines, tags, dict_loaded, target_tag=\"item\", target_tag_subList=\"itemS\", pivot_idx=pivot_idx)\n",
    "        else:\n",
    "            listLoader(lines, tags, dict_loaded, target_tag=\"item\", pivot_idx=pivot_idx)\n",
    "        \n",
    "    return(dict_loaded)"
   ]
  },
  {
   "cell_type": "code",
   "execution_count": 20,
   "metadata": {},
   "outputs": [],
   "source": [
    "## 독립형 sublistLoader (미사용)\n",
    "\n",
    "def sublistLoader(lines, tags, base_dict, target_tag, pivot_idx, opt_parse=False, opt_strip=False):\n",
    "    global patterL\n",
    "    global dict_tagName\n",
    "    global tags_stage\n",
    "\n",
    "    tag_pivot = tags[pivot_idx]\n",
    "    tags_end = tags_stage.copy()\n",
    "    tags_end.append(tag_pivot)\n",
    "\n",
    "    idxL_loader = idxFinder(tags, pivot_idx+1, target_tag, tag_end=tags_end)\n",
    "    ##        \n",
    "    lines_loader = []\n",
    "    for idx_loader in idxL_loader:\n",
    "        lines_loader.append(lines[idx_loader].strip())\n",
    "\n",
    "    ##\n",
    "    if len(lines_loader):\n",
    "        if opt_parse:\n",
    "            pattern_pivot = patternFinder(tag_pivot, patterL)\n",
    "            ele_searchingKey = lineParser(lines[pivot_idx], rf\"({pattern_pivot})\" + r\"(.*)\", sel_group=[3], opt_strip=opt_strip)[0]\n",
    "        else:\n",
    "            ele_searchingKey = lines[pivot_idx].strip()\n",
    "            \n",
    "        idx_pivotInlist = base_dict[fullName_pivot].index(ele_searchingKey)\n",
    "\n",
    "        fullName_pivot = dict_tagName[tag_pivot]\n",
    "        base_dict[fullName_pivot][idx_pivotInlist].append(lines_loader)"
   ]
  },
  {
   "cell_type": "markdown",
   "metadata": {},
   "source": [
    "## 워킹 스페이스"
   ]
  },
  {
   "cell_type": "markdown",
   "metadata": {},
   "source": [
    "### 개별 쳅터"
   ]
  },
  {
   "cell_type": "code",
   "execution_count": 23,
   "metadata": {},
   "outputs": [],
   "source": [
    "lines_chapter = linesL_chapter[4]\n",
    "tags_chapter = lineTagger(lines_chapter, flag_return_onlyTag=True)\n",
    "\n",
    "#     \n",
    "dict_chapter = {}\n",
    "\n",
    "#\n",
    "line_main = lines_chapter[0]\n",
    "num_chapter, title_chapter = [elm.strip() for elm in line_main.split('.')]\n",
    "\n",
    "dict_chapter[\"Chapter\"] = num_chapter\n",
    "dict_chapter[\"Title\"] = title_chapter\n",
    "\n",
    "#\n",
    "listLoader(lines_chapter, tags_chapter, dict_chapter, target_tag=\"dsc\", pivot_idx=0)\n",
    "listLoader(lines_chapter, tags_chapter, dict_chapter, target_tag=\"item\", target_tag_subList=\"itemS\", pivot_idx=0)\n",
    "\n",
    "#\n",
    "idxL_art = idxFinder(tags=tags_chapter, idx_start=0, tag_target=\"art\")\n",
    "pattern_art = patternFinder(\"art\", patternL)\n",
    "for idx_art in idxL_art:\n",
    "    \n",
    "    dict_art = dictLoader(lines_chapter, tags_chapter, dict_chapter, pattern_art, idx_art, opt_dsc=True, opt_item=True, opt_itemS=True)\n",
    "    \n",
    "    idxL_para = idxFinder(tags=tags_chapter, idx_start=idx_art+1, tag_target=\"para\", tag_end=\"art\")\n",
    "    pattern_para = patternFinder(\"para\", patternL)\n",
    "    for idx_para in idxL_para:    \n",
    "\n",
    "        dict_para = dictLoader(lines_chapter, tags_chapter, dict_art, pattern_para, idx_para, opt_dsc=True, opt_item=True, opt_itemS=True)\n",
    "        \n",
    "        idxL_paraS = idxFinder(tags=tags_chapter, idx_start=idx_para+1, tag_target=\"paraS\", tag_end=[\"art\", \"para\"])\n",
    "        pattern_paraS = patternFinder(\"paraS\", patternL)\n",
    "        for idx_paraS in idxL_paraS:\n",
    "            \n",
    "            dictLoader(lines_chapter, tags_chapter, dict_para, pattern_paraS, idx_paraS, opt_dsc=True, opt_item=True, opt_itemS=True)"
   ]
  },
  {
   "cell_type": "markdown",
   "metadata": {},
   "source": [
    "### 문서 전체"
   ]
  },
  {
   "cell_type": "code",
   "execution_count": 100,
   "metadata": {},
   "outputs": [],
   "source": [
    "dict_full = {}\n",
    "dict_full[\"Resource\"] = \"Addendum 77: UN Regulation No. 78\"\n",
    "dict_full[\"Title\"] = \"Agreement: Concerning the Adoption of Harmonized Technical United Nations Regulations for Wheeled Vehicles, Equipment and Parts which can be Fitted and/or be Used on Wheeled Vehicles and the Conditions for Reciprocal Recognition of Approvals Granted on the Basis of these United Nations Regulations\"\n",
    "dict_full[\"Version\"] = \"Revision 3\"\n",
    "\n",
    "for lines_chapter in linesL_chapter:\n",
    "    tags_chapter = lineTagger(lines_chapter, flag_return_onlyTag=True)\n",
    "\n",
    "    #     \n",
    "    dict_chapter = {}\n",
    "\n",
    "    #\n",
    "    line_main = lines_chapter[0]\n",
    "    num_chapter, title_chapter = [elm.strip() for elm in line_main.split('.')]\n",
    "\n",
    "    dict_chapter[\"Chapter\"] = num_chapter\n",
    "    dict_chapter[\"Title\"] = title_chapter\n",
    "\n",
    "    #\n",
    "    listLoader(lines_chapter, tags_chapter, dict_chapter, target_tag=\"dsc\", pivot_idx=0)\n",
    "    listLoader(lines_chapter, tags_chapter, dict_chapter, target_tag=\"item\", target_tag_subList=\"itemS\", pivot_idx=0)\n",
    "\n",
    "    #\n",
    "    idxL_art = idxFinder(tags=tags_chapter, idx_start=0, tag_target=\"art\")\n",
    "    pattern_art = patternFinder(\"art\", patternL)\n",
    "    for idx_art in idxL_art:\n",
    "        \n",
    "        dict_art = dictLoader(lines_chapter, tags_chapter, dict_chapter, pattern_art, idx_art, opt_dsc=True, opt_item=True, opt_itemS=True)\n",
    "        \n",
    "        idxL_para = idxFinder(tags=tags_chapter, idx_start=idx_art+1, tag_target=\"para\", tag_end=\"art\")\n",
    "        pattern_para = patternFinder(\"para\", patternL)\n",
    "        for idx_para in idxL_para:    \n",
    "\n",
    "            dict_para = dictLoader(lines_chapter, tags_chapter, dict_art, pattern_para, idx_para, opt_dsc=True, opt_item=True, opt_itemS=True)\n",
    "            \n",
    "            idxL_paraS = idxFinder(tags=tags_chapter, idx_start=idx_para+1, tag_target=\"paraS\", tag_end=[\"art\", \"para\"])\n",
    "            pattern_paraS = patternFinder(\"paraS\", patternL)\n",
    "            for idx_paraS in idxL_paraS:\n",
    "                \n",
    "                dictLoader(lines_chapter, tags_chapter, dict_para, pattern_paraS, idx_paraS, opt_dsc=True, opt_item=True, opt_itemS=True)\n",
    "    \n",
    "    #\n",
    "    dict_full[f\"chapter {num_chapter}\"] = dict_chapter"
   ]
  },
  {
   "cell_type": "markdown",
   "metadata": {},
   "source": [
    "## JSON 직렬화 처리 후 파일 저장"
   ]
  },
  {
   "cell_type": "markdown",
   "metadata": {},
   "source": [
    "### 문서 전체"
   ]
  },
  {
   "cell_type": "code",
   "execution_count": 106,
   "metadata": {},
   "outputs": [],
   "source": [
    "with open(\"R078r3e_fullchpter_converted_ver1.json\", \"w\") as file:\n",
    "    json.dump(dict_full, file)"
   ]
  },
  {
   "cell_type": "markdown",
   "metadata": {},
   "source": [
    "### 개별 챕터"
   ]
  },
  {
   "cell_type": "code",
   "execution_count": 118,
   "metadata": {},
   "outputs": [],
   "source": [
    "keys_chapter = list(filter(lambda x: \"chapter\" in x, list(dict_full.keys())))\n",
    "\n",
    "for number_of_chapter in range(len(linesL_chapter)):\n",
    "    with open(f\"R078r3e_chapter{number_of_chapter+1}_converted_ver1.json\", \"w\") as file:\n",
    "        json.dump(dict_full[keys_chapter[number_of_chapter]], file)"
   ]
  }
 ],
 "metadata": {
  "kernelspec": {
   "display_name": "Python 3",
   "language": "python",
   "name": "python3"
  },
  "language_info": {
   "codemirror_mode": {
    "name": "ipython",
    "version": 3
   },
   "file_extension": ".py",
   "mimetype": "text/x-python",
   "name": "python",
   "nbconvert_exporter": "python",
   "pygments_lexer": "ipython3",
   "version": "3.11.9"
  }
 },
 "nbformat": 4,
 "nbformat_minor": 2
}
