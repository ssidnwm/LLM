{
 "cells": [
  {
   "cell_type": "markdown",
   "id": "6dd6869f-1503-425b-a7a5-f54589d064f6",
   "metadata": {},
   "source": [
    "lambda개념이 자주 사용됨"
   ]
  },
  {
   "cell_type": "code",
   "execution_count": 1,
   "id": "35a076c1-2949-499c-a499-4709d386c907",
   "metadata": {},
   "outputs": [
    {
     "name": "stdout",
     "output_type": "stream",
     "text": [
      "3\n"
     ]
    }
   ],
   "source": [
    "def increment(x):\n",
    "    return x + 1\n",
    "\n",
    "result = increment(2)\n",
    "print(result)"
   ]
  },
  {
   "cell_type": "code",
   "execution_count": 2,
   "id": "024f917c-2c5b-4a72-927e-14e0bed76a8c",
   "metadata": {},
   "outputs": [
    {
     "name": "stdout",
     "output_type": "stream",
     "text": [
      "3\n"
     ]
    }
   ],
   "source": [
    "increment = lambda x: x+1\n",
    "\n",
    "result = increment(2)\n",
    "print(result)"
   ]
  },
  {
   "cell_type": "code",
   "execution_count": 4,
   "id": "8739134c-ef60-44df-b6af-af5438a302aa",
   "metadata": {},
   "outputs": [],
   "source": [
    "from langchain_core.runnables import RunnableLambda"
   ]
  },
  {
   "cell_type": "code",
   "execution_count": 5,
   "id": "66ac5e14-e8c5-4832-9d7a-ee68dd118e82",
   "metadata": {},
   "outputs": [
    {
     "name": "stdout",
     "output_type": "stream",
     "text": [
      "3\n"
     ]
    }
   ],
   "source": [
    "increment = RunnableLambda(lambda x: x + 1)\n",
    "\n",
    "result = increment.invoke(2)\n",
    "print(result)"
   ]
  },
  {
   "cell_type": "code",
   "execution_count": 6,
   "id": "dc3abc76-45bd-44cc-a0d2-7d6ce40497bd",
   "metadata": {},
   "outputs": [],
   "source": [
    "from dotenv import load_dotenv\n",
    "from langchain_openai import ChatOpenAI\n",
    "from langchain.chains import LLMChain\n",
    "from langchain_core.prompts import ChatPromptTemplate"
   ]
  },
  {
   "cell_type": "code",
   "execution_count": 7,
   "id": "fc180a05-3125-4ecd-8a5f-fc66f4174f6c",
   "metadata": {},
   "outputs": [
    {
     "data": {
      "text/plain": [
       "True"
      ]
     },
     "execution_count": 7,
     "metadata": {},
     "output_type": "execute_result"
    }
   ],
   "source": [
    "load_dotenv()"
   ]
  },
  {
   "cell_type": "code",
   "execution_count": 8,
   "id": "8edc7c0e-194e-451c-b3c6-ec8799d82793",
   "metadata": {},
   "outputs": [],
   "source": [
    "model = ChatOpenAI(\n",
    "    model_name=\"gpt-4o-mini\",\n",
    "    temperature=0\n",
    ")"
   ]
  },
  {
   "cell_type": "code",
   "execution_count": 9,
   "id": "3db2e564-ab1b-48fb-9ca6-bab35a85f791",
   "metadata": {},
   "outputs": [],
   "source": [
    "prompt=ChatPromptTemplate.from_messages(\n",
    "    [\n",
    "        (\n",
    "            \"system\", \"You are an expert translator who translates {input_language} to {output_language}\"\n",
    "        ),\n",
    "        (\n",
    "            \"human\", \"{text}\"\n",
    "        )\n",
    "    ]\n",
    ")"
   ]
  },
  {
   "cell_type": "code",
   "execution_count": 10,
   "id": "530acd9c-ecb2-4865-9bec-e0bc55cdcb59",
   "metadata": {},
   "outputs": [],
   "source": [
    "chain = prompt | model"
   ]
  },
  {
   "cell_type": "code",
   "execution_count": 12,
   "id": "65e495f8-a0ba-4bf7-9c8e-40cb966d5a0a",
   "metadata": {},
   "outputs": [],
   "source": [
    "out = chain.invoke(\n",
    "    {\n",
    "        \"input_language\": \"English\",\n",
    "        \"output_language\": \"Korean\",\n",
    "        \"text\": \"For God so loved the world, that he gave his only begotten son, that whosoever believeth in him should not perish,\"\n",
    "    }\n",
    ")"
   ]
  },
  {
   "cell_type": "code",
   "execution_count": 13,
   "id": "585eac29-1414-4757-b9bb-5f4151189e26",
   "metadata": {},
   "outputs": [
    {
     "data": {
      "text/plain": [
       "'하나님이 세상을 이처럼 사랑하사 독생자를 주셨으니, 이는 그를 믿는 자마다 멸망하지 않고 영생을 얻게 하려 하심이라.'"
      ]
     },
     "execution_count": 13,
     "metadata": {},
     "output_type": "execute_result"
    }
   ],
   "source": [
    "out.content"
   ]
  },
  {
   "cell_type": "markdown",
   "id": "20de12de-5000-401f-83cf-a1a0a7dc4347",
   "metadata": {},
   "source": [
    "strOutput Parser"
   ]
  },
  {
   "cell_type": "code",
   "execution_count": 14,
   "id": "e99e40cf-d5da-4576-a850-745b88b23c48",
   "metadata": {},
   "outputs": [],
   "source": [
    "from langchain_core.output_parsers import StrOutputParser"
   ]
  },
  {
   "cell_type": "code",
   "execution_count": 15,
   "id": "c3936928-af24-43ca-b0d9-d5fbc505d46b",
   "metadata": {},
   "outputs": [],
   "source": [
    "chain = prompt | model | StrOutputParser()"
   ]
  },
  {
   "cell_type": "code",
   "execution_count": 16,
   "id": "31cc17b9-5c25-48bc-91c0-4eac65d09673",
   "metadata": {},
   "outputs": [],
   "source": [
    "out = chain.invoke(\n",
    "    {\n",
    "        \"input_language\":\"English\",\n",
    "        \"output_language\": \"Korean\",\n",
    "        \"text\": \"For God so loved the world, that he gave his only begotten son, that whosoever believeth in him should not perish,\"\n",
    "    }\n",
    ")"
   ]
  },
  {
   "cell_type": "code",
   "execution_count": 17,
   "id": "844df27f-dda0-4d8d-bc43-8e2f9cf45715",
   "metadata": {},
   "outputs": [
    {
     "data": {
      "text/plain": [
       "'하나님이 세상을 이처럼 사랑하사 독생자를 주셨으니, 이는 그를 믿는 자마다 멸망하지 않고 영생을 얻게 하려 하심이라.'"
      ]
     },
     "execution_count": 17,
     "metadata": {},
     "output_type": "execute_result"
    }
   ],
   "source": [
    "out"
   ]
  },
  {
   "cell_type": "markdown",
   "id": "4a1a3c62-0b87-4413-a0b3-073ded3377ab",
   "metadata": {},
   "source": [
    "### Split Text"
   ]
  },
  {
   "cell_type": "code",
   "execution_count": 19,
   "id": "9e890852-2964-4fd1-8a5f-0f6cf82cc277",
   "metadata": {},
   "outputs": [],
   "source": [
    "split_text = RunnableLambda(lambda text: text.split())"
   ]
  },
  {
   "cell_type": "code",
   "execution_count": 20,
   "id": "7f3ca130-30f2-4783-b5f5-7351b83323a0",
   "metadata": {},
   "outputs": [],
   "source": [
    "chain = prompt | model | StrOutputParser() | split_text"
   ]
  },
  {
   "cell_type": "code",
   "execution_count": 21,
   "id": "41fc98d3-702b-4826-96ad-2e63549a9955",
   "metadata": {},
   "outputs": [],
   "source": [
    "out = chain.invoke(\n",
    "    {\n",
    "        \"input_language\":\"English\",\n",
    "        \"output_language\": \"Korean\",\n",
    "        \"text\": \"For God so loved the world, that he gave his only begotten son, that whosoever believeth in him should not perish,\"\n",
    "    }\n",
    ")"
   ]
  },
  {
   "cell_type": "code",
   "execution_count": 22,
   "id": "750ae5cb-2429-461b-97f6-8de3b70a21ae",
   "metadata": {},
   "outputs": [
    {
     "data": {
      "text/plain": [
       "['하나님이',\n",
       " '세상을',\n",
       " '이처럼',\n",
       " '사랑하사',\n",
       " '독생자를',\n",
       " '주셨으니,',\n",
       " '이는',\n",
       " '그를',\n",
       " '믿는',\n",
       " '자마다',\n",
       " '멸망하지',\n",
       " '않고',\n",
       " '영생을',\n",
       " '얻게',\n",
       " '하려',\n",
       " '하심이라.']"
      ]
     },
     "execution_count": 22,
     "metadata": {},
     "output_type": "execute_result"
    }
   ],
   "source": [
    "out"
   ]
  },
  {
   "cell_type": "code",
   "execution_count": 24,
   "id": "cc732c07-3db3-4e4b-ba8d-c62359fd7b7e",
   "metadata": {},
   "outputs": [],
   "source": [
    "count_words = RunnableLambda(lambda word_list : len(word_list))"
   ]
  },
  {
   "cell_type": "code",
   "execution_count": 25,
   "id": "c0d47e6d-ea2a-4f2e-a3ff-bf23e2374498",
   "metadata": {},
   "outputs": [],
   "source": [
    "chain = prompt | model | StrOutputParser() | split_text | count_words"
   ]
  },
  {
   "cell_type": "code",
   "execution_count": 26,
   "id": "8f0f2b43-2a59-4b4b-bb3e-7d6776960ce1",
   "metadata": {},
   "outputs": [],
   "source": [
    "out = chain.invoke(\n",
    "    {\n",
    "        \"input_language\":\"English\",\n",
    "        \"output_language\": \"Korean\",\n",
    "        \"text\": \"For God so loved the world, that he gave his only begotten son, that whosoever believeth in him should not perish,\"\n",
    "    }\n",
    ")"
   ]
  },
  {
   "cell_type": "code",
   "execution_count": 27,
   "id": "434350c9-0300-4f30-8b30-98e9b885218f",
   "metadata": {},
   "outputs": [
    {
     "data": {
      "text/plain": [
       "16"
      ]
     },
     "execution_count": 27,
     "metadata": {},
     "output_type": "execute_result"
    }
   ],
   "source": [
    "out"
   ]
  }
 ],
 "metadata": {
  "kernelspec": {
   "display_name": "Python (my_jupyter_env)",
   "language": "python",
   "name": "my_jupyter_env"
  },
  "language_info": {
   "codemirror_mode": {
    "name": "ipython",
    "version": 3
   },
   "file_extension": ".py",
   "mimetype": "text/x-python",
   "name": "python",
   "nbconvert_exporter": "python",
   "pygments_lexer": "ipython3",
   "version": "3.10.10"
  }
 },
 "nbformat": 4,
 "nbformat_minor": 5
}
