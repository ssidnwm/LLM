{
 "cells": [
  {
   "cell_type": "code",
   "execution_count": 1,
   "id": "f75897b2-1695-45ad-8f59-d3426b0c601e",
   "metadata": {},
   "outputs": [],
   "source": [
    "from dotenv import load_dotenv"
   ]
  },
  {
   "cell_type": "code",
   "execution_count": 2,
   "id": "a8050beb-ce38-4446-84c4-e41b865a6249",
   "metadata": {},
   "outputs": [
    {
     "data": {
      "text/plain": [
       "True"
      ]
     },
     "execution_count": 2,
     "metadata": {},
     "output_type": "execute_result"
    }
   ],
   "source": [
    "load_dotenv()"
   ]
  },
  {
   "cell_type": "code",
   "execution_count": 3,
   "id": "d333a1bb-5b64-4bf0-b23a-bd023c17b56b",
   "metadata": {},
   "outputs": [],
   "source": [
    "from langchain_openai import ChatOpenAI"
   ]
  },
  {
   "cell_type": "code",
   "execution_count": 4,
   "id": "5bc82fa0-580f-4213-940e-14c268f21b47",
   "metadata": {},
   "outputs": [],
   "source": [
    "model = ChatOpenAI(\n",
    "    model_name=\"gpt-4o-mini\"\n",
    ")"
   ]
  },
  {
   "cell_type": "code",
   "execution_count": 5,
   "id": "395c791f-3ae6-4228-b8d2-0ba4dbc57cfd",
   "metadata": {},
   "outputs": [],
   "source": [
    "from langgraph.graph import MessagesState, StateGraph, START, END"
   ]
  },
  {
   "cell_type": "code",
   "execution_count": 6,
   "id": "be104673-5c23-4622-a072-ddaee09fc978",
   "metadata": {},
   "outputs": [],
   "source": [
    "def chatbot(state: MessagesState):\n",
    "    result = model.invoke(state[\"messages\"])\n",
    "    return {\n",
    "        \"messages\": result\n",
    "    }"
   ]
  },
  {
   "cell_type": "code",
   "execution_count": 7,
   "id": "5667e6c3-8bd9-4e31-b810-f90e6cb80c51",
   "metadata": {},
   "outputs": [],
   "source": [
    "graph = (\n",
    "    StateGraph(MessagesState)\n",
    "\n",
    "    .add_node(\"chatbot\",chatbot)\n",
    "\n",
    "    .add_edge(START, \"chatbot\")\n",
    "    .add_edge(\"chatbot\", END)\n",
    "\n",
    "    .compile()\n",
    ")"
   ]
  },
  {
   "cell_type": "code",
   "execution_count": 8,
   "id": "67a324d1-0191-4998-be60-e92811a59509",
   "metadata": {},
   "outputs": [],
   "source": [
    "from IPython.display import display, Image"
   ]
  },
  {
   "cell_type": "code",
   "execution_count": 9,
   "id": "2d4241c5-8a7a-4668-bac5-af3af6cbaf04",
   "metadata": {},
   "outputs": [],
   "source": [
    "diagram = Image(\n",
    "    graph.get_graph().draw_mermaid_png()\n",
    ")"
   ]
  },
  {
   "cell_type": "code",
   "execution_count": 10,
   "id": "e8195bcd-2843-4f45-9db6-209a3741b76a",
   "metadata": {},
   "outputs": [
    {
     "data": {
      "image/png": "[encoded data removed]",
      "text/plain": [
       "<IPython.core.display.Image object>"
      ]
     },
     "metadata": {},
     "output_type": "display_data"
    }
   ],
   "source": [
    "display(diagram)"
   ]
  },
  {
   "cell_type": "code",
   "execution_count": 11,
   "id": "cc6edb0b-812b-4159-8b8b-3a61ff529bc6",
   "metadata": {},
   "outputs": [],
   "source": [
    "out = graph.invoke(\n",
    "    {\"messages\" : \"문벼리의 전화번호를 알려주세요\"}\n",
    ")"
   ]
  },
  {
   "cell_type": "code",
   "execution_count": 12,
   "id": "b500fef5-857f-4e00-b856-741fbe746dfe",
   "metadata": {},
   "outputs": [
    {
     "name": "stdout",
     "output_type": "stream",
     "text": [
      "================================\u001b[1m Human Message \u001b[0m=================================\n",
      "\n",
      "문벼리의 전화번호를 알려주세요\n",
      "==================================\u001b[1m Ai Message \u001b[0m==================================\n",
      "\n",
      "죄송하지만, 개인의 전화번호와 같은 개인정보를 제공할 수는 없습니다. 다른 궁금한 점이 있으시면 도와드릴 수 있습니다!\n"
     ]
    }
   ],
   "source": [
    "for msg in out ['messages']:\n",
    "    msg.pretty_print()"
   ]
  },
  {
   "cell_type": "code",
   "execution_count": 13,
   "id": "bd449a8e-42cd-4c8f-af20-18fcd34bc227",
   "metadata": {},
   "outputs": [],
   "source": [
    "def find_phone_number(name: str) -> str:\n",
    "    \"\"\"\n",
    "    주어진 사람들의 전화번호를 찾아서 반환합니다.\n",
    "    전화번호를 찾지 못한 경우 None을 반환합니다.\n",
    "    \"\"\"\n",
    "    phone_book = {\n",
    "        \"문벼리\": \"010-1234-1234\",\n",
    "        \"양승렬\": \"010-2434-2434\",\n",
    "        \"장동원\": \"010-4142-1424\",\n",
    "    }\n",
    "    if name in phone_book:\n",
    "        return phone_book[name]\n",
    "    else:\n",
    "        return None"
   ]
  },
  {
   "cell_type": "code",
   "execution_count": 14,
   "id": "fb056627-8f10-4074-bf75-f66470b48ab3",
   "metadata": {},
   "outputs": [],
   "source": [
    "tools = [\n",
    "    find_phone_number\n",
    "]"
   ]
  },
  {
   "cell_type": "code",
   "execution_count": 15,
   "id": "ecbaab45-f42b-44ab-9d64-44a717b6665a",
   "metadata": {},
   "outputs": [],
   "source": [
    "model_with_tools = model.bind_tools(tools)"
   ]
  },
  {
   "cell_type": "code",
   "execution_count": 16,
   "id": "aa356a3a-7209-44c3-8d62-86b3331e8c05",
   "metadata": {},
   "outputs": [],
   "source": [
    "def chatbot(state : MessagesState):\n",
    "    result = model_with_tools.invoke(state[\"messages\"])\n",
    "    return {\n",
    "        \"messages\":[result]\n",
    "    }"
   ]
  },
  {
   "cell_type": "code",
   "execution_count": 18,
   "id": "da69eaf6-fcf2-4c29-9be0-cabdf353c931",
   "metadata": {},
   "outputs": [],
   "source": [
    "from langgraph.prebuilt import ToolNode, tools_condition"
   ]
  },
  {
   "cell_type": "code",
   "execution_count": 20,
   "id": "e02a1303-8f93-4386-8ecb-e9498fa87998",
   "metadata": {},
   "outputs": [],
   "source": [
    "graph = (\n",
    "    StateGraph(MessagesState)\n",
    "    .add_node(\"chatbot\", chatbot)\n",
    "    .add_node(\"tools\",ToolNode(tools))\n",
    "\n",
    "    .add_edge(START, \"chatbot\")\n",
    "\n",
    "    .add_conditional_edges(\"chatbot\",tools_condition)\n",
    "    .add_edge(\"tools\",END)\n",
    "\n",
    "    .compile()\n",
    ")"
   ]
  },
  {
   "cell_type": "code",
   "execution_count": 21,
   "id": "defe1150-d032-4ca3-a0e7-03f2eba451a1",
   "metadata": {},
   "outputs": [
    {
     "data": {
      "image/png": "[encoded data removed]",
      "text/plain": [
       "<IPython.core.display.Image object>"
      ]
     },
     "metadata": {},
     "output_type": "display_data"
    }
   ],
   "source": [
    "diagram = Image(\n",
    "    graph.get_graph().draw_mermaid_png()\n",
    ")\n",
    "display(diagram)"
   ]
  },
  {
   "cell_type": "code",
   "execution_count": 22,
   "id": "f375e2dd-7316-44f0-88e1-76ac936510ba",
   "metadata": {},
   "outputs": [],
   "source": [
    "out = graph.invoke(\n",
    "    {\n",
    "        \"messages\" : \"LLM에 대해서 알려주세요\"\n",
    "    }\n",
    ")"
   ]
  },
  {
   "cell_type": "code",
   "execution_count": 23,
   "id": "bc770e42-125d-416c-9e2a-69152a93de77",
   "metadata": {},
   "outputs": [
    {
     "name": "stdout",
     "output_type": "stream",
     "text": [
      "================================\u001b[1m Human Message \u001b[0m=================================\n",
      "\n",
      "LLM에 대해서 알려주세요\n",
      "==================================\u001b[1m Ai Message \u001b[0m==================================\n",
      "\n",
      "LLM은 \"대규모 언어 모델\" (Large Language Model)의 약자로, 자연어 처리(NLP) 분야에서 사용되는 인공지능 모델입니다. LLM은 방대한 양의 텍스트 데이터를 학습하여 언어의 구조, 의미, 문맥 등을 이해하고 생성할 수 있는 능력을 갖추고 있습니다. \n",
      "\n",
      "주요 특징은 다음과 같습니다:\n",
      "\n",
      "1. **딥 러닝 기반**: LLM은 다양한 딥 러닝 기술, 특히 트랜스포머(Transformer) 아키텍처를 사용하여 개발됩니다. 이 구조는 문맥을 이해하고 긴 문장 및 복잡한 언어적 패턴을 학습하는 데 강력한 성능을 발휘합니다.\n",
      "\n",
      "2. **대량의 데이터 학습**: LLM은 웹사이트, 책, 논문 등에서 수집된 방대한 양의 텍스트 데이터를 학습하여 언어 패턴과 문맥을 학습합니다. 이로 인해 다양한 주제에 대한 지식을 갖추게 됩니다.\n",
      "\n",
      "3. **다양한 작업 수행**: LLM은 글쓰기, 요약, 번역, 질문 응답, 텍스트 생성 등 다양한 언어 관련 작업을 수행할 수 있습니다. \n",
      "\n",
      "4. **맥락 이해**: LLM은 주어진 문맥에 따라 적절한 단어나 구문을 선택하여 텍스트를 생성할 수 있는 능력을 갖추고 있습니다.\n",
      "\n",
      "5. **한계와 도전 과제**: 그럼에도 불구하고, LLM은 항상 정확한 정보를 제공하지 않으며, 가끔 비논리적인 응답을 하거나 편향된 데이터를 학습할 수도 있습니다. 따라서 이러한 모델을 사용할 때는 주의가 필요합니다.\n",
      "\n",
      "현재의 LLM 개발 중 일부 예로는 OpenAI의 GPT(Generative Pre-trained Transformer) 시리즈, Google's BERT, T5, Facebook의 BART 등이 있습니다. 이러한 모델들은 다양한 비즈니스는 물론 일상적인 사용에서도 점점 더 많이 활용되고 있습니다.\n"
     ]
    }
   ],
   "source": [
    "for msg in out['messages']:\n",
    "    msg.pretty_print()"
   ]
  },
  {
   "cell_type": "code",
   "execution_count": 24,
   "id": "1b252d5f-63f9-460f-9919-b754ff88ec66",
   "metadata": {},
   "outputs": [],
   "source": [
    "out = graph.invoke(\n",
    "    {\n",
    "        \"messages\" : \"문벼리의 전화번호를 알려줘\"\n",
    "    }\n",
    ")"
   ]
  },
  {
   "cell_type": "code",
   "execution_count": 25,
   "id": "989a33a7-19e5-4e2e-bfc2-b168db05329f",
   "metadata": {},
   "outputs": [
    {
     "name": "stdout",
     "output_type": "stream",
     "text": [
      "================================\u001b[1m Human Message \u001b[0m=================================\n",
      "\n",
      "문벼리의 전화번호를 알려줘\n",
      "==================================\u001b[1m Ai Message \u001b[0m==================================\n",
      "Tool Calls:\n",
      "  find_phone_number (call_AbujoAjttKxPOS0vjwwC2xVw)\n",
      " Call ID: call_AbujoAjttKxPOS0vjwwC2xVw\n",
      "  Args:\n",
      "    name: 문벼리\n",
      "=================================\u001b[1m Tool Message \u001b[0m=================================\n",
      "Name: find_phone_number\n",
      "\n",
      "010-1234-1234\n"
     ]
    }
   ],
   "source": [
    "for msg in out['messages']:\n",
    "    msg.pretty_print()"
   ]
  }
 ],
 "metadata": {
  "kernelspec": {
   "display_name": "Python (my_jupyter_env)",
   "language": "python",
   "name": "my_jupyter_env"
  },
  "language_info": {
   "codemirror_mode": {
    "name": "ipython",
    "version": 3
   },
   "file_extension": ".py",
   "mimetype": "text/x-python",
   "name": "python",
   "nbconvert_exporter": "python",
   "pygments_lexer": "ipython3",
   "version": "3.10.10"
  }
 },
 "nbformat": 4,
 "nbformat_minor": 5
}
