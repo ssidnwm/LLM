{
 "cells": [
  {
   "cell_type": "code",
   "execution_count": 3,
   "id": "a54be3a7-78c5-429b-8bec-03bae688f7df",
   "metadata": {},
   "outputs": [],
   "source": [
    "from dotenv import load_dotenv\n",
    "from pprint import pprint\n",
    "from langchain_openai import ChatOpenAI\n",
    "from langchain.chains import LLMChain\n",
    "from langchain_core.prompts import ChatPromptTemplate\n",
    "from langchain_core.output_parsers import StrOutputParser"
   ]
  },
  {
   "cell_type": "code",
   "execution_count": 2,
   "id": "03ff018c-ebc3-433a-8c16-22de9a6ec542",
   "metadata": {},
   "outputs": [
    {
     "data": {
      "text/plain": [
       "True"
      ]
     },
     "execution_count": 2,
     "metadata": {},
     "output_type": "execute_result"
    }
   ],
   "source": [
    "load_dotenv()"
   ]
  },
  {
   "cell_type": "code",
   "execution_count": 4,
   "id": "40a853f5-f8be-40dc-bc6e-21338a8fb485",
   "metadata": {},
   "outputs": [],
   "source": [
    "model = ChatOpenAI(\n",
    "    model_name=\"gpt-4o-mini\",\n",
    "    temperature=0\n",
    ")"
   ]
  },
  {
   "cell_type": "code",
   "execution_count": 6,
   "id": "5a581593-842c-439d-984a-ebb6ea764d07",
   "metadata": {},
   "outputs": [],
   "source": [
    "prompt_find = ChatPromptTemplate.from_messages(\n",
    "    [\n",
    "        (\n",
    "            \"system\", \"you are a helpful assistant.\",\n",
    "        ),\n",
    "        (\n",
    "            \"human\",\"Find the Bible verse {verse} in English Standard Version. Just give me the Verse.\"\n",
    "        )\n",
    "    ]\n",
    ")"
   ]
  },
  {
   "cell_type": "code",
   "execution_count": 7,
   "id": "1984829d-108e-4b8b-b904-bee36b2da2e6",
   "metadata": {},
   "outputs": [],
   "source": [
    "task_find = prompt_find | model | StrOutputParser()"
   ]
  },
  {
   "cell_type": "code",
   "execution_count": 10,
   "id": "1c797b5e-5192-4358-abb4-99479aab42af",
   "metadata": {},
   "outputs": [],
   "source": [
    "verse = task_find.invoke(\n",
    "    {\n",
    "        \"verse\": \"John 3:16\"\n",
    "    }\n",
    ")"
   ]
  },
  {
   "cell_type": "code",
   "execution_count": 11,
   "id": "b4b244c0-d0d2-473c-98b3-9199240e4714",
   "metadata": {},
   "outputs": [
    {
     "name": "stdout",
     "output_type": "stream",
     "text": [
      "John 3:16 (ESV): \"For God so loved the world, that he gave his only Son, that whoever believes in him should not perish but have eternal life.\"\n"
     ]
    }
   ],
   "source": [
    "print(verse)"
   ]
  },
  {
   "cell_type": "code",
   "execution_count": 14,
   "id": "98562ef0-7f14-497b-9e26-6fcf0f6e6b2e",
   "metadata": {},
   "outputs": [],
   "source": [
    "results = {\n",
    "    \"results\": {\n",
    "        \"Korean\" : \"???\",\n",
    "        \"Spanish\": \"???\",\n",
    "    }\n",
    "}"
   ]
  },
  {
   "cell_type": "code",
   "execution_count": 15,
   "id": "36b685d5-d961-41a5-86b5-568099a9f18e",
   "metadata": {},
   "outputs": [
    {
     "name": "stdout",
     "output_type": "stream",
     "text": [
      "{'results': {'Korean': '???', 'Spanish': '???'}}\n"
     ]
    }
   ],
   "source": [
    "pprint(results)"
   ]
  },
  {
   "cell_type": "code",
   "execution_count": 17,
   "id": "c763457b-3dfc-4a03-a6ca-ad33f79e6238",
   "metadata": {},
   "outputs": [],
   "source": [
    "prompt_translate = ChatPromptTemplate.from_messages(\n",
    "    [\n",
    "        (\n",
    "            \"system\", \"You are an Expert treanlator who translats English to {output_language}\",\n",
    "        ),\n",
    "        (\n",
    "            \"human\",\"Translate this text: {text}\"\n",
    "        )\n",
    "    ]\n",
    ")"
   ]
  },
  {
   "cell_type": "code",
   "execution_count": 18,
   "id": "1bee6595-4530-4461-b011-1e6ccd4584d2",
   "metadata": {},
   "outputs": [],
   "source": [
    "task_korean = prompt_translate | model | StrOutputParser()"
   ]
  },
  {
   "cell_type": "code",
   "execution_count": 20,
   "id": "1287b032-937a-431f-8fcc-0782e4ba84a5",
   "metadata": {},
   "outputs": [],
   "source": [
    "results[\"results\"][\"Korean\"] = task_korean.invoke(\n",
    "    {\n",
    "        \"output_language\":\"korean\",\n",
    "        \"text\" : verse\n",
    "    }\n",
    ")"
   ]
  },
  {
   "cell_type": "code",
   "execution_count": 21,
   "id": "c7463410-62a5-41d6-8e78-13690bd78db7",
   "metadata": {},
   "outputs": [
    {
     "name": "stdout",
     "output_type": "stream",
     "text": [
      "{'results': {'Korean': '요한복음 3:16 (개역개정판): \"하나님이 세상을 이처럼 사랑하사 독생자를 주셨으니, 이는 그를 '\n",
      "                       '믿는 자마다 멸망하지 않고 영생을 얻게 하려 하심이라.\"',\n",
      "             'Spanish': '???'}}\n"
     ]
    }
   ],
   "source": [
    "pprint(results)"
   ]
  },
  {
   "cell_type": "code",
   "execution_count": 23,
   "id": "076565a5-6540-44c8-a2c9-181aad65836e",
   "metadata": {},
   "outputs": [],
   "source": [
    "task_spanish = prompt_translate | model | StrOutputParser()"
   ]
  },
  {
   "cell_type": "code",
   "execution_count": 24,
   "id": "0345f196-bae8-448c-ab48-753447329ff6",
   "metadata": {},
   "outputs": [],
   "source": [
    "results[\"results\"][\"Spanish\"] = task_spanish.invoke(\n",
    "    {\n",
    "        \"output_language\" : \"Spanish\",\n",
    "        \"text\" : verse\n",
    "    }\n",
    ")"
   ]
  },
  {
   "cell_type": "code",
   "execution_count": 25,
   "id": "9ddd22dd-2131-4524-83fe-ab9a388644ad",
   "metadata": {},
   "outputs": [
    {
     "name": "stdout",
     "output_type": "stream",
     "text": [
      "{'results': {'Korean': '요한복음 3:16 (개역개정판): \"하나님이 세상을 이처럼 사랑하사 독생자를 주셨으니, 이는 그를 '\n",
      "                       '믿는 자마다 멸망하지 않고 영생을 얻게 하려 하심이라.\"',\n",
      "             'Spanish': 'Juan 3:16 (RVR): \"Porque de tal manera amó Dios al '\n",
      "                        'mundo, que ha dado a su Hijo unigénito, para que todo '\n",
      "                        'aquel que en él cree, no se pierda, mas tenga vida '\n",
      "                        'eterna.\"'}}\n"
     ]
    }
   ],
   "source": [
    "pprint(results)"
   ]
  },
  {
   "cell_type": "code",
   "execution_count": 26,
   "id": "a59c48d5-b8fd-434f-a1a9-d3585631d535",
   "metadata": {},
   "outputs": [],
   "source": [
    "def pretty_out(results):\n",
    "    out = f\"\"\"\n",
    "[English to Korean]\n",
    "{results[\"results\"][\"Korean\"]}\n",
    "[English to Spanish]\n",
    "{results[\"results\"][\"Spanish\"]}\n",
    "\"\"\"\n",
    "\n",
    "    return out"
   ]
  },
  {
   "cell_type": "code",
   "execution_count": 27,
   "id": "acd89a74-670d-4e3e-b2ae-a7cec3f49c4f",
   "metadata": {},
   "outputs": [],
   "source": [
    "out = pretty_out(results)"
   ]
  },
  {
   "cell_type": "code",
   "execution_count": 28,
   "id": "9ad517b8-2cfe-4094-8c27-751abf36ce95",
   "metadata": {},
   "outputs": [
    {
     "name": "stdout",
     "output_type": "stream",
     "text": [
      "\n",
      "[English to Korean]\n",
      "요한복음 3:16 (개역개정판): \"하나님이 세상을 이처럼 사랑하사 독생자를 주셨으니, 이는 그를 믿는 자마다 멸망하지 않고 영생을 얻게 하려 하심이라.\"\n",
      "[English to Spanish]\n",
      "Juan 3:16 (RVR): \"Porque de tal manera amó Dios al mundo, que ha dado a su Hijo unigénito, para que todo aquel que en él cree, no se pierda, mas tenga vida eterna.\"\n",
      "\n"
     ]
    }
   ],
   "source": [
    "print(out)"
   ]
  },
  {
   "cell_type": "markdown",
   "id": "78d38555-b084-4107-8547-f234562a0528",
   "metadata": {},
   "source": [
    "Parallel"
   ]
  },
  {
   "cell_type": "code",
   "execution_count": 29,
   "id": "670efe73-b9b3-4e20-a60b-c7dcd2400cbc",
   "metadata": {},
   "outputs": [],
   "source": [
    "from langchain_core.runnables import RunnableLambda\n",
    "from langchain_core.runnables import RunnableParallel"
   ]
  },
  {
   "cell_type": "code",
   "execution_count": 50,
   "id": "ea5eb2d0-bf53-4fdf-95a4-8c8a9b2efe6b",
   "metadata": {},
   "outputs": [],
   "source": [
    "task_korean = RunnableLambda(\n",
    "    lambda text : prompt_translate.format_prompt(text=text, output_language=\"korean\")\n",
    ")\n"
   ]
  },
  {
   "cell_type": "code",
   "execution_count": 51,
   "id": "7f6c184a-b729-4327-88a1-94a2bb63ca01",
   "metadata": {},
   "outputs": [],
   "source": [
    "task_spanish = RunnableLambda(\n",
    "    lambda text : prompt_translate.format_prompt(text=text, output_language = \"Spanish\")\n",
    ")\n"
   ]
  },
  {
   "cell_type": "code",
   "execution_count": 52,
   "id": "970dc4f1-56c7-48ce-8a26-594217f8c5c2",
   "metadata": {},
   "outputs": [],
   "source": [
    "task_translate = RunnableParallel(\n",
    "    results={\n",
    "        \"Korean\" : task_korean | model | StrOutputParser(),\n",
    "        \"Spanish\" : task_spanish | model | StrOutputParser()\n",
    "    }\n",
    ")"
   ]
  },
  {
   "cell_type": "code",
   "execution_count": 53,
   "id": "72985384-93ab-44a8-b124-aee66e9ce51b",
   "metadata": {},
   "outputs": [],
   "source": [
    "task_combine = RunnableLambda(\n",
    "    lambda results : pretty_out(results)\n",
    ")"
   ]
  },
  {
   "cell_type": "code",
   "execution_count": 54,
   "id": "bc8d2736-8c20-4054-a7bc-d0ae3014db19",
   "metadata": {},
   "outputs": [],
   "source": [
    "chain_parallel = (\n",
    "    prompt_find\n",
    "    | model\n",
    "    | StrOutputParser()\n",
    "    | task_translate\n",
    "    | task_combine\n",
    "    \n",
    ")"
   ]
  },
  {
   "cell_type": "code",
   "execution_count": 55,
   "id": "a34996e6-a207-4d71-a932-7257f8e43f14",
   "metadata": {},
   "outputs": [],
   "source": [
    "out = chain_parallel.invoke(\n",
    "    {\n",
    "        \"verse\" : \"John 3:16\"\n",
    "    }\n",
    ")"
   ]
  },
  {
   "cell_type": "code",
   "execution_count": 56,
   "id": "934da408-b4dd-4fac-9f85-350e503d1f7b",
   "metadata": {},
   "outputs": [
    {
     "name": "stdout",
     "output_type": "stream",
     "text": [
      "\n",
      "[English to Korean]\n",
      "요한복음 3:16 (개역개정판): \"하나님이 세상을 이처럼 사랑하사 독생자를 주셨으니, 이는 그를 믿는 자마다 멸망하지 않고 영생을 얻게 하려 하심이라.\"\n",
      "[English to Spanish]\n",
      "Juan 3:16 (RVR): \"Porque de tal manera amó Dios al mundo, que ha dado a su Hijo unigénito, para que todo aquel que en él cree, no se pierda, mas tenga vida eterna.\"\n",
      "\n"
     ]
    }
   ],
   "source": [
    "print(out)"
   ]
  },
  {
   "cell_type": "markdown",
   "id": "bcffe2bb-27ca-40ee-ae64-f8b9c87b6458",
   "metadata": {},
   "source": [
    "batch"
   ]
  },
  {
   "cell_type": "code",
   "execution_count": 57,
   "id": "aeb0024b-4906-4b63-86f5-cd4756f22140",
   "metadata": {},
   "outputs": [],
   "source": [
    "from langchain_core.prompts import ChatPromptTemplate"
   ]
  },
  {
   "cell_type": "code",
   "execution_count": 58,
   "id": "414af530-bce9-43f9-87bd-f7276377fb5e",
   "metadata": {},
   "outputs": [],
   "source": [
    "prompt = ChatPromptTemplate.from_messages(\n",
    "    [\n",
    "        (\n",
    "            \"system\", \"당신은 뛰어난 번역가입니다.\",\n",
    "        ),\n",
    "        (\n",
    "            \"human\", \"다음 한글 문장을 영어로 번역해주세요. 번역된 글 외에는 넣지 말아주세요: {text}\"\n",
    "        )\n",
    "    ]\n",
    ")"
   ]
  },
  {
   "cell_type": "code",
   "execution_count": 59,
   "id": "177757ad-339f-435d-9802-af22111daa83",
   "metadata": {},
   "outputs": [],
   "source": [
    "from langchain.chains import LLMChain"
   ]
  },
  {
   "cell_type": "code",
   "execution_count": 60,
   "id": "0ee27e8b-b21c-4d19-a0d6-cc679165bf4d",
   "metadata": {},
   "outputs": [],
   "source": [
    "chain = prompt | model"
   ]
  },
  {
   "cell_type": "code",
   "execution_count": 61,
   "id": "222a64c4-444c-46cf-88ca-28d05243d9ff",
   "metadata": {},
   "outputs": [],
   "source": [
    "sentences = [\n",
    "    {\"text\": \"영화를 보고 싶다.\"},\n",
    "    {\"text\": \"커피가 땡긴다.\"},\n",
    "    {\"text\": \"여행을 갔다.\"},\n",
    "    {\"text\": \"하나님이 세상을 이처럼 사랑하사 독생자를 주셨으니 이는 그를 믿는 자마다 멸망하지 않고 영생을 얻게 하심이라\"},\n",
    "]"
   ]
  },
  {
   "cell_type": "markdown",
   "id": "4b49db3e-fc7d-4b18-99b2-c198024153e2",
   "metadata": {},
   "source": [
    "run batch"
   ]
  },
  {
   "cell_type": "code",
   "execution_count": 62,
   "id": "2d6dd12d-7e77-4b6e-ba3d-d8ad4d67864f",
   "metadata": {},
   "outputs": [],
   "source": [
    "out = chain.batch(sentences)"
   ]
  },
  {
   "cell_type": "code",
   "execution_count": 63,
   "id": "f61e9904-6887-4f48-a46e-90b919420594",
   "metadata": {},
   "outputs": [
    {
     "name": "stdout",
     "output_type": "stream",
     "text": [
      "==================================\u001b[1m Ai Message \u001b[0m==================================\n",
      "\n",
      "I want to watch a movie.\n",
      "==================================\u001b[1m Ai Message \u001b[0m==================================\n",
      "\n",
      "I crave coffee.\n",
      "==================================\u001b[1m Ai Message \u001b[0m==================================\n",
      "\n",
      "I went on a trip.\n",
      "==================================\u001b[1m Ai Message \u001b[0m==================================\n",
      "\n",
      "For God so loved the world that He gave His only begotten Son, that whoever believes in Him should not perish but have everlasting life.\n"
     ]
    }
   ],
   "source": [
    "for msg in out:\n",
    "    msg.pretty_print()"
   ]
  }
 ],
 "metadata": {
  "kernelspec": {
   "display_name": "Python (my_jupyter_env)",
   "language": "python",
   "name": "my_jupyter_env"
  },
  "language_info": {
   "codemirror_mode": {
    "name": "ipython",
    "version": 3
   },
   "file_extension": ".py",
   "mimetype": "text/x-python",
   "name": "python",
   "nbconvert_exporter": "python",
   "pygments_lexer": "ipython3",
   "version": "3.10.10"
  }
 },
 "nbformat": 4,
 "nbformat_minor": 5
}
