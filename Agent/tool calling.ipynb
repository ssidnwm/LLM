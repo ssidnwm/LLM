{
 "cells": [
  {
   "cell_type": "code",
   "execution_count": 1,
   "id": "9affda1b-4d96-4baa-8f1e-7bb9ec4a2ddc",
   "metadata": {},
   "outputs": [],
   "source": [
    "from dotenv import load_dotenv"
   ]
  },
  {
   "cell_type": "code",
   "execution_count": 2,
   "id": "6b1b6c50-a14e-49ce-a61c-7e3d5e275f9c",
   "metadata": {},
   "outputs": [
    {
     "data": {
      "text/plain": [
       "True"
      ]
     },
     "execution_count": 2,
     "metadata": {},
     "output_type": "execute_result"
    }
   ],
   "source": [
    "load_dotenv()"
   ]
  },
  {
   "cell_type": "code",
   "execution_count": 3,
   "id": "82114880-6663-41cd-995c-24c4eb108a70",
   "metadata": {},
   "outputs": [],
   "source": [
    "from langchain_openai import ChatOpenAI"
   ]
  },
  {
   "cell_type": "code",
   "execution_count": 4,
   "id": "fecbeed1-021e-4e5e-983f-70f74f876c58",
   "metadata": {},
   "outputs": [],
   "source": [
    "model = ChatOpenAI(\n",
    "    model_name=\"gpt-4o-mini\",\n",
    "    temperature=0\n",
    ")"
   ]
  },
  {
   "cell_type": "code",
   "execution_count": 5,
   "id": "9294b058-d556-424d-891e-f790666f8efd",
   "metadata": {},
   "outputs": [],
   "source": [
    "from langchain_core.prompts import ChatPromptTemplate"
   ]
  },
  {
   "cell_type": "code",
   "execution_count": 6,
   "id": "d6fa0c18-a27d-4c06-a562-c675868928ed",
   "metadata": {},
   "outputs": [],
   "source": [
    "prompt = ChatPromptTemplate.from_messages(\n",
    "    [\n",
    "        (\"system\",\"you are a helpful assistant\"),\n",
    "        (\"human\", \"{input}\"),\n",
    "    ]\n",
    ")"
   ]
  },
  {
   "cell_type": "code",
   "execution_count": 7,
   "id": "f0e1b628-c178-470b-8148-b0320869576c",
   "metadata": {},
   "outputs": [],
   "source": [
    "msg = prompt.format_prompt(input=\"9.9 is grater than 9.11\")"
   ]
  },
  {
   "cell_type": "code",
   "execution_count": 8,
   "id": "b119e9c4-dfe4-4232-81fa-b9b2e5a9c362",
   "metadata": {},
   "outputs": [],
   "source": [
    "response = model.invoke(msg)"
   ]
  },
  {
   "cell_type": "code",
   "execution_count": 9,
   "id": "e3d9b427-3df0-4525-8ce1-6445f65623c7",
   "metadata": {},
   "outputs": [
    {
     "name": "stdout",
     "output_type": "stream",
     "text": [
      "Actually, 9.9 is not greater than 9.11. When comparing these two numbers, 9.9 is equivalent to 9.90, which is less than 9.11. Therefore, 9.11 is greater than 9.9.\n"
     ]
    }
   ],
   "source": [
    "print(response.content)"
   ]
  },
  {
   "cell_type": "markdown",
   "id": "10489516-c048-4f77-a650-2f751c690501",
   "metadata": {},
   "source": [
    "## Tool을 사용해보기"
   ]
  },
  {
   "cell_type": "code",
   "execution_count": 10,
   "id": "4c3c3f37-e400-4be2-89aa-324a29679fc7",
   "metadata": {},
   "outputs": [],
   "source": [
    "from langchain.agents import tool"
   ]
  },
  {
   "cell_type": "code",
   "execution_count": 11,
   "id": "ff071df8-68c0-4fc8-a152-bda694ab0280",
   "metadata": {},
   "outputs": [],
   "source": [
    "@tool\n",
    "def compare_two_numbers(x: float, y: float) -> str:\n",
    "    \"\"\"\n",
    "    compare float x and float y,\n",
    "    return a blloean value True if x is grater than y, False if y is grager than X.\n",
    "    \"\"\"\n",
    "    if x > y:\n",
    "        return True\n",
    "    else:\n",
    "        return False"
   ]
  },
  {
   "cell_type": "code",
   "execution_count": 12,
   "id": "3bc40daa-4efb-4dbd-875b-c1d6677920fd",
   "metadata": {},
   "outputs": [],
   "source": [
    "tools = [compare_two_numbers]"
   ]
  },
  {
   "cell_type": "code",
   "execution_count": 13,
   "id": "7724b320-cc22-49a6-b5cb-6c0f49cdfee8",
   "metadata": {},
   "outputs": [],
   "source": [
    "from langchain.agents import AgentExecutor, create_tool_calling_agent"
   ]
  },
  {
   "cell_type": "code",
   "execution_count": 14,
   "id": "205277ed-9a8d-413a-851e-5880aa9c335f",
   "metadata": {},
   "outputs": [],
   "source": [
    "prompt = ChatPromptTemplate.from_messages(\n",
    "    [\n",
    "        (\"system\", \"you are a helpful assistant\"),\n",
    "        (\"human\",\"{input}\"),\n",
    "        (\"placeholder\",\"{agent_scratchpad}\")\n",
    "        \n",
    "    ]\n",
    ")"
   ]
  },
  {
   "cell_type": "code",
   "execution_count": 15,
   "id": "e1871260-7246-4297-80d2-1aa3be4e5356",
   "metadata": {},
   "outputs": [],
   "source": [
    "agent=create_tool_calling_agent(model, tools, prompt)"
   ]
  },
  {
   "cell_type": "code",
   "execution_count": 16,
   "id": "246b900a-87bb-43d9-8a47-91d56a6c2380",
   "metadata": {},
   "outputs": [],
   "source": [
    "agent_executor=AgentExecutor(agent=agent, tools=tools, verbose=True)"
   ]
  },
  {
   "cell_type": "code",
   "execution_count": 17,
   "id": "36c9d0ae-43eb-40ea-821e-ed5d5a0b0c90",
   "metadata": {},
   "outputs": [
    {
     "name": "stdout",
     "output_type": "stream",
     "text": [
      "\n",
      "\n",
      "\u001b[1m> Entering new AgentExecutor chain...\u001b[0m\n",
      "\u001b[32;1m\u001b[1;3m\n",
      "Invoking: `compare_two_numbers` with `{'x': 9.9, 'y': 9.11}`\n",
      "\n",
      "\n",
      "\u001b[0m\u001b[36;1m\u001b[1;3mTrue\u001b[0m\u001b[32;1m\u001b[1;3mYes, 9.9 is greater than 9.11.\u001b[0m\n",
      "\n",
      "\u001b[1m> Finished chain.\u001b[0m\n"
     ]
    }
   ],
   "source": [
    "response = agent_executor.invoke(\n",
    "    {\n",
    "        \"input\" : \"9.9 is greater than 9.11\"\n",
    "    }\n",
    ")"
   ]
  },
  {
   "cell_type": "code",
   "execution_count": 18,
   "id": "d7d86449-5a4f-48b7-97f0-ddb60266d483",
   "metadata": {},
   "outputs": [
    {
     "name": "stdout",
     "output_type": "stream",
     "text": [
      "Yes, 9.9 is greater than 9.11.\n"
     ]
    }
   ],
   "source": [
    "print(response[\"output\"])"
   ]
  },
  {
   "cell_type": "code",
   "execution_count": 19,
   "id": "2211859f-f9ba-4177-a121-83f42304b1fd",
   "metadata": {},
   "outputs": [
    {
     "name": "stdout",
     "output_type": "stream",
     "text": [
      "\n",
      "\n",
      "\u001b[1m> Entering new AgentExecutor chain...\u001b[0m\n",
      "\u001b[32;1m\u001b[1;3m\n",
      "Invoking: `compare_two_numbers` with `{'x': 9.9, 'y': 9.11}`\n",
      "\n",
      "\n",
      "\u001b[0m\u001b[36;1m\u001b[1;3mTrue\u001b[0m\u001b[32;1m\u001b[1;3m\n",
      "Invoking: `compare_two_numbers` with `{'x': 9.11, 'y': 9.9}`\n",
      "\n",
      "\n",
      "\u001b[0m\u001b[36;1m\u001b[1;3mFalse\u001b[0m\u001b[32;1m\u001b[1;3m9.11 is greater than 9.9.\u001b[0m\n",
      "\n",
      "\u001b[1m> Finished chain.\u001b[0m\n"
     ]
    }
   ],
   "source": [
    "response = agent_executor.invoke(\n",
    "    {\n",
    "        \"input\" : \"Which one is grater? 9.9 and 9.11\"\n",
    "    }\n",
    ")"
   ]
  },
  {
   "cell_type": "code",
   "execution_count": 20,
   "id": "b2b5ae1b-9df4-42b1-919a-db1b9c8c0835",
   "metadata": {},
   "outputs": [
    {
     "name": "stdout",
     "output_type": "stream",
     "text": [
      "9.11 is greater than 9.9.\n"
     ]
    }
   ],
   "source": [
    "print(response[\"output\"])"
   ]
  },
  {
   "cell_type": "markdown",
   "id": "079f784e-72c8-45f9-9a46-8fca8158e163",
   "metadata": {},
   "source": [
    "tool calling agent 2"
   ]
  },
  {
   "cell_type": "code",
   "execution_count": 21,
   "id": "f566ff17-907e-4a70-aa6b-2cb3b8808457",
   "metadata": {},
   "outputs": [],
   "source": [
    "@tool\n",
    "def find_phone_number(name: str) -> str:\n",
    "    \"\"\"\n",
    "    주어진 사람들의 전화번호를 찾아서 반환합니다.\n",
    "    전화번호를 찾지 못한 경우 None을 반환합니다.\n",
    "    \"\"\"\n",
    "    phone_book = {\n",
    "        \"문벼리\": \"010-1234-1234\",\n",
    "        \"양승렬\": \"010-2434-2434\",\n",
    "        \"장동원\": \"010-4142-1424\",\n",
    "    }\n",
    "    if name in phone_book:\n",
    "        return phone_book[name]\n",
    "    else:\n",
    "        return None"
   ]
  },
  {
   "cell_type": "code",
   "execution_count": 22,
   "id": "377f258c-f921-4aa3-9267-4287a2e493d0",
   "metadata": {},
   "outputs": [],
   "source": [
    "tools = [find_phone_number]"
   ]
  },
  {
   "cell_type": "code",
   "execution_count": 23,
   "id": "7bed59cd-e4da-47cf-aae9-7de22ce0e4a9",
   "metadata": {},
   "outputs": [],
   "source": [
    "from langchain.agents import AgentExecutor, create_tool_calling_agent"
   ]
  },
  {
   "cell_type": "code",
   "execution_count": 24,
   "id": "52dbcb40-0b2c-497c-b335-0aa748d34089",
   "metadata": {},
   "outputs": [],
   "source": [
    "prompt = ChatPromptTemplate.from_messages(\n",
    "    [\n",
    "        (\"system\",\"you are a helpful assistant\"),\n",
    "        (\"human\",\"{input}\"),\n",
    "        (\"placeholder\",\"{agent_scratchpad}\"),\n",
    "    ]\n",
    ")"
   ]
  },
  {
   "cell_type": "code",
   "execution_count": 25,
   "id": "8ee9bbfe-a6fa-4e00-9b88-bf9d59598428",
   "metadata": {},
   "outputs": [],
   "source": [
    "agent = create_tool_calling_agent(model, tools, prompt)"
   ]
  },
  {
   "cell_type": "code",
   "execution_count": 26,
   "id": "93deac87-6585-4885-a417-49c11d1b730e",
   "metadata": {},
   "outputs": [],
   "source": [
    "agent_executor = AgentExecutor(agent=agent, tools=tools, verbose = True)"
   ]
  },
  {
   "cell_type": "code",
   "execution_count": 27,
   "id": "cb00deaa-9633-42ac-aa4d-2157ecefb95f",
   "metadata": {},
   "outputs": [
    {
     "name": "stdout",
     "output_type": "stream",
     "text": [
      "\n",
      "\n",
      "\u001b[1m> Entering new AgentExecutor chain...\u001b[0m\n",
      "\u001b[32;1m\u001b[1;3m\n",
      "Invoking: `find_phone_number` with `{'name': '문벼리'}`\n",
      "\n",
      "\n",
      "\u001b[0m\u001b[36;1m\u001b[1;3m010-1234-1234\u001b[0m\u001b[32;1m\u001b[1;3m문벼리의 전화번호는 010-1234-1234입니다.\u001b[0m\n",
      "\n",
      "\u001b[1m> Finished chain.\u001b[0m\n"
     ]
    }
   ],
   "source": [
    "response = agent_executor.invoke(\n",
    "    {\n",
    "        \"input\":\"문벼리의 전화번호를 알려줘\"\n",
    "    }\n",
    ")"
   ]
  },
  {
   "cell_type": "code",
   "execution_count": 28,
   "id": "62b53289-a7ff-4c59-a8e6-a954bfb181b7",
   "metadata": {},
   "outputs": [
    {
     "data": {
      "text/plain": [
       "{'input': '문벼리의 전화번호를 알려줘', 'output': '문벼리의 전화번호는 010-1234-1234입니다.'}"
      ]
     },
     "execution_count": 28,
     "metadata": {},
     "output_type": "execute_result"
    }
   ],
   "source": [
    "response"
   ]
  },
  {
   "cell_type": "code",
   "execution_count": 29,
   "id": "8cd23da7-50d3-482b-9894-f276758eb7ac",
   "metadata": {},
   "outputs": [],
   "source": [
    "agent_executor.verbose = False"
   ]
  },
  {
   "cell_type": "code",
   "execution_count": 30,
   "id": "a017e5c4-a063-4912-9631-b6f17b242194",
   "metadata": {},
   "outputs": [],
   "source": [
    "response = agent_executor.invoke(\n",
    "    {\n",
    "        \"input\": \"양승렬의 전화번호를 알려주세요\"\n",
    "    }\n",
    ")"
   ]
  },
  {
   "cell_type": "code",
   "execution_count": 31,
   "id": "4ad0ccc5-921c-402b-9657-5770a58c901a",
   "metadata": {},
   "outputs": [
    {
     "name": "stdout",
     "output_type": "stream",
     "text": [
      "양승렬의 전화번호는 010-2434-2434입니다.\n"
     ]
    }
   ],
   "source": [
    "print(response[\"output\"])"
   ]
  },
  {
   "cell_type": "markdown",
   "id": "bd0cda45-f4f0-4fd1-a3b4-05bda119ab2c",
   "metadata": {},
   "source": [
    "Multi Tools"
   ]
  },
  {
   "cell_type": "code",
   "execution_count": 32,
   "id": "6393dc02-eadb-4c6b-95b8-603b5f705cc3",
   "metadata": {},
   "outputs": [],
   "source": [
    "@tool\n",
    "def get_weather(location: str)-> str:\n",
    "    \"\"\"\n",
    "    주어진 지역에 대한 날씨를 반환합니다.\n",
    "    날씨 정보가 없는 경우 none을 반환합니다.\n",
    "    \"\"\"\n",
    "    weather_data = {\n",
    "        \"서울\": \"맑음\",\n",
    "        \"포항\": \"바람이 많이 붐\",\n",
    "        \"제주도\" : \"흐림\"\n",
    "    }\n",
    "    if location in weather_data:\n",
    "        return weather_data[location]\n",
    "    else:\n",
    "        return None"
   ]
  },
  {
   "cell_type": "code",
   "execution_count": 33,
   "id": "0f6bdd0a-58df-4420-a442-d20660adde57",
   "metadata": {},
   "outputs": [],
   "source": [
    "tools = [find_phone_number, get_weather]"
   ]
  },
  {
   "cell_type": "code",
   "execution_count": 34,
   "id": "403054fd-17ad-490f-baa0-d86591bd6b17",
   "metadata": {},
   "outputs": [],
   "source": [
    "prompt = ChatPromptTemplate.from_messages(\n",
    "    [\n",
    "        (\n",
    "            \"system\", \"you are a helpful assistant\"\n",
    "        ),\n",
    "        (\n",
    "            \"human\",\"{input}\"\n",
    "        ),\n",
    "        (\n",
    "            \"placeholder\",\"{agent_scratchpad}\"\n",
    "        ),\n",
    "    ]\n",
    ")"
   ]
  },
  {
   "cell_type": "code",
   "execution_count": 35,
   "id": "7dde8103-f7e0-44c1-92d9-8ef03910fdba",
   "metadata": {},
   "outputs": [],
   "source": [
    "agent = create_tool_calling_agent(model, tools, prompt)"
   ]
  },
  {
   "cell_type": "code",
   "execution_count": 36,
   "id": "c1bb07cb-0697-45ab-a129-333a08152555",
   "metadata": {},
   "outputs": [],
   "source": [
    "agent_executor = AgentExecutor(agent=agent, tools=tools, verbose=True)"
   ]
  },
  {
   "cell_type": "code",
   "execution_count": 37,
   "id": "b8e4847e-4fbe-4ffb-a6d2-a9ba8a7a6e26",
   "metadata": {},
   "outputs": [
    {
     "name": "stdout",
     "output_type": "stream",
     "text": [
      "\n",
      "\n",
      "\u001b[1m> Entering new AgentExecutor chain...\u001b[0m\n",
      "\u001b[32;1m\u001b[1;3m\n",
      "Invoking: `find_phone_number` with `{'name': '문벼리'}`\n",
      "\n",
      "\n",
      "\u001b[0m\u001b[36;1m\u001b[1;3m010-1234-1234\u001b[0m\u001b[32;1m\u001b[1;3m문벼리의 전화번호는 010-1234-1234입니다.\u001b[0m\n",
      "\n",
      "\u001b[1m> Finished chain.\u001b[0m\n"
     ]
    }
   ],
   "source": [
    "response = agent_executor.invoke(\n",
    "    {\n",
    "        \"input\":\"문벼리의 전화번호를 알려주세요\"\n",
    "    }\n",
    ")"
   ]
  },
  {
   "cell_type": "code",
   "execution_count": 38,
   "id": "001655a4-d72b-4592-8cb6-40dc8538cb01",
   "metadata": {},
   "outputs": [
    {
     "data": {
      "text/plain": [
       "{'input': '문벼리의 전화번호를 알려주세요', 'output': '문벼리의 전화번호는 010-1234-1234입니다.'}"
      ]
     },
     "execution_count": 38,
     "metadata": {},
     "output_type": "execute_result"
    }
   ],
   "source": [
    "response"
   ]
  },
  {
   "cell_type": "code",
   "execution_count": 39,
   "id": "bb28944a-aa73-4b7b-bbd6-ead2a6a025b0",
   "metadata": {},
   "outputs": [
    {
     "name": "stdout",
     "output_type": "stream",
     "text": [
      "\n",
      "\n",
      "\u001b[1m> Entering new AgentExecutor chain...\u001b[0m\n",
      "\u001b[32;1m\u001b[1;3m\n",
      "Invoking: `get_weather` with `{'location': '포항'}`\n",
      "\n",
      "\n",
      "\u001b[0m\u001b[33;1m\u001b[1;3m바람이 많이 붐\u001b[0m\u001b[32;1m\u001b[1;3m오늘 포항은 바람이 많이 붐니다. 날씨에 유의하세요!\u001b[0m\n",
      "\n",
      "\u001b[1m> Finished chain.\u001b[0m\n"
     ]
    }
   ],
   "source": [
    "response = agent_executor.invoke(\n",
    "    {\n",
    "        \"input\":\"오늘 포항 날씨를 알려주세요\"\n",
    "    }\n",
    ")"
   ]
  },
  {
   "cell_type": "code",
   "execution_count": 40,
   "id": "7bb9eec2-deef-4bec-b6fb-5c1c101893e1",
   "metadata": {},
   "outputs": [
    {
     "data": {
      "text/plain": [
       "{'input': '오늘 포항 날씨를 알려주세요', 'output': '오늘 포항은 바람이 많이 붐니다. 날씨에 유의하세요!'}"
      ]
     },
     "execution_count": 40,
     "metadata": {},
     "output_type": "execute_result"
    }
   ],
   "source": [
    "response"
   ]
  },
  {
   "cell_type": "code",
   "execution_count": 41,
   "id": "776d12a5-7cc4-47d0-a817-f2bbed274178",
   "metadata": {},
   "outputs": [
    {
     "name": "stdout",
     "output_type": "stream",
     "text": [
      "\n",
      "\n",
      "\u001b[1m> Entering new AgentExecutor chain...\u001b[0m\n",
      "\u001b[32;1m\u001b[1;3m\n",
      "Invoking: `find_phone_number` with `{'name': '문벼리'}`\n",
      "\n",
      "\n",
      "\u001b[0m\u001b[36;1m\u001b[1;3m010-1234-1234\u001b[0m\u001b[32;1m\u001b[1;3m\n",
      "Invoking: `get_weather` with `{'location': '포항'}`\n",
      "\n",
      "\n",
      "\u001b[0m\u001b[33;1m\u001b[1;3m바람이 많이 붐\u001b[0m\u001b[32;1m\u001b[1;3m문벼리의 전화번호는 010-1234-1234입니다. 포항의 날씨는 \"바람이 많이 붑니다.\"입니다.\u001b[0m\n",
      "\n",
      "\u001b[1m> Finished chain.\u001b[0m\n"
     ]
    }
   ],
   "source": [
    "response = agent_executor.invoke(\n",
    "    {\n",
    "        \"input\":\"문벼리에게 오늘 포항 날씨를 알려주고 싶은데, 문벼리의 전화번호와 포항 날씨를 알려줘\"\n",
    "    }\n",
    ")"
   ]
  },
  {
   "cell_type": "code",
   "execution_count": 42,
   "id": "61c8407a-eba2-4d3a-a0a1-9ec7c2f9c646",
   "metadata": {},
   "outputs": [
    {
     "data": {
      "text/plain": [
       "{'input': '문벼리에게 오늘 포항 날씨를 알려주고 싶은데, 문벼리의 전화번호와 포항 날씨를 알려줘',\n",
       " 'output': '문벼리의 전화번호는 010-1234-1234입니다. 포항의 날씨는 \"바람이 많이 붑니다.\"입니다.'}"
      ]
     },
     "execution_count": 42,
     "metadata": {},
     "output_type": "execute_result"
    }
   ],
   "source": [
    "response"
   ]
  },
  {
   "cell_type": "markdown",
   "id": "3a4551ab-2965-4c35-984a-1588126e268e",
   "metadata": {},
   "source": [
    "Bind Tools with Model"
   ]
  },
  {
   "cell_type": "code",
   "execution_count": 47,
   "id": "769f9ff7-be34-4602-855d-dbf3f583d45f",
   "metadata": {},
   "outputs": [],
   "source": [
    "msg = prompt.format_prompt(input=\"문벼리의 전화번호를 알려주세요.\")"
   ]
  },
  {
   "cell_type": "code",
   "execution_count": 43,
   "id": "8afa294b-2846-4f29-96f9-71a2c767fe81",
   "metadata": {},
   "outputs": [],
   "source": [
    "tools = [\n",
    "    find_phone_number,\n",
    "    get_weather\n",
    "]\n",
    "model_with_tools = model.bind_tools(tools)"
   ]
  },
  {
   "cell_type": "code",
   "execution_count": 48,
   "id": "ba57679d-e8f6-4143-9354-1cf29add75ea",
   "metadata": {},
   "outputs": [],
   "source": [
    "response = model_with_tools.invoke(msg)"
   ]
  },
  {
   "cell_type": "code",
   "execution_count": 49,
   "id": "fc632362-360a-4118-b190-144882f965c5",
   "metadata": {},
   "outputs": [
    {
     "data": {
      "text/plain": [
       "AIMessage(content='', additional_kwargs={'tool_calls': [{'id': 'call_2Y3GjZBci0twztPh7SkCRKhu', 'function': {'arguments': '{\"name\":\"문벼리\"}', 'name': 'find_phone_number'}, 'type': 'function'}], 'refusal': None}, response_metadata={'token_usage': {'completion_tokens': 18, 'prompt_tokens': 116, 'total_tokens': 134, 'completion_tokens_details': {'accepted_prediction_tokens': 0, 'audio_tokens': 0, 'reasoning_tokens': 0, 'rejected_prediction_tokens': 0}, 'prompt_tokens_details': {'audio_tokens': 0, 'cached_tokens': 0}}, 'model_name': 'gpt-4o-mini-2024-07-18', 'system_fingerprint': None, 'id': 'chatcmpl-BvIAF6Peemw6F6dLKl16M6Sz4R4Lb', 'service_tier': 'default', 'finish_reason': 'tool_calls', 'logprobs': None}, id='run--a6c4fd8e-d287-488f-b797-245a1034507d-0', tool_calls=[{'name': 'find_phone_number', 'args': {'name': '문벼리'}, 'id': 'call_2Y3GjZBci0twztPh7SkCRKhu', 'type': 'tool_call'}], usage_metadata={'input_tokens': 116, 'output_tokens': 18, 'total_tokens': 134, 'input_token_details': {'audio': 0, 'cache_read': 0}, 'output_token_details': {'audio': 0, 'reasoning': 0}})"
      ]
     },
     "execution_count": 49,
     "metadata": {},
     "output_type": "execute_result"
    }
   ],
   "source": [
    "response"
   ]
  },
  {
   "cell_type": "code",
   "execution_count": 50,
   "id": "b7ad0bba-48bc-42b2-a141-eff36079458c",
   "metadata": {},
   "outputs": [
    {
     "data": {
      "text/plain": [
       "[{'name': 'find_phone_number',\n",
       "  'args': {'name': '문벼리'},\n",
       "  'id': 'call_2Y3GjZBci0twztPh7SkCRKhu',\n",
       "  'type': 'tool_call'}]"
      ]
     },
     "execution_count": 50,
     "metadata": {},
     "output_type": "execute_result"
    }
   ],
   "source": [
    "response.tool_calls"
   ]
  },
  {
   "cell_type": "code",
   "execution_count": 51,
   "id": "e298ddde-1375-4d6f-92ad-589b38c04833",
   "metadata": {},
   "outputs": [
    {
     "data": {
      "text/plain": [
       "list"
      ]
     },
     "execution_count": 51,
     "metadata": {},
     "output_type": "execute_result"
    }
   ],
   "source": [
    "type(response.tool_calls)"
   ]
  },
  {
   "cell_type": "code",
   "execution_count": 52,
   "id": "ca9de968-ca50-4696-930f-ebd2721229a5",
   "metadata": {},
   "outputs": [],
   "source": [
    "tool_call = response.tool_calls[0]"
   ]
  },
  {
   "cell_type": "code",
   "execution_count": 53,
   "id": "1c904c59-9db8-4a99-bb4f-e23ed1dcdada",
   "metadata": {},
   "outputs": [
    {
     "data": {
      "text/plain": [
       "{'name': 'find_phone_number',\n",
       " 'args': {'name': '문벼리'},\n",
       " 'id': 'call_2Y3GjZBci0twztPh7SkCRKhu',\n",
       " 'type': 'tool_call'}"
      ]
     },
     "execution_count": 53,
     "metadata": {},
     "output_type": "execute_result"
    }
   ],
   "source": [
    "tool_call"
   ]
  },
  {
   "cell_type": "code",
   "execution_count": 54,
   "id": "9988868c-863d-4fff-bd4d-c5ad4a290efe",
   "metadata": {},
   "outputs": [],
   "source": [
    "func = eval(tool_call[\"name\"])"
   ]
  },
  {
   "cell_type": "code",
   "execution_count": 55,
   "id": "1cf9af20-27a3-4f51-a38d-6314b9a31129",
   "metadata": {},
   "outputs": [
    {
     "data": {
      "text/plain": [
       "'010-1234-1234'"
      ]
     },
     "execution_count": 55,
     "metadata": {},
     "output_type": "execute_result"
    }
   ],
   "source": [
    "func.invoke(\"문벼리\")"
   ]
  }
 ],
 "metadata": {
  "kernelspec": {
   "display_name": "Python (my_jupyter_env)",
   "language": "python",
   "name": "my_jupyter_env"
  },
  "language_info": {
   "codemirror_mode": {
    "name": "ipython",
    "version": 3
   },
   "file_extension": ".py",
   "mimetype": "text/x-python",
   "name": "python",
   "nbconvert_exporter": "python",
   "pygments_lexer": "ipython3",
   "version": "3.10.10"
  }
 },
 "nbformat": 4,
 "nbformat_minor": 5
}
