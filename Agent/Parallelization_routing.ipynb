{
 "cells": [
  {
   "cell_type": "code",
   "execution_count": 73,
   "id": "4e82cabb-4e88-49c0-bd53-330b372cfaa0",
   "metadata": {},
   "outputs": [],
   "source": [
    "from langgraph.graph import MessagesState"
   ]
  },
  {
   "cell_type": "code",
   "execution_count": 74,
   "id": "725cde80-0833-42df-829e-20e476bf783c",
   "metadata": {},
   "outputs": [],
   "source": [
    "def node_a(state: MessagesState):\n",
    "    return {\"messages\": [\"data 1\"]}\n",
    "\n",
    "def node_b(state: MessagesState):\n",
    "    return {\"messages\": [\"data 2\"]}\n",
    "\n",
    "def node_c(state: MessagesState):\n",
    "    return {\"messages\": [\"data 3\"]}\n",
    "\n",
    "def node_d(state: MessagesState):\n",
    "    return {\"messages\": [\"data 4\"]}"
   ]
  },
  {
   "cell_type": "code",
   "execution_count": 75,
   "id": "76532219-1c3f-4ca6-8e22-76f23cc12167",
   "metadata": {},
   "outputs": [],
   "source": [
    "from langgraph.graph import StateGraph, START, END"
   ]
  },
  {
   "cell_type": "code",
   "execution_count": 76,
   "id": "33102f0e-e2bd-4db4-b817-a84b01d51238",
   "metadata": {},
   "outputs": [],
   "source": [
    "graph = (\n",
    "    StateGraph(MessagesState)\n",
    "\n",
    "    .add_node(\"a\", node_a)\n",
    "    .add_node(\"b\", node_b)\n",
    "    .add_node(\"c\", node_c)\n",
    "    .add_node(\"d\", node_d)\n",
    "\n",
    "    .add_edge(START, \"a\")\n",
    "    .add_edge(\"a\", \"b\")\n",
    "    .add_edge(\"a\", \"c\")\n",
    "    .add_edge(\"b\", \"d\")\n",
    "    .add_edge(\"c\", \"d\")\n",
    "    .add_edge(\"d\", END)\n",
    "\n",
    "    .compile()\n",
    ")"
   ]
  },
  {
   "cell_type": "code",
   "execution_count": 77,
   "id": "3a78f553-89b3-4df1-9bce-230ad458b76e",
   "metadata": {},
   "outputs": [
    {
     "data": {
      "image/png": "[encoded data removed]",
      "text/plain": [
       "<IPython.core.display.Image object>"
      ]
     },
     "metadata": {},
     "output_type": "display_data"
    }
   ],
   "source": [
    "from IPython.display import Image, display\n",
    "diagram = Image(graph.get_graph().draw_mermaid_png())\n",
    "\n",
    "display(diagram)"
   ]
  },
  {
   "cell_type": "code",
   "execution_count": 78,
   "id": "3b1f3f13-b963-4567-b0d0-b2710530eb48",
   "metadata": {},
   "outputs": [],
   "source": [
    "out = graph.invoke(\n",
    "    {\n",
    "        \"messages\":[]\n",
    "    }\n",
    ")"
   ]
  },
  {
   "cell_type": "code",
   "execution_count": 79,
   "id": "7bf8fc50-2a0c-42a7-b1a9-2ba0b1dd2e51",
   "metadata": {},
   "outputs": [
    {
     "name": "stdout",
     "output_type": "stream",
     "text": [
      "================================\u001b[1m Human Message \u001b[0m=================================\n",
      "\n",
      "data 1\n",
      "================================\u001b[1m Human Message \u001b[0m=================================\n",
      "\n",
      "data 2\n",
      "================================\u001b[1m Human Message \u001b[0m=================================\n",
      "\n",
      "data 3\n",
      "================================\u001b[1m Human Message \u001b[0m=================================\n",
      "\n",
      "data 4\n"
     ]
    }
   ],
   "source": [
    "for msg in out[\"messages\"]:\n",
    "    msg.pretty_print()"
   ]
  },
  {
   "cell_type": "markdown",
   "id": "964ab5d7-e2be-4109-86cd-66b113f030e4",
   "metadata": {},
   "source": [
    "## ROUTING"
   ]
  },
  {
   "cell_type": "code",
   "execution_count": 80,
   "id": "86fc17fe-22b1-4762-a4fa-a77283113e9f",
   "metadata": {},
   "outputs": [],
   "source": [
    "from dotenv import load_dotenv"
   ]
  },
  {
   "cell_type": "code",
   "execution_count": 81,
   "id": "1b05c8ed-cd3f-4a6f-a9b3-43604108735e",
   "metadata": {},
   "outputs": [
    {
     "data": {
      "text/plain": [
       "True"
      ]
     },
     "execution_count": 81,
     "metadata": {},
     "output_type": "execute_result"
    }
   ],
   "source": [
    "load_dotenv()"
   ]
  },
  {
   "cell_type": "code",
   "execution_count": 82,
   "id": "3bb4745b-f21e-4e6b-a3de-b7a20f9675e8",
   "metadata": {},
   "outputs": [],
   "source": [
    "from langchain_openai import ChatOpenAI"
   ]
  },
  {
   "cell_type": "code",
   "execution_count": 83,
   "id": "7c5aa2ea-f7a2-43d3-ac8c-acc260f99ab9",
   "metadata": {},
   "outputs": [],
   "source": [
    "model = ChatOpenAI(\n",
    "    model_name=\"gpt-4o-mini\"\n",
    ")"
   ]
  },
  {
   "cell_type": "code",
   "execution_count": 84,
   "id": "765cc4ca-a090-4c64-8962-cfa93b0f863d",
   "metadata": {},
   "outputs": [],
   "source": [
    "from typing import Annotated, TypedDict"
   ]
  },
  {
   "cell_type": "code",
   "execution_count": 85,
   "id": "1c1a0e47-fde3-4a77-978a-a55c0ae597e5",
   "metadata": {},
   "outputs": [],
   "source": [
    "class State(TypedDict):\n",
    "    review: str\n",
    "    sentiment: str\n",
    "    response: str"
   ]
  },
  {
   "cell_type": "code",
   "execution_count": 86,
   "id": "52746575-8efd-4efe-a0f1-fcd70c2fb72e",
   "metadata": {},
   "outputs": [],
   "source": [
    "from langchain_core.prompts import ChatPromptTemplate\n",
    "from langchain_core.runnables import RunnableLambda\n",
    "from langchain_core.output_parsers import StrOutputParser"
   ]
  },
  {
   "cell_type": "code",
   "execution_count": 87,
   "id": "af083bd9-35cb-42dd-81a2-61c9008d5096",
   "metadata": {},
   "outputs": [],
   "source": [
    "prompt_sentiment = ChatPromptTemplate.from_messages(\n",
    "    [\n",
    "        (\n",
    "            \"system\", \"You are a helpful assistant\",\n",
    "        ),\n",
    "        (\n",
    "            \"human\", \"Classify the sentiment of this customer's product review as positive, negative, or neutral: {review}. You must answer either positice and negative and neutral\"\n",
    "        )\n",
    "    ]\n",
    ")"
   ]
  },
  {
   "cell_type": "code",
   "execution_count": 88,
   "id": "53392b19-010d-4847-8368-40312e632aa2",
   "metadata": {},
   "outputs": [],
   "source": [
    "task_lowercase = RunnableLambda(lambda text: text.lower())"
   ]
  },
  {
   "cell_type": "code",
   "execution_count": 89,
   "id": "67cba2a3-1a5f-4d10-9a2a-f665f045a704",
   "metadata": {},
   "outputs": [],
   "source": [
    "task_sentiment = (\n",
    "    prompt_sentiment\n",
    "    |model\n",
    "    | StrOutputParser()\n",
    "    | task_lowercase\n",
    ")"
   ]
  },
  {
   "cell_type": "code",
   "execution_count": 90,
   "id": "e3b784d6-55a3-4c03-a251-53c0dafe4d0a",
   "metadata": {},
   "outputs": [],
   "source": [
    "def node_sentiment_analysis(state : State):\n",
    "    review = state[\"review\"]\n",
    "    sentiment = task_sentiment.invoke(review)\n",
    "    return{\n",
    "        \"sentiment\" : sentiment\n",
    "    }"
   ]
  },
  {
   "cell_type": "code",
   "execution_count": 91,
   "id": "6f43c0db-e7b9-4544-9856-8ec977a609d5",
   "metadata": {},
   "outputs": [],
   "source": [
    "system_msg = \"You are a customer representative who reads customer's review and respond to their product review\""
   ]
  },
  {
   "cell_type": "code",
   "execution_count": 92,
   "id": "e59e6ade-6032-47b9-b9eb-0faa22763a11",
   "metadata": {},
   "outputs": [],
   "source": [
    "def node_positive_writer(state: State):\n",
    "    prompt = ChatPromptTemplate.from_messages(\n",
    "        [\n",
    "            (\n",
    "                \"system\",system_msg,\n",
    "            ),\n",
    "            (\n",
    "                \"human\", \"Generate a thank-you note for this positive review: {review}.\"\n",
    "            )\n",
    "        ]\n",
    "    )\n",
    "    chain = (\n",
    "        prompt\n",
    "        | model\n",
    "        | StrOutputParser()\n",
    "    )\n",
    "    result = chain.invoke(\n",
    "        {\n",
    "            \"review\" : state[\"review\"]\n",
    "        }\n",
    "    )\n",
    "    return{\n",
    "        \"response\" : result\n",
    "    }"
   ]
  },
  {
   "cell_type": "code",
   "execution_count": 93,
   "id": "5293bcc0-325d-4c00-a92d-1d4be949ad75",
   "metadata": {},
   "outputs": [],
   "source": [
    "def node_negative_writer(state: State):\n",
    "    prompt = ChatPromptTemplate.from_messages(\n",
    "        [\n",
    "            (\n",
    "                \"system\",system_msg,\n",
    "            ),\n",
    "            (\n",
    "                \"human\", \"Generate a response addressing this negative review: {review}. Ask if the customer wants a refund. a replacement\"\n",
    "            )\n",
    "        ]\n",
    "    )\n",
    "    chain = (\n",
    "        prompt\n",
    "        | model\n",
    "        | StrOutputParser()\n",
    "    )\n",
    "    result = chain.invoke(\n",
    "        {\n",
    "            \"review\" : state[\"review\"]\n",
    "        }\n",
    "    )\n",
    "    return{\n",
    "        \"response\" : result\n",
    "    }"
   ]
  },
  {
   "cell_type": "code",
   "execution_count": 94,
   "id": "4cce1eb7-9ceb-4f1f-bd1a-91639ca44870",
   "metadata": {},
   "outputs": [],
   "source": [
    "def node_neutral_writer(state: State):\n",
    "    prompt = ChatPromptTemplate.from_messages(\n",
    "        [\n",
    "            (\n",
    "                \"system\",system_msg,\n",
    "            ),\n",
    "            (\n",
    "                \"human\", \"Generate a request for more details for this neutral review: {review}. Ask what needs to be done to make the product better\"\n",
    "            )\n",
    "        ]\n",
    "    )\n",
    "    chain = (\n",
    "        prompt\n",
    "        | model\n",
    "        | StrOutputParser()\n",
    "    )\n",
    "    result = chain.invoke(\n",
    "        {\n",
    "            \"review\" : state[\"review\"]\n",
    "        }\n",
    "    )\n",
    "    return{\n",
    "        \"response\" : result\n",
    "    }"
   ]
  },
  {
   "cell_type": "markdown",
   "id": "9883c6ce-5b00-4ee5-ab06-cf1960a56116",
   "metadata": {},
   "source": [
    "### conditional Edge"
   ]
  },
  {
   "cell_type": "code",
   "execution_count": 95,
   "id": "c3684492-904c-4008-ac81-0d48fb640ab9",
   "metadata": {},
   "outputs": [],
   "source": [
    "from typing import Literal"
   ]
  },
  {
   "cell_type": "code",
   "execution_count": 96,
   "id": "cb82566c-8bdf-4b66-8d38-2a39ee355b32",
   "metadata": {},
   "outputs": [],
   "source": [
    "def node_which_writer(state : State) -> Literal[\"node_positive_writer\",\"node_negative_writer\",\"node_neutral_writer\"]:\n",
    "    sentiment = state[\"sentiment\"]\n",
    "    if sentiment == \"positive\":\n",
    "        return \"node_positive_writer\"\n",
    "    elif sentiment == \"negative\":\n",
    "        return \"node_negative_writer\"\n",
    "    elif sentiment == \"neutral\":\n",
    "        return \"node_neutral_writer\""
   ]
  },
  {
   "cell_type": "code",
   "execution_count": 97,
   "id": "763d83bb-9af6-43f5-b62b-bbaee57b1a8e",
   "metadata": {},
   "outputs": [],
   "source": [
    "from langgraph.graph import StateGraph, START, END"
   ]
  },
  {
   "cell_type": "code",
   "execution_count": 98,
   "id": "8614632a-7015-4cdd-844c-3fb6eb63816e",
   "metadata": {},
   "outputs": [],
   "source": [
    "graph = (\n",
    "    StateGraph(State)\n",
    "    .add_node(\"node_sentiment_analysis\",node_sentiment_analysis)\n",
    "    .add_node(\"node_positive_writer\",node_positive_writer)\n",
    "    .add_node(\"node_negative_writer\",node_negative_writer)\n",
    "    .add_node(\"node_neutral_writer\", node_neutral_writer)\n",
    "\n",
    "    .add_edge(START, \"node_sentiment_analysis\")\n",
    "    .add_edge(\"node_positive_writer\",END)\n",
    "    .add_edge(\"node_negative_writer\",END)\n",
    "    .add_edge(\"node_neutral_writer\",END)\n",
    "    .add_conditional_edges(\"node_sentiment_analysis\",node_which_writer)\n",
    "\n",
    "    .compile()\n",
    ")"
   ]
  },
  {
   "cell_type": "code",
   "execution_count": 99,
   "id": "c944d374-6768-44dd-912c-7022282921c1",
   "metadata": {},
   "outputs": [],
   "source": [
    "from IPython.display import display, Image"
   ]
  },
  {
   "cell_type": "code",
   "execution_count": 100,
   "id": "bb3511ef-8c4f-4d91-adef-26d38dad2509",
   "metadata": {},
   "outputs": [],
   "source": [
    "diagram = Image(\n",
    "    graph.get_graph().draw_mermaid_png()\n",
    ")"
   ]
  },
  {
   "cell_type": "code",
   "execution_count": 101,
   "id": "a6533796-588c-4e10-941b-50270a7172cf",
   "metadata": {},
   "outputs": [
    {
     "data": {
      "image/png": "[encoded data removed]",
      "text/plain": [
       "<IPython.core.display.Image object>"
      ]
     },
     "metadata": {},
     "output_type": "display_data"
    }
   ],
   "source": [
    "display(diagram)"
   ]
  },
  {
   "cell_type": "code",
   "execution_count": 102,
   "id": "7e1fa9f5-eb82-4531-822d-b644f93c1b47",
   "metadata": {},
   "outputs": [],
   "source": [
    "state = graph.invoke(\n",
    "    {\n",
    "        \"review\" : \"This product is really awesome!\"\n",
    "    }\n",
    ")"
   ]
  },
  {
   "cell_type": "code",
   "execution_count": 103,
   "id": "5c6eddfc-9a4a-4914-9c5a-d43f802b9c35",
   "metadata": {},
   "outputs": [
    {
     "data": {
      "text/plain": [
       "{'review': 'This product is really awesome!',\n",
       " 'sentiment': 'positive',\n",
       " 'response': 'Dear Valued Customer,\\n\\nThank you so much for your wonderful review! We are thrilled to hear that you find our product awesome. Your support and feedback mean a lot to us, and it motivates us to continue delivering the best for our customers. If you have any questions or need assistance in the future, please feel free to reach out. \\n\\nThanks again, and happy using!\\n\\nBest regards,  \\n[Your Name]  \\nCustomer Support Team'}"
      ]
     },
     "execution_count": 103,
     "metadata": {},
     "output_type": "execute_result"
    }
   ],
   "source": [
    "state"
   ]
  },
  {
   "cell_type": "code",
   "execution_count": 104,
   "id": "b46a8c65-f98b-4122-b7b6-e9e84ed789c1",
   "metadata": {},
   "outputs": [
    {
     "name": "stdout",
     "output_type": "stream",
     "text": [
      "Dear Valued Customer,\n",
      "\n",
      "Thank you so much for your wonderful review! We are thrilled to hear that you find our product awesome. Your support and feedback mean a lot to us, and it motivates us to continue delivering the best for our customers. If you have any questions or need assistance in the future, please feel free to reach out. \n",
      "\n",
      "Thanks again, and happy using!\n",
      "\n",
      "Best regards,  \n",
      "[Your Name]  \n",
      "Customer Support Team\n"
     ]
    }
   ],
   "source": [
    "print(state[\"response\"])"
   ]
  },
  {
   "cell_type": "code",
   "execution_count": 105,
   "id": "9fdbf771-264c-47ed-b99e-5473a627a8c1",
   "metadata": {},
   "outputs": [],
   "source": [
    "state = graph.invoke(\n",
    "    {\n",
    "        \"review\" : \"This produict no langer works after only one use!\"\n",
    "    }\n",
    ")"
   ]
  },
  {
   "cell_type": "code",
   "execution_count": 106,
   "id": "def9c8a9-2e01-4683-81c4-dfd7f9c46438",
   "metadata": {},
   "outputs": [
    {
     "name": "stdout",
     "output_type": "stream",
     "text": [
      "Dear [Customer's Name],\n",
      "\n",
      "Thank you for sharing your feedback with us. I'm really sorry to hear that the product stopped working after just one use. We strive to provide quality products, and it's disappointing to know that we didn't meet your expectations this time.\n",
      "\n",
      "To resolve this issue, we would be happy to offer you a refund or a replacement, whichever you prefer. Please let us know what works best for you, and we'll ensure it's taken care of promptly.\n",
      "\n",
      "We appreciate your understanding, and we hope to make this right for you.\n",
      "\n",
      "Best regards,  \n",
      "[Your Name]  \n",
      "Customer Support Team\n"
     ]
    }
   ],
   "source": [
    "print(state[\"response\"])"
   ]
  }
 ],
 "metadata": {
  "kernelspec": {
   "display_name": "Python (my_jupyter_env)",
   "language": "python",
   "name": "my_jupyter_env"
  },
  "language_info": {
   "codemirror_mode": {
    "name": "ipython",
    "version": 3
   },
   "file_extension": ".py",
   "mimetype": "text/x-python",
   "name": "python",
   "nbconvert_exporter": "python",
   "pygments_lexer": "ipython3",
   "version": "3.10.10"
  }
 },
 "nbformat": 4,
 "nbformat_minor": 5
}
