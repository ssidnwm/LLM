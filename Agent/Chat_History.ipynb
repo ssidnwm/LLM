{
 "cells": [
  {
   "cell_type": "code",
   "execution_count": 1,
   "id": "4d38713d-2e17-4701-8276-daefb13254f3",
   "metadata": {},
   "outputs": [],
   "source": [
    "from dotenv import load_dotenv"
   ]
  },
  {
   "cell_type": "code",
   "execution_count": 2,
   "id": "965e36b7-8c4f-4dc1-ae6a-2bed1111aceb",
   "metadata": {},
   "outputs": [
    {
     "data": {
      "text/plain": [
       "True"
      ]
     },
     "execution_count": 2,
     "metadata": {},
     "output_type": "execute_result"
    }
   ],
   "source": [
    "load_dotenv()"
   ]
  },
  {
   "cell_type": "code",
   "execution_count": 3,
   "id": "4f5b6531-5566-46b3-af13-1b1ae579206a",
   "metadata": {},
   "outputs": [],
   "source": [
    "from langchain_openai import ChatOpenAI"
   ]
  },
  {
   "cell_type": "code",
   "execution_count": 4,
   "id": "a8b91202-6e14-474a-aee1-fbda73ada297",
   "metadata": {},
   "outputs": [],
   "source": [
    "model = ChatOpenAI(\n",
    "    model_name=\"gpt-4o-mini\"\n",
    ")"
   ]
  },
  {
   "cell_type": "code",
   "execution_count": null,
   "id": "f52fee42-1715-4058-ac55-4fdaeeb1cf34",
   "metadata": {},
   "outputs": [],
   "source": [
    "result = model.invoke(\"내 이름은 문벼리야\")"
   ]
  },
  {
   "cell_type": "code",
   "execution_count": null,
   "id": "5138782c-26a5-4c6d-a6c4-cc9e2a8a05c3",
   "metadata": {},
   "outputs": [],
   "source": [
    "result.pretty_print()"
   ]
  },
  {
   "cell_type": "code",
   "execution_count": null,
   "id": "7222d34e-c1bf-4f37-9991-24f6e5fe309a",
   "metadata": {},
   "outputs": [],
   "source": [
    "result=model.invoke(\"내 이름을 말해줘 그리고 내가 이해할 수 있는 수준으로 LLM에 대해 설명해줘\")"
   ]
  },
  {
   "cell_type": "code",
   "execution_count": null,
   "id": "b6ee0f82-9f5f-4df7-9cdd-a986db88f06e",
   "metadata": {},
   "outputs": [],
   "source": [
    "result.pretty_print()"
   ]
  },
  {
   "cell_type": "code",
   "execution_count": null,
   "id": "5779ac51-0f30-4bd8-9504-358669a06903",
   "metadata": {},
   "outputs": [],
   "source": [
    "from langchain_core.messages import AIMessage, HumanMessage"
   ]
  },
  {
   "cell_type": "code",
   "execution_count": null,
   "id": "89a44b06-0e42-40d0-804f-532a1a916de9",
   "metadata": {},
   "outputs": [],
   "source": [
    "msg1 = [\n",
    "    AIMessage(\n",
    "        content=\"당신의 이름은 무엇입니까?\",\n",
    "        name=\"Model\"\n",
    "    )\n",
    "]"
   ]
  },
  {
   "cell_type": "code",
   "execution_count": null,
   "id": "de84b6bd-2ae2-42e6-bd42-345d44b1a107",
   "metadata": {},
   "outputs": [],
   "source": [
    "msg2 = [\n",
    "    HumanMessage(\n",
    "        content=\"내 이름은 벼리야\",\n",
    "        name=\"User\"\n",
    "    )\n",
    "]"
   ]
  },
  {
   "cell_type": "code",
   "execution_count": null,
   "id": "886aa221-c10a-4fee-8a1f-95689bbedf84",
   "metadata": {},
   "outputs": [],
   "source": [
    "msg3 = [\n",
    "    AIMessage(\n",
    "        content = \"몇 살인지 물어봐도 될까요?\",\n",
    "        name=\"Model\"\n",
    "    )\n",
    "]"
   ]
  },
  {
   "cell_type": "code",
   "execution_count": null,
   "id": "a94d4f42-8878-422a-beda-a2b942f24064",
   "metadata": {},
   "outputs": [],
   "source": [
    "msg4 = [\n",
    "    HumanMessage(\n",
    "        content=\"나는 12살이야\",\n",
    "        name=\"User\"\n",
    "    )\n",
    "]"
   ]
  },
  {
   "cell_type": "code",
   "execution_count": null,
   "id": "bf6cd792-8b4f-4cbf-928a-fbd9d754cdf4",
   "metadata": {},
   "outputs": [],
   "source": [
    "msg5 = [\n",
    "    AIMessage(\n",
    "        content = \"오늘 무엇을 도와드릴까요?\",\n",
    "        name=\"Model\"\n",
    "    )\n",
    "]"
   ]
  },
  {
   "cell_type": "code",
   "execution_count": null,
   "id": "b958c344-d25e-4be8-9a61-ece99e6d7bfa",
   "metadata": {},
   "outputs": [],
   "source": [
    "msg6 = [\n",
    "    HumanMessage(\n",
    "        content=\"내 이름을 말해줘. 그리고 내가 이해할 수 있는 수준으로 LLM에 대해 설명해줘\",\n",
    "        name=\"User\"\n",
    "    )\n",
    "]"
   ]
  },
  {
   "cell_type": "code",
   "execution_count": null,
   "id": "8b32c563-d5a9-4342-917f-743e3b685239",
   "metadata": {},
   "outputs": [],
   "source": [
    "messages = []"
   ]
  },
  {
   "cell_type": "code",
   "execution_count": null,
   "id": "1e7424db-1255-4ce0-a1b8-4513f1ab887b",
   "metadata": {},
   "outputs": [],
   "source": [
    "messages.extent(msg1)\n",
    "messages.extent(msg2)\n",
    "messages.extent(msg3)\n",
    "messages.extent(msg4)\n",
    "messages.extent(msg5)\n",
    "messages.extent(msg6)"
   ]
  },
  {
   "cell_type": "code",
   "execution_count": null,
   "id": "a09c77a7-8df6-4f0e-8949-7a72b2e37d9b",
   "metadata": {},
   "outputs": [],
   "source": [
    "for msg in messages:\n",
    "    msg.pretty_print()"
   ]
  },
  {
   "cell_type": "code",
   "execution_count": null,
   "id": "611691ac-1f96-4255-a47a-c06e3352d02e",
   "metadata": {},
   "outputs": [],
   "source": [
    "result = model.invoke(messages)\n",
    "result.pretty_print()"
   ]
  },
  {
   "cell_type": "markdown",
   "id": "5164a137-862a-4525-b0bf-6aefa0c33f65",
   "metadata": {},
   "source": [
    "## simple graph"
   ]
  },
  {
   "cell_type": "code",
   "execution_count": 5,
   "id": "fc365be4-e99e-459c-9c78-bcfa27e3ec1e",
   "metadata": {},
   "outputs": [],
   "source": [
    "from typing_extensions import TypedDict"
   ]
  },
  {
   "cell_type": "code",
   "execution_count": 6,
   "id": "f69e0e8d-fe02-459b-9300-e77ac00dc1d1",
   "metadata": {},
   "outputs": [],
   "source": [
    "class State(TypedDict):\n",
    "    number: int"
   ]
  },
  {
   "cell_type": "code",
   "execution_count": 7,
   "id": "26a21002-242b-4137-8553-a0c08b4895b4",
   "metadata": {},
   "outputs": [],
   "source": [
    "def node(state: State):\n",
    "    old_number = state[\"number\"]\n",
    "    new_number = old_number -1\n",
    "    return{\n",
    "        \"number\":new_number\n",
    "    }"
   ]
  },
  {
   "cell_type": "code",
   "execution_count": 11,
   "id": "6f419813-da78-4f77-9151-7aee3116ec47",
   "metadata": {},
   "outputs": [],
   "source": [
    "from langgraph.graph import StateGraph, START, END\n",
    "\n",
    "builder = StateGraph(State)\n",
    "builder.add_node(\"node\",node)\n",
    "builder.add_edge(START, \"node\")\n",
    "builder.add_edge(\"node\",END)\n",
    "\n",
    "graph = builder.compile()"
   ]
  },
  {
   "cell_type": "code",
   "execution_count": 13,
   "id": "c312532f-50f6-4912-81f5-bf239bb16e88",
   "metadata": {},
   "outputs": [
    {
     "data": {
      "image/png": "[encoded data removed]",
      "text/plain": [
       "<IPython.core.display.Image object>"
      ]
     },
     "metadata": {},
     "output_type": "display_data"
    }
   ],
   "source": [
    "from IPython.display import Image, display\n",
    "diagram = Image(graph.get_graph().draw_mermaid_png())\n",
    "\n",
    "display(diagram)"
   ]
  },
  {
   "cell_type": "code",
   "execution_count": 14,
   "id": "83b6373f-7df5-4265-958a-2a0113535c0e",
   "metadata": {},
   "outputs": [
    {
     "data": {
      "text/plain": [
       "{'number': 12}"
      ]
     },
     "execution_count": 14,
     "metadata": {},
     "output_type": "execute_result"
    }
   ],
   "source": [
    "graph.invoke(\n",
    "    {\n",
    "        \"number\" : 13\n",
    "    }\n",
    ")\n"
   ]
  },
  {
   "cell_type": "code",
   "execution_count": null,
   "id": "c1980b67-1736-4545-827b-310533741779",
   "metadata": {},
   "outputs": [],
   "source": [
    "from langchain_openai import ChatOpenAI"
   ]
  },
  {
   "cell_type": "code",
   "execution_count": null,
   "id": "7f227b85-fd19-48d8-a1aa-5b827408f02b",
   "metadata": {},
   "outputs": [],
   "source": [
    "model = ChatOpenAI(\n",
    "    model_name=\"gpt-4o-mini\"\n",
    ")"
   ]
  },
  {
   "cell_type": "code",
   "execution_count": null,
   "id": "bd6ef646-237c-43a2-a386-014fa5db6efe",
   "metadata": {},
   "outputs": [],
   "source": [
    "from langchain_core.prompts import ChatPromptTemplate"
   ]
  },
  {
   "cell_type": "code",
   "execution_count": null,
   "id": "1d2f6c17-561b-4a2d-ba19-d4457429acdc",
   "metadata": {},
   "outputs": [],
   "source": [
    "prompt = ChatPromptTemplate.from_messages(\n",
    "    [\n",
    "        (\n",
    "            \"system\", \"you are a helpful assistant\",\n",
    "        ),\n",
    "        (\n",
    "            \"Human\", \"Substract 1 from {number}. Return only the final outcome\"\n",
    "        )\n",
    "    ]\n",
    ")"
   ]
  },
  {
   "cell_type": "code",
   "execution_count": null,
   "id": "0bc5f420-e839-4545-9d53-7db2435d93db",
   "metadata": {},
   "outputs": [],
   "source": [
    "from langchain_core.output_parsers import StrOutputParser"
   ]
  },
  {
   "cell_type": "code",
   "execution_count": null,
   "id": "b2d30354-0ca0-4880-8b1c-1a9cfb573bcf",
   "metadata": {},
   "outputs": [],
   "source": [
    "chain = prompt | model | StrOutputParser()"
   ]
  },
  {
   "cell_type": "code",
   "execution_count": null,
   "id": "3e564425-72b2-49fe-b195-a58879a082a1",
   "metadata": {},
   "outputs": [],
   "source": [
    "def chatbot(state: State):\n",
    "    old_number = state[\"number\"]\n",
    "    out = chain.invoke(\n",
    "        {\n",
    "            \"number\" : old_number\n",
    "        }\n",
    "    )\n",
    "    new_number = int(out)\n",
    "\n",
    "    return {\n",
    "        \"number\" : new_number\n",
    "    }"
   ]
  },
  {
   "cell_type": "code",
   "execution_count": null,
   "id": "8e2599e2-ce9d-48a6-997b-f297ebd3c906",
   "metadata": {},
   "outputs": [],
   "source": [
    "from langgraph.graph import StateGraph, START, END"
   ]
  },
  {
   "cell_type": "code",
   "execution_count": null,
   "id": "2453e403-e203-4f9a-a7fd-44770919fed2",
   "metadata": {},
   "outputs": [],
   "source": [
    "graph = (\n",
    "    StateGraph(State)\n",
    "    .add_node(chatbot)\n",
    "    .add_edge(START,\"chatbot\")\n",
    "    .add_edge(\"chatbot\",END)\n",
    "    .compile()\n",
    ")"
   ]
  },
  {
   "cell_type": "code",
   "execution_count": null,
   "id": "7de879ba-39de-4a8d-83f1-b04997e33fc0",
   "metadata": {},
   "outputs": [],
   "source": [
    "from IPython.display import Image, display\n",
    "diagram = Image(graph.get_graph().draw_mermaid_png())\n",
    "\n",
    "display(diagram)"
   ]
  },
  {
   "cell_type": "code",
   "execution_count": null,
   "id": "36de6a02-0f60-4ca4-8b80-97da68da1aae",
   "metadata": {},
   "outputs": [],
   "source": [
    "out = graph.invoke(\n",
    "    {\n",
    "        \"number\" : 13\n",
    "    }\n",
    ")"
   ]
  },
  {
   "cell_type": "code",
   "execution_count": null,
   "id": "6556aaf2-53a9-48aa-a6b2-f6b5950e9ffa",
   "metadata": {},
   "outputs": [],
   "source": [
    "out"
   ]
  },
  {
   "cell_type": "code",
   "execution_count": null,
   "id": "fafd0280-9d5a-4c26-a43a-35b3674377be",
   "metadata": {},
   "outputs": [],
   "source": []
  }
 ],
 "metadata": {
  "kernelspec": {
   "display_name": "Python (my_jupyter_env)",
   "language": "python",
   "name": "my_jupyter_env"
  },
  "language_info": {
   "codemirror_mode": {
    "name": "ipython",
    "version": 3
   },
   "file_extension": ".py",
   "mimetype": "text/x-python",
   "name": "python",
   "nbconvert_exporter": "python",
   "pygments_lexer": "ipython3",
   "version": "3.10.10"
  }
 },
 "nbformat": 4,
 "nbformat_minor": 5
}
