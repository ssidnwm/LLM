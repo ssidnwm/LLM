{
 "cells": [
  {
   "cell_type": "code",
   "execution_count": 1,
   "id": "1576ed74-894a-40dc-8430-2db0f7411185",
   "metadata": {},
   "outputs": [],
   "source": [
    "from dotenv import load_dotenv\n",
    "from pprint import pprint\n",
    "from langchain_openai import ChatOpenAI\n",
    "from langchain.chains import LLMChain\n",
    "from langchain_core.prompts import ChatPromptTemplate\n",
    "from langchain_core.output_parsers import StrOutputParser\n",
    "from langchain_core.runnables import RunnableLambda"
   ]
  },
  {
   "cell_type": "code",
   "execution_count": 2,
   "id": "aeef1afc-aa7a-4f4b-a2eb-239493b5ea0f",
   "metadata": {},
   "outputs": [
    {
     "data": {
      "text/plain": [
       "True"
      ]
     },
     "execution_count": 2,
     "metadata": {},
     "output_type": "execute_result"
    }
   ],
   "source": [
    "load_dotenv()"
   ]
  },
  {
   "cell_type": "code",
   "execution_count": 3,
   "id": "bf5f84ba-7780-4d80-8c85-1cd53a61058c",
   "metadata": {},
   "outputs": [],
   "source": [
    "model = ChatOpenAI(\n",
    "    model_name=\"gpt-4o\"\n",
    ")"
   ]
  },
  {
   "cell_type": "code",
   "execution_count": 4,
   "id": "d4c73c49-72ea-411d-9ebd-dbabdaee9524",
   "metadata": {},
   "outputs": [],
   "source": [
    "prompt_sentiment = ChatPromptTemplate.from_messages(\n",
    "    [\n",
    "        (\n",
    "            \"system\" , \"You are a helpful assistant\",\n",
    "        ),\n",
    "        (\n",
    "            \"human\", \"Classify the sentiment of this comment as positive, negative, or neutral: {review}. you must answer either positive, negative, neutral, nothing else.\"\n",
    "        )\n",
    "    ]\n",
    ")"
   ]
  },
  {
   "cell_type": "code",
   "execution_count": 5,
   "id": "47693810-0002-452c-88fb-d9511bf56e24",
   "metadata": {},
   "outputs": [],
   "source": [
    "task_lowercase = RunnableLambda(lambda text: text.lower())"
   ]
  },
  {
   "cell_type": "code",
   "execution_count": 6,
   "id": "7f865874-3908-4fbb-81cf-c4619074e74b",
   "metadata": {},
   "outputs": [],
   "source": [
    "task_sentiment = (\n",
    "    prompt_sentiment\n",
    "    | model\n",
    "    | StrOutputParser()\n",
    "    | task_lowercase\n",
    ")"
   ]
  },
  {
   "cell_type": "code",
   "execution_count": 7,
   "id": "07f76163-700c-4250-b86c-425ce6ad47b9",
   "metadata": {},
   "outputs": [],
   "source": [
    "sentiment = task_sentiment.invoke(\n",
    "    {\n",
    "        \"review\" : \"This product is awesome\"\n",
    "    }\n",
    ")"
   ]
  },
  {
   "cell_type": "code",
   "execution_count": 8,
   "id": "1e89493a-7675-4b3d-90d6-b9f2b4a1c83e",
   "metadata": {},
   "outputs": [
    {
     "name": "stdout",
     "output_type": "stream",
     "text": [
      "positive\n"
     ]
    }
   ],
   "source": [
    "print(sentiment)"
   ]
  },
  {
   "cell_type": "code",
   "execution_count": 9,
   "id": "5afecd83-9054-4109-aa5c-e38664616cfe",
   "metadata": {},
   "outputs": [],
   "source": [
    "sentiment = task_sentiment.invoke(\n",
    "    {\n",
    "        \"review\" : \"This product is really bad\"\n",
    "    }\n",
    ")"
   ]
  },
  {
   "cell_type": "code",
   "execution_count": 10,
   "id": "c9833c8d-fe6d-40f0-8d9e-e745b87a048e",
   "metadata": {},
   "outputs": [
    {
     "name": "stdout",
     "output_type": "stream",
     "text": [
      "negative\n"
     ]
    }
   ],
   "source": [
    "print(sentiment)"
   ]
  },
  {
   "cell_type": "code",
   "execution_count": 11,
   "id": "7506c46c-f34d-4105-9249-d1a668b17db7",
   "metadata": {},
   "outputs": [],
   "source": [
    "sentiment = task_sentiment.invoke(\n",
    "    {\n",
    "        \"review\" : \"This product is okay\"\n",
    "    }\n",
    ")"
   ]
  },
  {
   "cell_type": "code",
   "execution_count": 12,
   "id": "91a5b3f5-c402-4b9c-88ce-d0a67c8496c0",
   "metadata": {},
   "outputs": [
    {
     "name": "stdout",
     "output_type": "stream",
     "text": [
      "neutral\n"
     ]
    }
   ],
   "source": [
    "print(sentiment)"
   ]
  },
  {
   "cell_type": "code",
   "execution_count": 13,
   "id": "edbbdae9-6d50-45d9-8f7a-4180bd003979",
   "metadata": {},
   "outputs": [],
   "source": [
    "system_msg = \"you are a customer representative who reads customer's review and respond to their product review\""
   ]
  },
  {
   "cell_type": "code",
   "execution_count": 14,
   "id": "cc9bdf9d-17f8-4200-b6db-8c51174548ef",
   "metadata": {},
   "outputs": [],
   "source": [
    "prompt_positive = ChatPromptTemplate.from_messages(\n",
    "    [\n",
    "        (\n",
    "            \"system\", system_msg,\n",
    "        ),\n",
    "        (\n",
    "            \"human\",\"Generate a thank-you note for this positive review: {review}.\"\n",
    "        )\n",
    "    ]\n",
    ")"
   ]
  },
  {
   "cell_type": "code",
   "execution_count": 16,
   "id": "3301ca6f-2d50-4f80-9a53-982f0d33e3a6",
   "metadata": {},
   "outputs": [],
   "source": [
    "prompt_negative = ChatPromptTemplate.from_messages(\n",
    "    [\n",
    "        (\n",
    "            \"system\", system_msg,\n",
    "        ),\n",
    "        (\n",
    "            \"human\",\"Generate a response addressing this negative review: {review}. Ask if the customer wants a refund, a replacement, or something else.\"\n",
    "        )\n",
    "    ]\n",
    ")"
   ]
  },
  {
   "cell_type": "code",
   "execution_count": 17,
   "id": "5d2ab1ab-566a-4ba5-9b6a-19df36c882a4",
   "metadata": {},
   "outputs": [],
   "source": [
    "prompt_neutral = ChatPromptTemplate.from_messages(\n",
    "    [\n",
    "        (\n",
    "            \"system\", system_msg,\n",
    "        ),\n",
    "        (\n",
    "            \"human\",\"Generate a response for more details for this neutral review: {review}. Ask what needs to be done to make the product.\"\n",
    "        )\n",
    "    ]\n",
    ")"
   ]
  },
  {
   "cell_type": "code",
   "execution_count": 18,
   "id": "1fe6ad8f-8b23-41f4-a603-1ffbe338ff6a",
   "metadata": {},
   "outputs": [],
   "source": [
    "prompt_default = ChatPromptTemplate.from_messages(\n",
    "    [\n",
    "        (\n",
    "            \"system\", system_msg,\n",
    "        ),\n",
    "        (\n",
    "            \"human\",\"Don't do anything for this review: {review}\"\n",
    "        )\n",
    "    ]\n",
    ")"
   ]
  },
  {
   "cell_type": "code",
   "execution_count": 19,
   "id": "aecf01f3-0248-45bf-953d-939411909900",
   "metadata": {},
   "outputs": [],
   "source": [
    "from langchain_core.runnables import RunnableBranch"
   ]
  },
  {
   "cell_type": "code",
   "execution_count": 20,
   "id": "34b9d9e7-c3d1-403e-9d5e-2be7f650923f",
   "metadata": {},
   "outputs": [],
   "source": [
    "task_branch = RunnableBranch(\n",
    "    (\n",
    "        lambda review: review == \"positive\", prompt_positive | model | StrOutputParser()\n",
    "    ),\n",
    "    (\n",
    "        lambda review: review == \"negative\", prompt_negative | model | StrOutputParser()\n",
    "    ),\n",
    "    (\n",
    "        lambda review: review == \"neutral\", prompt_neutral | model | StrOutputParser()\n",
    "    ),\n",
    "    prompt_default | model | StrOutputParser()\n",
    ")"
   ]
  },
  {
   "cell_type": "code",
   "execution_count": 21,
   "id": "3db392fc-08b3-423d-96ed-99a78c92d121",
   "metadata": {},
   "outputs": [],
   "source": [
    "chain = (prompt_sentiment | model | StrOutputParser() | task_branch)"
   ]
  },
  {
   "cell_type": "code",
   "execution_count": 22,
   "id": "eb357957-7e58-426e-a78b-eb9ddab923eb",
   "metadata": {},
   "outputs": [],
   "source": [
    "out = chain.invoke(\n",
    "    {\n",
    "        \"review\": \"I love this product!\"\n",
    "    }\n",
    ")"
   ]
  },
  {
   "cell_type": "code",
   "execution_count": 23,
   "id": "c3cc872e-a774-423a-a493-fcba8bbbaea6",
   "metadata": {},
   "outputs": [
    {
     "name": "stdout",
     "output_type": "stream",
     "text": [
      "**Customer Review:**\n",
      "\n",
      "\"I'm really disappointed with the quality of this product. It stopped working properly after just a few uses, which is not what I expected at all. I was really hoping for better durability, given the price.\"\n",
      "\n",
      "---\n",
      "\n",
      "**Response:**\n",
      "\n",
      "Dear [Customer Name],\n",
      "\n",
      "Thank you for taking the time to share your experience with us. We sincerely apologize for any inconvenience caused by the issues you've encountered with your purchase. At [Company Name], we strive to ensure that our products meet the highest standards of quality and longevity, and we regret that this was not your experience.\n",
      "\n",
      "We are committed to making things right for you. Please let us know if you would prefer a refund, a replacement, or if there is something else we can do to address your concerns. Your satisfaction is our top priority, and we want to ensure you have a positive experience with our company.\n",
      "\n",
      "Thank you once again for your feedback, and we hope to resolve this matter to your satisfaction soon.\n",
      "\n",
      "Warm regards,\n",
      "\n",
      "[Your Name]  \n",
      "[Your Position]  \n",
      "[Company Name]  \n",
      "[Contact Information]\n"
     ]
    }
   ],
   "source": [
    "print(out)"
   ]
  },
  {
   "cell_type": "code",
   "execution_count": 24,
   "id": "71a3943f-e43e-405c-91a0-f21a8860c633",
   "metadata": {},
   "outputs": [],
   "source": [
    "out = chain.invoke(\n",
    "    {\n",
    "        \"review\": \"This product is terrible. It no longer functions just after one day of use\"\n",
    "    }\n",
    ")"
   ]
  },
  {
   "cell_type": "code",
   "execution_count": 25,
   "id": "56dae331-9276-4248-bb95-016dd3d36b0e",
   "metadata": {},
   "outputs": [
    {
     "name": "stdout",
     "output_type": "stream",
     "text": [
      "Certainly! Here's a potential response you can use:\n",
      "\n",
      "---\n",
      "\n",
      "Dear [Customer's Name],\n",
      "\n",
      "Thank you for taking the time to share your feedback with us. We are genuinely sorry to hear that your experience with our product did not meet your expectations. Your satisfaction and experience are very important to us, and we would like to make things right.\n",
      "\n",
      "Could you please let us know if you would prefer a refund, a replacement, or if there is something else we can do to resolve this issue for you? We are here to assist you and ensure your concerns are addressed promptly.\n",
      "\n",
      "Please reach out to us at your earliest convenience so we can work towards a resolution that meets your needs.\n",
      "\n",
      "Thank you for giving us the opportunity to make this right.\n",
      "\n",
      "Best regards,\n",
      "\n",
      "[Your Name]  \n",
      "[Your Position]  \n",
      "[Company Name]  \n",
      "[Contact Information]  \n",
      "\n",
      "--- \n",
      "\n",
      "Feel free to adjust the details to fit your specific context.\n"
     ]
    }
   ],
   "source": [
    "print(out)"
   ]
  },
  {
   "cell_type": "code",
   "execution_count": 28,
   "id": "7f1c91c7-8178-4029-8a78-9ff7894088c5",
   "metadata": {},
   "outputs": [],
   "source": [
    "out = chain.invoke(\n",
    "    {\n",
    "        \"review\": \"This product is so so. neither grate or bad, it does what it's supposed to do.\"\n",
    "    }\n",
    ")"
   ]
  },
  {
   "cell_type": "code",
   "execution_count": 29,
   "id": "866fdba7-356c-40b2-8003-66628a2eddc2",
   "metadata": {},
   "outputs": [
    {
     "name": "stdout",
     "output_type": "stream",
     "text": [
      "Thank you for your feedback! If you have any thoughts or specific experiences you'd like to share about the product, feel free to let us know. We appreciate your input and are here to assist if you have any questions or need further assistance.\n"
     ]
    }
   ],
   "source": [
    "print(out)"
   ]
  },
  {
   "cell_type": "markdown",
   "id": "01846720-8d5d-49d2-8e90-ea07df452949",
   "metadata": {},
   "source": [
    "RunnablePassthrough"
   ]
  },
  {
   "cell_type": "code",
   "execution_count": 30,
   "id": "45035931-8abb-430e-8883-7fd1321b9ee4",
   "metadata": {},
   "outputs": [],
   "source": [
    "model = ChatOpenAI(\n",
    "    model_name = \"gpt-4o-mini\",\n",
    "    temperature=0\n",
    ")"
   ]
  },
  {
   "cell_type": "code",
   "execution_count": 33,
   "id": "696e2f7c-42f3-41aa-b2fb-5e95e0230e3a",
   "metadata": {},
   "outputs": [],
   "source": [
    "from langchain.prompts import PromptTemplate"
   ]
  },
  {
   "cell_type": "code",
   "execution_count": 34,
   "id": "d02f7039-4a0f-4eea-be54-c8ab55a8461b",
   "metadata": {},
   "outputs": [],
   "source": [
    "prompt = PromptTemplate.from_template(\"{number}에 5를 더한 결과값을 알려줘\")"
   ]
  },
  {
   "cell_type": "code",
   "execution_count": 35,
   "id": "538ef7e4-ad80-4c04-a0c8-12cd22d0ab07",
   "metadata": {},
   "outputs": [],
   "source": [
    "chain = (\n",
    "    prompt\n",
    "    |model\n",
    "    |StrOutputParser()\n",
    ")"
   ]
  },
  {
   "cell_type": "code",
   "execution_count": 36,
   "id": "9c4ff3ca-8ab7-45d8-b70e-c99cb60e4357",
   "metadata": {},
   "outputs": [],
   "source": [
    "out = chain.invoke(\n",
    "    {\"number\":9}\n",
    ")"
   ]
  },
  {
   "cell_type": "code",
   "execution_count": 37,
   "id": "2b2eec27-7fa7-439e-bdf8-d99e99d94f17",
   "metadata": {},
   "outputs": [
    {
     "data": {
      "text/plain": [
       "'9에 5를 더하면 14입니다.'"
      ]
     },
     "execution_count": 37,
     "metadata": {},
     "output_type": "execute_result"
    }
   ],
   "source": [
    "out"
   ]
  },
  {
   "cell_type": "code",
   "execution_count": 38,
   "id": "d719a011-e1ba-450c-b55c-0fa974d774df",
   "metadata": {},
   "outputs": [],
   "source": [
    "from langchain_core.runnables import RunnablePassthrough"
   ]
  },
  {
   "cell_type": "code",
   "execution_count": 39,
   "id": "adeda8b2-3b98-4f9b-8d36-014baa4a2976",
   "metadata": {},
   "outputs": [],
   "source": [
    "chain = (\n",
    "    {\"number\": RunnablePassthrough() }\n",
    "    |prompt\n",
    "    |model\n",
    "    |StrOutputParser()\n",
    ")"
   ]
  },
  {
   "cell_type": "code",
   "execution_count": 40,
   "id": "df942f37-6631-4c72-859c-3405a1d9ccad",
   "metadata": {},
   "outputs": [],
   "source": [
    "out = chain.invoke(9)"
   ]
  },
  {
   "cell_type": "code",
   "execution_count": 41,
   "id": "15ebe5d6-28ef-44f8-9899-387f3917ef6b",
   "metadata": {},
   "outputs": [
    {
     "data": {
      "text/plain": [
       "'9에 5를 더하면 14입니다.'"
      ]
     },
     "execution_count": 41,
     "metadata": {},
     "output_type": "execute_result"
    }
   ],
   "source": [
    "out"
   ]
  }
 ],
 "metadata": {
  "kernelspec": {
   "display_name": "Python (my_jupyter_env)",
   "language": "python",
   "name": "my_jupyter_env"
  },
  "language_info": {
   "codemirror_mode": {
    "name": "ipython",
    "version": 3
   },
   "file_extension": ".py",
   "mimetype": "text/x-python",
   "name": "python",
   "nbconvert_exporter": "python",
   "pygments_lexer": "ipython3",
   "version": "3.10.10"
  }
 },
 "nbformat": 4,
 "nbformat_minor": 5
}
