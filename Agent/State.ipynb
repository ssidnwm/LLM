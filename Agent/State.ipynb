{
 "cells": [
  {
   "cell_type": "code",
   "execution_count": 1,
   "id": "f6991ff0-6e9a-404b-8411-28d54aefeb99",
   "metadata": {},
   "outputs": [],
   "source": [
    "from typing_extensions import TypedDict"
   ]
  },
  {
   "cell_type": "code",
   "execution_count": 2,
   "id": "c9469142-ccbd-4b7f-b8ec-81ba3e7b1dfc",
   "metadata": {},
   "outputs": [],
   "source": [
    "class State(TypedDict):\n",
    "    aggregate: list"
   ]
  },
  {
   "cell_type": "code",
   "execution_count": 3,
   "id": "af15cf5e-948d-40f3-af65-be81efd3bfe2",
   "metadata": {},
   "outputs": [],
   "source": [
    "def node_a(state: State):\n",
    "    return {\"aggregate\": [\"data 1\"]}\n",
    "\n",
    "def node_b(state: State):\n",
    "    return {\"aggregate\": [\"data 2\"]}\n",
    "\n",
    "def node_c(state: State):\n",
    "    return {\"aggregate\": [\"data 3\"]}\n",
    "\n",
    "def node_d(state: State):\n",
    "    return {\"aggregate\": [\"data 4\"]}"
   ]
  },
  {
   "cell_type": "code",
   "execution_count": 4,
   "id": "d7773a11-f4a4-47bb-8510-f66cb0404fc9",
   "metadata": {},
   "outputs": [],
   "source": [
    "from langgraph.graph import StateGraph, START, END"
   ]
  },
  {
   "cell_type": "code",
   "execution_count": 5,
   "id": "73a25961-16fa-417c-8337-8272d86f0e05",
   "metadata": {},
   "outputs": [],
   "source": [
    "graph = (\n",
    "    StateGraph(State)\n",
    "\n",
    "    .add_node(\"a\", node_a)\n",
    "    .add_node(\"b\", node_b)\n",
    "    .add_node(\"c\", node_c)\n",
    "    .add_node(\"d\", node_d)\n",
    "\n",
    "    .add_edge(START, \"a\")\n",
    "    .add_edge(\"a\", \"b\")\n",
    "    .add_edge(\"b\", \"c\")\n",
    "    .add_edge(\"c\", \"d\")\n",
    "    .add_edge(\"d\", END)\n",
    "\n",
    "    .compile()\n",
    ")"
   ]
  },
  {
   "cell_type": "code",
   "execution_count": 6,
   "id": "3af87dde-6d83-4e7f-9b75-9ec101afe73a",
   "metadata": {},
   "outputs": [
    {
     "data": {
      "image/png": "[encoded data removed]",
      "text/plain": [
       "<IPython.core.display.Image object>"
      ]
     },
     "metadata": {},
     "output_type": "display_data"
    }
   ],
   "source": [
    "from IPython.display import Image, display\n",
    "diagram = Image(graph.get_graph().draw_mermaid_png())\n",
    "\n",
    "display(diagram)"
   ]
  },
  {
   "cell_type": "code",
   "execution_count": 7,
   "id": "9a3896ff-7ac5-4456-97bb-3d42c868ab43",
   "metadata": {},
   "outputs": [],
   "source": [
    "out = graph.invoke(\n",
    "    {\n",
    "        \"aggregate\":[]\n",
    "    }\n",
    ")"
   ]
  },
  {
   "cell_type": "code",
   "execution_count": 8,
   "id": "5c723874-00b6-4e71-9c1f-b33783b6635c",
   "metadata": {},
   "outputs": [
    {
     "data": {
      "text/plain": [
       "{'aggregate': ['data 4']}"
      ]
     },
     "execution_count": 8,
     "metadata": {},
     "output_type": "execute_result"
    }
   ],
   "source": [
    "out"
   ]
  },
  {
   "cell_type": "markdown",
   "id": "e46c4524-6733-4570-9aeb-964dffa1c280",
   "metadata": {},
   "source": [
    "### state2"
   ]
  },
  {
   "cell_type": "code",
   "execution_count": 12,
   "id": "cbc77e94-5f69-4ce8-ad5d-7260dffed863",
   "metadata": {},
   "outputs": [],
   "source": [
    "from typing import Annotated\n",
    "from typing_extensions import TypedDict\n",
    "import operator\n",
    "\n",
    "class State(TypedDict):\n",
    "    aggregate: Annotated[list, operator.add]"
   ]
  },
  {
   "cell_type": "code",
   "execution_count": 13,
   "id": "21c24a07-0bc5-4504-b80e-f0a4972e1919",
   "metadata": {},
   "outputs": [],
   "source": [
    "def node_a(state: State):\n",
    "    return {\"aggregate\": [\"data 1\"]}\n",
    "\n",
    "def node_b(state: State):\n",
    "    return {\"aggregate\": [\"data 2\"]}\n",
    "\n",
    "def node_c(state: State):\n",
    "    return {\"aggregate\": [\"data 3\"]}\n",
    "\n",
    "def node_d(state: State):\n",
    "    return {\"aggregate\": [\"data 4\"]}"
   ]
  },
  {
   "cell_type": "code",
   "execution_count": 14,
   "id": "5d467ffe-334d-4997-a1d2-2551d405036e",
   "metadata": {},
   "outputs": [],
   "source": [
    "from langgraph.graph import StateGraph, START, END"
   ]
  },
  {
   "cell_type": "code",
   "execution_count": 15,
   "id": "a92a84d1-55fc-44d2-9763-6f7b72cb00c8",
   "metadata": {},
   "outputs": [],
   "source": [
    "graph = (\n",
    "    StateGraph(State)\n",
    "\n",
    "    .add_node(\"a\", node_a)\n",
    "    .add_node(\"b\", node_b)\n",
    "    .add_node(\"c\", node_c)\n",
    "    .add_node(\"d\", node_d)\n",
    "\n",
    "    .add_edge(START, \"a\")\n",
    "    .add_edge(\"a\", \"b\")\n",
    "    .add_edge(\"b\", \"c\")\n",
    "    .add_edge(\"c\", \"d\")\n",
    "    .add_edge(\"d\", END)\n",
    "\n",
    "    .compile()\n",
    ")"
   ]
  },
  {
   "cell_type": "code",
   "execution_count": 16,
   "id": "9d5bdf99-81d3-4763-9d2e-bbce5da13f46",
   "metadata": {},
   "outputs": [
    {
     "data": {
      "image/png": "[encoded data removed]",
      "text/plain": [
       "<IPython.core.display.Image object>"
      ]
     },
     "metadata": {},
     "output_type": "display_data"
    }
   ],
   "source": [
    "from IPython.display import Image, display\n",
    "diagram = Image(graph.get_graph().draw_mermaid_png())\n",
    "\n",
    "display(diagram)"
   ]
  },
  {
   "cell_type": "code",
   "execution_count": 17,
   "id": "1c8d6e99-7934-41c6-ab0f-db5f4c0f9444",
   "metadata": {},
   "outputs": [],
   "source": [
    "out = graph.invoke(\n",
    "    {\n",
    "        \"aggregate\":[]\n",
    "    }\n",
    ")"
   ]
  },
  {
   "cell_type": "code",
   "execution_count": 18,
   "id": "befc191e-b4d2-46b9-b008-761b8a1351ec",
   "metadata": {},
   "outputs": [
    {
     "data": {
      "text/plain": [
       "{'aggregate': ['data 1', 'data 2', 'data 3', 'data 4']}"
      ]
     },
     "execution_count": 18,
     "metadata": {},
     "output_type": "execute_result"
    }
   ],
   "source": [
    "out"
   ]
  },
  {
   "cell_type": "markdown",
   "id": "b1703f33-15e6-4a4c-8141-e65eda8350fe",
   "metadata": {},
   "source": [
    "### state 3"
   ]
  },
  {
   "cell_type": "code",
   "execution_count": 20,
   "id": "ff047b31-f7fe-41d9-a4ff-19ab692b68a8",
   "metadata": {},
   "outputs": [],
   "source": [
    "from typing import Annotated\n",
    "from typing_extensions import TypedDict\n",
    "from langgraph.graph.message import add_messages\n",
    "\n",
    "class State(TypedDict):\n",
    "    aggregate: Annotated[list, add_messages]"
   ]
  },
  {
   "cell_type": "code",
   "execution_count": 21,
   "id": "0005efaa-bda7-4399-a4bb-916481d12f44",
   "metadata": {},
   "outputs": [],
   "source": [
    "def node_a(state: State):\n",
    "    return {\"aggregate\": [\"data 1\"]}\n",
    "\n",
    "def node_b(state: State):\n",
    "    return {\"aggregate\": [\"data 2\"]}\n",
    "\n",
    "def node_c(state: State):\n",
    "    return {\"aggregate\": [\"data 3\"]}\n",
    "\n",
    "def node_d(state: State):\n",
    "    return {\"aggregate\": [\"data 4\"]}"
   ]
  },
  {
   "cell_type": "code",
   "execution_count": 22,
   "id": "34614ad9-4dc8-434c-9ee7-e5c95efe2d5b",
   "metadata": {},
   "outputs": [],
   "source": [
    "from langgraph.graph import StateGraph, START, END"
   ]
  },
  {
   "cell_type": "code",
   "execution_count": 23,
   "id": "a9afd9d8-db2b-4887-9454-c8a6b1e9b368",
   "metadata": {},
   "outputs": [],
   "source": [
    "graph = (\n",
    "    StateGraph(State)\n",
    "\n",
    "    .add_node(\"a\", node_a)\n",
    "    .add_node(\"b\", node_b)\n",
    "    .add_node(\"c\", node_c)\n",
    "    .add_node(\"d\", node_d)\n",
    "\n",
    "    .add_edge(START, \"a\")\n",
    "    .add_edge(\"a\", \"b\")\n",
    "    .add_edge(\"b\", \"c\")\n",
    "    .add_edge(\"c\", \"d\")\n",
    "    .add_edge(\"d\", END)\n",
    "\n",
    "    .compile()\n",
    ")"
   ]
  },
  {
   "cell_type": "code",
   "execution_count": 24,
   "id": "6d06d18b-c80c-4cb5-b618-62db07555d64",
   "metadata": {},
   "outputs": [
    {
     "data": {
      "image/png": "[encoded data removed]",
      "text/plain": [
       "<IPython.core.display.Image object>"
      ]
     },
     "metadata": {},
     "output_type": "display_data"
    }
   ],
   "source": [
    "from IPython.display import Image, display\n",
    "diagram = Image(graph.get_graph().draw_mermaid_png())\n",
    "\n",
    "display(diagram)"
   ]
  },
  {
   "cell_type": "code",
   "execution_count": 25,
   "id": "3a59111a-39cd-42d0-b2ca-4b52ce80b607",
   "metadata": {},
   "outputs": [],
   "source": [
    "out = graph.invoke(\n",
    "    {\n",
    "        \"aggregate\":[]\n",
    "    }\n",
    ")"
   ]
  },
  {
   "cell_type": "code",
   "execution_count": 26,
   "id": "9ae932e3-05b4-4748-a252-8e08d6b1cb9d",
   "metadata": {},
   "outputs": [
    {
     "data": {
      "text/plain": [
       "{'aggregate': [HumanMessage(content='data 1', additional_kwargs={}, response_metadata={}, id='56de2f7f-82e1-4e07-b7a6-e1132504f994'),\n",
       "  HumanMessage(content='data 2', additional_kwargs={}, response_metadata={}, id='4821506d-e9d5-4bd9-89c5-bad56dcfe245'),\n",
       "  HumanMessage(content='data 3', additional_kwargs={}, response_metadata={}, id='9c5c0639-5b48-4eba-8496-6de7a2e79571'),\n",
       "  HumanMessage(content='data 4', additional_kwargs={}, response_metadata={}, id='e017327c-bfd0-4f6b-b20c-8298d88ee17d')]}"
      ]
     },
     "execution_count": 26,
     "metadata": {},
     "output_type": "execute_result"
    }
   ],
   "source": [
    "out"
   ]
  },
  {
   "cell_type": "code",
   "execution_count": 27,
   "id": "9f3e55d0-c9d9-4c52-ba68-f870353abf48",
   "metadata": {},
   "outputs": [
    {
     "name": "stdout",
     "output_type": "stream",
     "text": [
      "================================\u001b[1m Human Message \u001b[0m=================================\n",
      "\n",
      "data 1\n",
      "================================\u001b[1m Human Message \u001b[0m=================================\n",
      "\n",
      "data 2\n",
      "================================\u001b[1m Human Message \u001b[0m=================================\n",
      "\n",
      "data 3\n",
      "================================\u001b[1m Human Message \u001b[0m=================================\n",
      "\n",
      "data 4\n"
     ]
    }
   ],
   "source": [
    "for msg in out[\"aggregate\"]:\n",
    "    msg.pretty_print()"
   ]
  },
  {
   "cell_type": "markdown",
   "id": "b2fffa7f-da2c-48e2-a08a-c05774a1fb6e",
   "metadata": {},
   "source": [
    "### state4"
   ]
  },
  {
   "cell_type": "code",
   "execution_count": 33,
   "id": "6a952269-cd7d-49c2-b951-90d1f7dd50cb",
   "metadata": {},
   "outputs": [],
   "source": [
    "from langgraph.graph import MessagesState"
   ]
  },
  {
   "cell_type": "code",
   "execution_count": 35,
   "id": "76a9d218-5555-4aca-abdc-e475f1de19c9",
   "metadata": {},
   "outputs": [],
   "source": [
    "def node_a(state: MessagesState):\n",
    "    return {\"messages\": [\"data 1\"]}\n",
    "\n",
    "def node_b(state: MessagesState):\n",
    "    return {\"messages\": [\"data 2\"]}\n",
    "\n",
    "def node_c(state: MessagesState):\n",
    "    return {\"messages\": [\"data 3\"]}\n",
    "\n",
    "def node_d(state: MessagesState):\n",
    "    return {\"messages\": [\"data 4\"]}"
   ]
  },
  {
   "cell_type": "code",
   "execution_count": 36,
   "id": "b88ce03f-8b1c-4716-9f19-859d10614b99",
   "metadata": {},
   "outputs": [],
   "source": [
    "from langgraph.graph import StateGraph, START, END"
   ]
  },
  {
   "cell_type": "code",
   "execution_count": 38,
   "id": "1f8cb674-92ec-43b5-adbf-1acc5ce74b2b",
   "metadata": {},
   "outputs": [],
   "source": [
    "graph = (\n",
    "    StateGraph(MessagesState)\n",
    "\n",
    "    .add_node(\"a\", node_a)\n",
    "    .add_node(\"b\", node_b)\n",
    "    .add_node(\"c\", node_c)\n",
    "    .add_node(\"d\", node_d)\n",
    "\n",
    "    .add_edge(START, \"a\")\n",
    "    .add_edge(\"a\", \"b\")\n",
    "    .add_edge(\"b\", \"c\")\n",
    "    .add_edge(\"c\", \"d\")\n",
    "    .add_edge(\"d\", END)\n",
    "\n",
    "    .compile()\n",
    ")"
   ]
  },
  {
   "cell_type": "code",
   "execution_count": 39,
   "id": "be36a978-54e0-4fd5-9369-78657038f333",
   "metadata": {},
   "outputs": [
    {
     "data": {
      "image/png": "[encoded data removed]",
      "text/plain": [
       "<IPython.core.display.Image object>"
      ]
     },
     "metadata": {},
     "output_type": "display_data"
    }
   ],
   "source": [
    "from IPython.display import Image, display\n",
    "diagram = Image(graph.get_graph().draw_mermaid_png())\n",
    "\n",
    "display(diagram)"
   ]
  },
  {
   "cell_type": "code",
   "execution_count": 40,
   "id": "72ea97ca-3664-42c8-954b-c7754136d4c5",
   "metadata": {},
   "outputs": [],
   "source": [
    "out = graph.invoke(\n",
    "    {\n",
    "        \"messages\":[]\n",
    "    }\n",
    ")"
   ]
  },
  {
   "cell_type": "code",
   "execution_count": 41,
   "id": "0d93c789-5b9e-49a0-977d-34c85b7e6310",
   "metadata": {},
   "outputs": [
    {
     "name": "stdout",
     "output_type": "stream",
     "text": [
      "================================\u001b[1m Human Message \u001b[0m=================================\n",
      "\n",
      "data 1\n",
      "================================\u001b[1m Human Message \u001b[0m=================================\n",
      "\n",
      "data 2\n",
      "================================\u001b[1m Human Message \u001b[0m=================================\n",
      "\n",
      "data 3\n",
      "================================\u001b[1m Human Message \u001b[0m=================================\n",
      "\n",
      "data 4\n"
     ]
    }
   ],
   "source": [
    "for msg in out[\"messages\"]:\n",
    "    msg.pretty_print()"
   ]
  }
 ],
 "metadata": {
  "kernelspec": {
   "display_name": "Python (my_jupyter_env)",
   "language": "python",
   "name": "my_jupyter_env"
  },
  "language_info": {
   "codemirror_mode": {
    "name": "ipython",
    "version": 3
   },
   "file_extension": ".py",
   "mimetype": "text/x-python",
   "name": "python",
   "nbconvert_exporter": "python",
   "pygments_lexer": "ipython3",
   "version": "3.10.10"
  }
 },
 "nbformat": 4,
 "nbformat_minor": 5
}
