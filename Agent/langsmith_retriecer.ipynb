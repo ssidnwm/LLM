{
 "cells": [
  {
   "cell_type": "code",
   "execution_count": 1,
   "id": "cb4016a9-5798-45cc-9102-4338e26cfd7e",
   "metadata": {},
   "outputs": [],
   "source": [
    "from dotenv import load_dotenv, find_dotenv"
   ]
  },
  {
   "cell_type": "code",
   "execution_count": 2,
   "id": "1df350bf-39de-4f91-b4fc-ca89805d90da",
   "metadata": {},
   "outputs": [
    {
     "data": {
      "text/plain": [
       "True"
      ]
     },
     "execution_count": 2,
     "metadata": {},
     "output_type": "execute_result"
    }
   ],
   "source": [
    "# .env 또는 .env.openai 자동 로딩\n",
    "load_dotenv(dotenv_path=find_dotenv(filename=\".env\"), override=True)\n"
   ]
  },
  {
   "cell_type": "code",
   "execution_count": 3,
   "id": "251f65c9-ee31-4e7b-a6d1-d7b5899a5e45",
   "metadata": {},
   "outputs": [],
   "source": [
    "from langchain_openai import ChatOpenAI"
   ]
  },
  {
   "cell_type": "code",
   "execution_count": 4,
   "id": "e27ddb82-e152-4b54-86c1-05b4d7e6f94a",
   "metadata": {},
   "outputs": [],
   "source": [
    "llm = ChatOpenAI(\n",
    "    model_name=\"gpt-4o-mini\",\n",
    "    temperature=1\n",
    ")"
   ]
  },
  {
   "cell_type": "code",
   "execution_count": 5,
   "id": "a1d1e689-04d5-418f-b136-0ffb0b31c43a",
   "metadata": {},
   "outputs": [],
   "source": [
    "out = llm.invoke(\"안녕\")"
   ]
  },
  {
   "cell_type": "code",
   "execution_count": 6,
   "id": "64095068-01da-4459-83f3-8c074cc06c10",
   "metadata": {},
   "outputs": [
    {
     "data": {
      "text/plain": [
       "'안녕하세요! 어떻게 도와드릴까요?'"
      ]
     },
     "execution_count": 6,
     "metadata": {},
     "output_type": "execute_result"
    }
   ],
   "source": [
    "out.content"
   ]
  },
  {
   "cell_type": "code",
   "execution_count": null,
   "id": "4a831d43-a8c4-4c2e-bfcb-97ca3caa7b76",
   "metadata": {},
   "outputs": [],
   "source": [
    "model = ChatOpenAI(\n",
    "    model_name = \"gpt-4o-mini\",\n",
    "    temperature = 0\n",
    ")"
   ]
  },
  {
   "cell_type": "code",
   "execution_count": null,
   "id": "b38a2b86-559c-4a73-9481-d0287bef7800",
   "metadata": {},
   "outputs": [],
   "source": [
    "from langchain_openai import OpenAIEmbeddings"
   ]
  },
  {
   "cell_type": "code",
   "execution_count": null,
   "id": "263c9925-f00a-40f6-a84c-50a53baa3cbf",
   "metadata": {},
   "outputs": [],
   "source": [
    "embedding_model=OpenAIEmbeddings(model=\"text-embedding-3-large\")"
   ]
  },
  {
   "cell_type": "code",
   "execution_count": null,
   "id": "3e6ff392-3ffa-4443-8751-b5ac7d9b2efd",
   "metadata": {},
   "outputs": [],
   "source": [
    "from langchain_chroma import Chroma"
   ]
  },
  {
   "cell_type": "code",
   "execution_count": null,
   "id": "2cbede31-6c38-47c1-861d-8ec1bbe7eca6",
   "metadata": {},
   "outputs": [],
   "source": [
    "db = Chroma(docs_directory=\"~\", embedding_function=embedding_model)"
   ]
  },
  {
   "cell_type": "code",
   "execution_count": null,
   "id": "49717b80-fb20-4550-b094-649e5e30f329",
   "metadata": {},
   "outputs": [],
   "source": [
    "from langchain.retrievers.multi_query import MultiQueryRetriever"
   ]
  },
  {
   "cell_type": "code",
   "execution_count": null,
   "id": "7dcf5c09-77c2-408a-99b5-ad1d3eeebd29",
   "metadata": {},
   "outputs": [],
   "source": [
    "retriever = MultiQueryRetriever.from_llm(\n",
    "    retriever=db.as_retriever(),\n",
    "    llm=model\n",
    ")"
   ]
  },
  {
   "cell_type": "code",
   "execution_count": null,
   "id": "4deda36c-7283-4793-9445-bc4cd8db3d7e",
   "metadata": {},
   "outputs": [],
   "source": [
    "question = \"검색에 대한 질문\""
   ]
  },
  {
   "cell_type": "code",
   "execution_count": null,
   "id": "89947542-ca97-489e-85fb-1c9d9013409b",
   "metadata": {},
   "outputs": [],
   "source": [
    "docs = retriever.invoke(question)\n",
    "docs"
   ]
  },
  {
   "cell_type": "code",
   "execution_count": null,
   "id": "bd179231-8b0a-4399-8f8e-94ebcd365212",
   "metadata": {},
   "outputs": [],
   "source": []
  }
 ],
 "metadata": {
  "kernelspec": {
   "display_name": "Python (my_jupyter_env)",
   "language": "python",
   "name": "my_jupyter_env"
  },
  "language_info": {
   "codemirror_mode": {
    "name": "ipython",
    "version": 3
   },
   "file_extension": ".py",
   "mimetype": "text/x-python",
   "name": "python",
   "nbconvert_exporter": "python",
   "pygments_lexer": "ipython3",
   "version": "3.10.10"
  }
 },
 "nbformat": 4,
 "nbformat_minor": 5
}
