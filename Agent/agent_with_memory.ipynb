{
 "cells": [
  {
   "cell_type": "code",
   "execution_count": null,
   "id": "872a5536-1abd-40f1-8d8e-99b0235aba84",
   "metadata": {},
   "outputs": [],
   "source": [
    "from dotenv import load_dotenv"
   ]
  },
  {
   "cell_type": "code",
   "execution_count": null,
   "id": "b13450fa-f716-4d69-b764-4379cd9902b7",
   "metadata": {},
   "outputs": [],
   "source": [
    "load_dotenv()"
   ]
  },
  {
   "cell_type": "code",
   "execution_count": null,
   "id": "9c68b84e-0ba9-485f-8a8b-c5aa3e407908",
   "metadata": {},
   "outputs": [],
   "source": [
    "def find_phone_number(name: str) -> str:\n",
    "    \"\"\"\n",
    "    주어진 사람들의 전화번호를 찾아서 반환합니다.\n",
    "    전화번호를 찾지 못한 경우 None을 반환합니다.\n",
    "    \"\"\"\n",
    "    phone_book = {\n",
    "        \"문벼리\": \"010-1234-1234\",\n",
    "        \"양승렬\": \"010-2434-2434\",\n",
    "        \"장동원\": \"010-4142-1424\",\n",
    "    }\n",
    "    if name in phone_book:\n",
    "        return phone_book[name]\n",
    "    else:\n",
    "        return None"
   ]
  },
  {
   "cell_type": "code",
   "execution_count": null,
   "id": "31ad5a45-9ce9-47f0-b997-e0508e225601",
   "metadata": {},
   "outputs": [],
   "source": [
    "tools = [\n",
    "    find_phone_number\n",
    "]"
   ]
  },
  {
   "cell_type": "code",
   "execution_count": null,
   "id": "b657bf90-9a82-4079-b9f1-2a0b1055f931",
   "metadata": {},
   "outputs": [],
   "source": [
    "from langchain_openai import ChatOpenAI"
   ]
  },
  {
   "cell_type": "code",
   "execution_count": null,
   "id": "430490ae-a928-4d20-87b9-4f6e390236f4",
   "metadata": {},
   "outputs": [],
   "source": [
    "model = ChatOpenAI(\n",
    "    model_name=\"gpt-4o-mini\"\n",
    ")"
   ]
  },
  {
   "cell_type": "code",
   "execution_count": null,
   "id": "f1e8fce3-4132-4ea8-b9b5-3065f5c30f7d",
   "metadata": {},
   "outputs": [],
   "source": [
    "model_with_tools = model.bind_tools(tools)"
   ]
  },
  {
   "cell_type": "code",
   "execution_count": null,
   "id": "64589923-7928-41ce-a2c3-5e0c7a51eaab",
   "metadata": {},
   "outputs": [],
   "source": [
    "from langgraph.graph import MessagesState, StateGraph, START, END\n",
    "from langgraph.prebuilt import ToolNode, tool_condition"
   ]
  },
  {
   "cell_type": "code",
   "execution_count": null,
   "id": "1c8a1376-c6ba-498a-beb9-c36a81dedf06",
   "metadata": {},
   "outputs": [],
   "source": [
    "def chatbot(state : MessagesState):\n",
    "    result = model_with_tools.invoke(state[\"messages\"])\n",
    "    return {\n",
    "        \"messages\" : [result]\n",
    "    }"
   ]
  },
  {
   "cell_type": "code",
   "execution_count": null,
   "id": "01de2bd9-9d00-4044-9037-00a66f54e46a",
   "metadata": {},
   "outputs": [],
   "source": [
    "graph = (\n",
    "    StateGraph(MessagesState)\n",
    "    .add_node(\"chatbot\", chatbot)\n",
    "    .add_node(\"tools\",ToolNode(tools))\n",
    "\n",
    "    .add_edge(START, \"chatbot\")\n",
    "\n",
    "    .add_conditional_edges(\"chatbot\",tools_condition)\n",
    "    .add_edge(\"tools\",\"chatbot\")\n",
    "    .compile()\n",
    ")"
   ]
  },
  {
   "cell_type": "code",
   "execution_count": null,
   "id": "e21753a1-ba70-49ea-b321-704fe7e63831",
   "metadata": {},
   "outputs": [],
   "source": [
    "diagram = Image(\n",
    "    graph.get_graph().draw_mermaid_png()\n",
    ")\n",
    "display(diagram)"
   ]
  },
  {
   "cell_type": "code",
   "execution_count": null,
   "id": "611ab919-39dd-41c4-b4f7-2bdbd8df9ee9",
   "metadata": {},
   "outputs": [],
   "source": [
    "out = graph.invoke(\n",
    "    {\n",
    "        \"messages\" : \"문벼리의 전화번호를 알려줘\"\n",
    "    }\n",
    ")"
   ]
  },
  {
   "cell_type": "code",
   "execution_count": null,
   "id": "bf3e21aa-f016-422f-8407-f33f6e0b9a20",
   "metadata": {},
   "outputs": [],
   "source": [
    "for msg in out['messages']:\n",
    "    msg.pretty_print()"
   ]
  },
  {
   "cell_type": "markdown",
   "id": "26cdb3df-ae4c-4262-9e4d-5e8659547cd7",
   "metadata": {},
   "source": [
    "## With Memory"
   ]
  },
  {
   "cell_type": "code",
   "execution_count": null,
   "id": "d0eb037b-e31f-47a2-bcc1-ae7003b29730",
   "metadata": {},
   "outputs": [],
   "source": [
    "from langgraph.checkpoint.memory import MemorySaver\n",
    "\n",
    "memory = MemorySaver()"
   ]
  },
  {
   "cell_type": "code",
   "execution_count": null,
   "id": "4310f406-d53e-4497-b3a2-87e27322466c",
   "metadata": {},
   "outputs": [],
   "source": [
    "graph_memory = (\n",
    "    StateGraph(MessagesState)\n",
    "    .add_node(\"chatbot\", chatbot)\n",
    "    .add_node(\"tools\", ToolNode(tools))\n",
    "\n",
    "    .add_edge(START, \"chatbot\")\n",
    "\n",
    "    .add_conditional_edges(\"chatbot\", tool_condition)\n",
    "    .add_edge(\"tools\",\"chatbot\")\n",
    "    .compile(checkpointer=memory)\n",
    ") "
   ]
  },
  {
   "cell_type": "code",
   "execution_count": null,
   "id": "8eec40ed-7163-414e-a8c4-6856807a84c8",
   "metadata": {},
   "outputs": [],
   "source": [
    "from langchain_core.runnables import RunnableConfig\n",
    "\n",
    "config = RunnableConfig(\n",
    "    configurable={\"thread_id\":\"User-A\"},\n",
    ")"
   ]
  },
  {
   "cell_type": "code",
   "execution_count": null,
   "id": "608a96ca-95fb-499b-b016-b33570d1b86f",
   "metadata": {},
   "outputs": [],
   "source": [
    "out=graph_memory.invoke(\n",
    "    {\n",
    "        \"messages\": \"문벼리의 전화번호를 알려주세요\"\n",
    "    },\n",
    "    config\n",
    ")"
   ]
  },
  {
   "cell_type": "code",
   "execution_count": null,
   "id": "bef36292-8b4f-4325-8857-0cbd1b86c193",
   "metadata": {},
   "outputs": [],
   "source": [
    "for msg in out['messages']:\n",
    "    msg.pretty_print"
   ]
  },
  {
   "cell_type": "code",
   "execution_count": null,
   "id": "fe9f3dbe-b7a9-4465-bd91-738ab90e6896",
   "metadata": {},
   "outputs": [],
   "source": [
    "config = RunnableConfig(\n",
    "    configurable={\"thread_id\":\"User-B\"},\n",
    ")"
   ]
  },
  {
   "cell_type": "code",
   "execution_count": null,
   "id": "6d967735-ed8b-40af-ae15-1ce0d3eea6a3",
   "metadata": {},
   "outputs": [],
   "source": [
    "out=graph_memory.invoke(\n",
    "    {\n",
    "        \"messages\": \"방금 찾은 전화번호에 국가코드 1을 더해라\"\n",
    "    },\n",
    "    config\n",
    ")"
   ]
  },
  {
   "cell_type": "code",
   "execution_count": null,
   "id": "10de4e2b-33c8-4006-8bff-668cc8f3b1aa",
   "metadata": {},
   "outputs": [],
   "source": [
    "for msg in out['messages']:\n",
    "    msg.pretty_print"
   ]
  }
 ],
 "metadata": {
  "kernelspec": {
   "display_name": "Python (my_jupyter_env)",
   "language": "python",
   "name": "my_jupyter_env"
  },
  "language_info": {
   "codemirror_mode": {
    "name": "ipython",
    "version": 3
   },
   "file_extension": ".py",
   "mimetype": "text/x-python",
   "name": "python",
   "nbconvert_exporter": "python",
   "pygments_lexer": "ipython3",
   "version": "3.10.10"
  }
 },
 "nbformat": 4,
 "nbformat_minor": 5
}
