{
 "cells": [
  {
   "cell_type": "code",
   "execution_count": 4,
   "id": "314fa9f7-27f9-462e-b309-4c7f049f5728",
   "metadata": {},
   "outputs": [],
   "source": [
    "from dotenv import load_dotenv"
   ]
  },
  {
   "cell_type": "code",
   "execution_count": 5,
   "id": "6b96f241-f007-4b26-af66-a1cab61337f8",
   "metadata": {},
   "outputs": [
    {
     "data": {
      "text/plain": [
       "True"
      ]
     },
     "execution_count": 5,
     "metadata": {},
     "output_type": "execute_result"
    }
   ],
   "source": [
    "load_dotenv()"
   ]
  },
  {
   "cell_type": "code",
   "execution_count": 7,
   "id": "b4c5f6c0-65a8-41d7-9562-fe2849dba855",
   "metadata": {},
   "outputs": [],
   "source": [
    "from langchain_tavily import TavilySearch"
   ]
  },
  {
   "cell_type": "code",
   "execution_count": 8,
   "id": "50545a98-076e-4a30-af69-fbf9da71a770",
   "metadata": {},
   "outputs": [],
   "source": [
    "tavily_search = TavilySearch(max_result=3)"
   ]
  },
  {
   "cell_type": "code",
   "execution_count": 9,
   "id": "c56e3164-18b5-4565-a164-703d18c4ef79",
   "metadata": {},
   "outputs": [],
   "source": [
    "response = tavily_search.invoke(\"Whar is LLM?\")"
   ]
  },
  {
   "cell_type": "code",
   "execution_count": 11,
   "id": "00c33c9d-7b3e-4f33-8b80-046efeb9f0d5",
   "metadata": {},
   "outputs": [
    {
     "data": {
      "text/plain": [
       "dict_keys(['query', 'follow_up_questions', 'answer', 'images', 'results', 'response_time'])"
      ]
     },
     "execution_count": 11,
     "metadata": {},
     "output_type": "execute_result"
    }
   ],
   "source": [
    "response.keys()"
   ]
  },
  {
   "cell_type": "code",
   "execution_count": 12,
   "id": "1b8d979c-3cea-4a09-b4bb-7de6c6fc5b38",
   "metadata": {},
   "outputs": [
    {
     "data": {
      "text/plain": [
       "'Whar is LLM?'"
      ]
     },
     "execution_count": 12,
     "metadata": {},
     "output_type": "execute_result"
    }
   ],
   "source": [
    "response[\"query\"]"
   ]
  },
  {
   "cell_type": "code",
   "execution_count": 14,
   "id": "081885df-f551-44ae-8880-c902eaf31978",
   "metadata": {},
   "outputs": [
    {
     "data": {
      "text/plain": [
       "5"
      ]
     },
     "execution_count": 14,
     "metadata": {},
     "output_type": "execute_result"
    }
   ],
   "source": [
    "len(response[\"results\"])"
   ]
  },
  {
   "cell_type": "code",
   "execution_count": 16,
   "id": "23a2c4a2-f1ec-4043-a107-bb0eeb4a6de0",
   "metadata": {},
   "outputs": [
    {
     "data": {
      "text/plain": [
       "[{'url': 'https://www.cloudflare.com/learning/ai/what-is-large-language-model/',\n",
       "  'title': 'What is an LLM (large language model)? - Cloudflare',\n",
       "  'content': 'Large language models (LLMs) are machine learning models that can comprehend and generate human language text. LLMs are trained on huge sets of data — hence the name \"large.\" LLMs are built on machine learning: specifically, a type of neural network called a transformer model. But the quality of the samples impacts how well LLMs will learn natural language, so an LLM\\'s programmers may use a more curated data set. Fortunately, Cloudflare offers several services to allow developers to quickly start spinning up LLM applications, and other types of AI. Combined with the development platform Cloudflare Workers AI, developers can use Cloudflare to quickly start experimenting with their own LLMs.',\n",
       "  'score': 0.7869018,\n",
       "  'raw_content': None},\n",
       " {'url': 'https://aws.amazon.com/what-is/large-language-model/',\n",
       "  'title': 'What is LLM? - Large Language Models Explained - AWS',\n",
       "  'content': \"- Large Language Models Explained - AWS If you agree, AWS and approved third parties will also use cookies to provide useful site features, remember your preferences, and display relevant content, including relevant advertising. Large language models, also known as LLMs, are very large deep learning models that are pre-trained on vast amounts of data. AWS offers several possibilities for large language model developers. Amazon Bedrock is the easiest way to build and scale generative AI applications with LLMs. Amazon Bedrock is a fully managed service that makes LLMs from Amazon and leading AI startups available through an API, so you can choose from various LLMs to find the model that's best suited for your use case.\",\n",
       "  'score': 0.78294516,\n",
       "  'raw_content': None},\n",
       " {'url': 'https://ask.library.arizona.edu/faq/407985',\n",
       "  'title': 'What is a large language model (LLM)?',\n",
       "  'content': '- University of Arizona Libraries  Image 2: University Libraries 1.   University of Arizona Libraries 2.   University of Arizona Libraries A large language model (LLM) is a type of artificial intelligence that can generate human language and perform related tasks. LLMs can perform various language tasks, such as answering questions, summarizing text, translating between languages, and writing content. *   Beyond ChatGPT: other useful language models LLMs can perform various language tasks, such as answering questions, summarizing text, translating between languages, and writing content. *   Beyond ChatGPT: other useful language models Image 6: Email: library@arizona.edu Image 8: University Libraries Website | Home To learn more, see the University of Arizona Libraries CC BY copyright policy.',\n",
       "  'score': 0.741169,\n",
       "  'raw_content': None},\n",
       " {'url': 'https://azure.microsoft.com/en-us/resources/cloud-computing-dictionary/what-are-large-language-models-llms',\n",
       "  'title': 'What are large language models (LLMs)? - Microsoft Azure',\n",
       "  'content': 'Azure Azure Azure  *   Azure Large language models (LLMs) are advanced AI systems that understand and generate natural language, or human-like text, using the data they’ve been trained on through machine learning techniques. > First developed by OpenAI in 2018, the GPT series introduced the foundational concept of data collection, pretraining, and fine-tuning to LLMs. GPT-2, released in 2019, significantly scaled up the model’s capabilities and improved its ability to generate more contextually relevant language. As a specific type of AI model, LLMs are a subset of the broader AI landscape, one that focuses on processing and generating natural language text. Generative pre-trained transformer (GPT) refers to a specific series of large language models (LLMs) developed by OpenAI. *   What is Azure?',\n",
       "  'score': 0.6867278,\n",
       "  'raw_content': None},\n",
       " {'url': 'https://en.wikipedia.org/wiki/Large_language_model',\n",
       "  'title': 'Large language model - Wikipedia',\n",
       "  'content': '| Concepts | * Parameter * Hyperparameter \"Hyperparameter (machine learning)\") * Loss functions * Regression * Bias–variance tradeoff * Double descent * Overfitting * Clustering * Gradient descent * SGD * Quasi-Newton method * Conjugate gradient method * Backpropagation * Attention \"Attention (machine learning)\") * Convolution * Normalization \"Normalization (machine learning)\") * Batchnorm * Activation * Softmax * Sigmoid * Rectifier \"Rectifier (neural networks)\") * Gating * Weight initialization * Regularization \"Regularization (mathematics)\") * Datasets * Augmentation * Prompt engineering * Reinforcement learning * Q-learning * SARSA * Imitation * Policy gradient * Diffusion * Latent diffusion model * Autoregression * Adversary * RAG * Uncanny valley * RLHF * Self-supervised learning * Reflection \"Reflection (artificial intelligence)\") * Recursive self-improvement * Hallucination \"Hallucination (artificial intelligence)\") * Word embedding * Vibe coding |',\n",
       "  'score': 0.050410144,\n",
       "  'raw_content': None}]"
      ]
     },
     "execution_count": 16,
     "metadata": {},
     "output_type": "execute_result"
    }
   ],
   "source": [
    "response[\"results\"]"
   ]
  },
  {
   "cell_type": "code",
   "execution_count": 17,
   "id": "9daee76a-815f-4e09-9eee-6655615c6d9c",
   "metadata": {},
   "outputs": [
    {
     "data": {
      "text/plain": [
       "{'url': 'https://www.cloudflare.com/learning/ai/what-is-large-language-model/',\n",
       " 'title': 'What is an LLM (large language model)? - Cloudflare',\n",
       " 'content': 'Large language models (LLMs) are machine learning models that can comprehend and generate human language text. LLMs are trained on huge sets of data — hence the name \"large.\" LLMs are built on machine learning: specifically, a type of neural network called a transformer model. But the quality of the samples impacts how well LLMs will learn natural language, so an LLM\\'s programmers may use a more curated data set. Fortunately, Cloudflare offers several services to allow developers to quickly start spinning up LLM applications, and other types of AI. Combined with the development platform Cloudflare Workers AI, developers can use Cloudflare to quickly start experimenting with their own LLMs.',\n",
       " 'score': 0.7869018,\n",
       " 'raw_content': None}"
      ]
     },
     "execution_count": 17,
     "metadata": {},
     "output_type": "execute_result"
    }
   ],
   "source": [
    "response[\"results\"][0]"
   ]
  },
  {
   "cell_type": "code",
   "execution_count": 18,
   "id": "4380ff8e-bc61-425f-9fb9-dc2365b256e4",
   "metadata": {},
   "outputs": [
    {
     "data": {
      "text/plain": [
       "dict_keys(['url', 'title', 'content', 'score', 'raw_content'])"
      ]
     },
     "execution_count": 18,
     "metadata": {},
     "output_type": "execute_result"
    }
   ],
   "source": [
    "response[\"results\"][0].keys()"
   ]
  },
  {
   "cell_type": "code",
   "execution_count": 19,
   "id": "69bf4c30-9052-42e9-acd6-4707c6687636",
   "metadata": {},
   "outputs": [],
   "source": [
    "from langgraph.prebuilt import create_react_agent"
   ]
  },
  {
   "cell_type": "code",
   "execution_count": 20,
   "id": "06d48786-596f-4af8-8713-e69459aacef4",
   "metadata": {},
   "outputs": [],
   "source": [
    "def add(a: float, b: float) -> float:\n",
    "    \"\"\"\n",
    "    ADD two number\n",
    "    \"\"\"\n",
    "    return a + b"
   ]
  },
  {
   "cell_type": "code",
   "execution_count": 21,
   "id": "69c6bb9f-d20d-406c-b134-32980dfcb2b1",
   "metadata": {},
   "outputs": [],
   "source": [
    "math_agent = create_react_agent(\n",
    "    model=\"openai:gpt-4o\",\n",
    "    tools=[add],\n",
    "    name=\"math_expert\",\n",
    ")"
   ]
  },
  {
   "cell_type": "code",
   "execution_count": 22,
   "id": "c4faee7a-5304-4912-9d39-7d8a1f3c3aa0",
   "metadata": {},
   "outputs": [],
   "source": [
    "def web_search(query: str)-> str:\n",
    "    \"\"\"\n",
    "    Search the web for information\n",
    "    \"\"\"\n",
    "    tavily_search = TavilySearch(max_results=1)\n",
    "    response = tavily_search.invoke(query)\n",
    "\n",
    "    return response[\"results\"][0][\"content\"]"
   ]
  },
  {
   "cell_type": "code",
   "execution_count": 23,
   "id": "cad9d381-8537-49f0-9173-8012e22988b4",
   "metadata": {},
   "outputs": [],
   "source": [
    "research_agent = create_react_agent(\n",
    "    model=\"openai:gpt-4o\",\n",
    "    tools=[web_search],\n",
    "    name=\"research_expert\",\n",
    ")"
   ]
  },
  {
   "cell_type": "code",
   "execution_count": 25,
   "id": "2ebde648-08b4-45d8-a1b0-8818c7d5bb9f",
   "metadata": {},
   "outputs": [],
   "source": [
    "from langchain_openai import ChatOpenAI\n",
    "from langgraph_supervisor import create_supervisor"
   ]
  },
  {
   "cell_type": "code",
   "execution_count": 26,
   "id": "fa3d9af4-a19c-4755-a644-02fa65dc77b3",
   "metadata": {},
   "outputs": [],
   "source": [
    "workflow = create_supervisor(\n",
    "    agents = [\n",
    "        research_agent,\n",
    "        math_agent\n",
    "    ],\n",
    "    model=ChatOpenAI(model=\"gpt-4o\"),\n",
    ")"
   ]
  },
  {
   "cell_type": "code",
   "execution_count": 27,
   "id": "5b385e45-daf2-4fbe-8148-0cd805d48364",
   "metadata": {},
   "outputs": [],
   "source": [
    "app = workflow.compile()"
   ]
  },
  {
   "cell_type": "code",
   "execution_count": 28,
   "id": "93e25543-c7f2-4364-8a50-7c0b29c63a85",
   "metadata": {},
   "outputs": [
    {
     "name": "stderr",
     "output_type": "stream",
     "text": [
      "Task supervisor with path ('__pregel_pull', 'supervisor') wrote to unknown channel is_last_step, ignoring it.\n",
      "Task supervisor with path ('__pregel_pull', 'supervisor') wrote to unknown channel remaining_steps, ignoring it.\n",
      "Task supervisor with path ('__pregel_pull', 'supervisor') wrote to unknown channel is_last_step, ignoring it.\n",
      "Task supervisor with path ('__pregel_pull', 'supervisor') wrote to unknown channel remaining_steps, ignoring it.\n"
     ]
    }
   ],
   "source": [
    "result = app.invoke(\n",
    "    {\n",
    "        \"messages\": [{\n",
    "            \"role\": \"user\",\n",
    "            \"content\": \"\"\n",
    "        }\n",
    "        ]\n",
    "    }\n",
    ")"
   ]
  },
  {
   "cell_type": "code",
   "execution_count": 29,
   "id": "0790c201-5c7b-4638-8136-7f3e4b540883",
   "metadata": {},
   "outputs": [
    {
     "name": "stdout",
     "output_type": "stream",
     "text": [
      "================================\u001b[1m Human Message \u001b[0m=================================\n",
      "\n",
      "what's the combine headcount of the FAANG companies in 2024? for adding headcount, make sure to use math_expert\n",
      "==================================\u001b[1m Ai Message \u001b[0m==================================\n",
      "Name: supervisor\n",
      "Tool Calls:\n",
      "  transfer_to_research_expert (call_NYA9HnC5IEZGEukvBbo8DbzS)\n",
      " Call ID: call_NYA9HnC5IEZGEukvBbo8DbzS\n",
      "  Args:\n",
      "=================================\u001b[1m Tool Message \u001b[0m=================================\n",
      "Name: transfer_to_research_expert\n",
      "\n",
      "Successfully transferred to research_expert\n",
      "==================================\u001b[1m Ai Message \u001b[0m==================================\n",
      "Name: research_expert\n",
      "\n",
      "The combined headcount of the FAANG companies in 2024 is the sum of the individual headcounts:\n",
      "\n",
      "- **Meta**: 74,067\n",
      "- **Amazon**: 1,556,000\n",
      "- **Apple**: 164,000\n",
      "- **Netflix**: 14,000\n",
      "- **Alphabet (Google)**: 183,323\n",
      "\n",
      "Total = 74,067 + 1,556,000 + 164,000 + 14,000 + 183,323 = 1,991,390 employees.\n",
      "==================================\u001b[1m Ai Message \u001b[0m==================================\n",
      "Name: research_expert\n",
      "\n",
      "Transferring back to supervisor\n",
      "Tool Calls:\n",
      "  transfer_back_to_supervisor (d37d1ff2-427b-4308-9b5a-0f00fed1b379)\n",
      " Call ID: d37d1ff2-427b-4308-9b5a-0f00fed1b379\n",
      "  Args:\n",
      "=================================\u001b[1m Tool Message \u001b[0m=================================\n",
      "Name: transfer_back_to_supervisor\n",
      "\n",
      "Successfully transferred back to supervisor\n",
      "==================================\u001b[1m Ai Message \u001b[0m==================================\n",
      "Name: supervisor\n",
      "Tool Calls:\n",
      "  transfer_to_math_expert (call_Uly99kA7h7dKSELnsYrKRBwS)\n",
      " Call ID: call_Uly99kA7h7dKSELnsYrKRBwS\n",
      "  Args:\n",
      "=================================\u001b[1m Tool Message \u001b[0m=================================\n",
      "Name: transfer_to_math_expert\n",
      "\n",
      "Successfully transferred to math_expert\n",
      "==================================\u001b[1m Ai Message \u001b[0m==================================\n",
      "Name: math_expert\n",
      "\n",
      "The combined headcount of the FAANG companies in 2024 is 1,991,390 employees.\n",
      "==================================\u001b[1m Ai Message \u001b[0m==================================\n",
      "Name: math_expert\n",
      "\n",
      "Transferring back to supervisor\n",
      "Tool Calls:\n",
      "  transfer_back_to_supervisor (eda45482-45d4-4c76-a38d-e9f799875935)\n",
      " Call ID: eda45482-45d4-4c76-a38d-e9f799875935\n",
      "  Args:\n",
      "=================================\u001b[1m Tool Message \u001b[0m=================================\n",
      "Name: transfer_back_to_supervisor\n",
      "\n",
      "Successfully transferred back to supervisor\n",
      "==================================\u001b[1m Ai Message \u001b[0m==================================\n",
      "Name: supervisor\n",
      "\n",
      "The combined headcount of the FAANG companies in 2024 is 1,991,390 employees.\n"
     ]
    }
   ],
   "source": [
    "for msg in result['messages']:\n",
    "    msg.pretty_print()"
   ]
  }
 ],
 "metadata": {
  "kernelspec": {
   "display_name": "Python (my_jupyter_env)",
   "language": "python",
   "name": "my_jupyter_env"
  },
  "language_info": {
   "codemirror_mode": {
    "name": "ipython",
    "version": 3
   },
   "file_extension": ".py",
   "mimetype": "text/x-python",
   "name": "python",
   "nbconvert_exporter": "python",
   "pygments_lexer": "ipython3",
   "version": "3.10.10"
  }
 },
 "nbformat": 4,
 "nbformat_minor": 5
}
